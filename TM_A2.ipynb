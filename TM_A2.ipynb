{
  "nbformat": 4,
  "nbformat_minor": 0,
  "metadata": {
    "colab": {
      "name": "TM A2.ipynb",
      "provenance": [],
      "collapsed_sections": [],
      "authorship_tag": "ABX9TyPmae+hb38mzN/v1RqsWyiZ",
      "include_colab_link": true
    },
    "kernelspec": {
      "name": "python3",
      "display_name": "Python 3"
    }
  },
  "cells": [
    {
      "cell_type": "markdown",
      "metadata": {
        "id": "view-in-github",
        "colab_type": "text"
      },
      "source": [
        "<a href=\"https://colab.research.google.com/github/PawinData/TM/blob/main/TM_A2.ipynb\" target=\"_parent\"><img src=\"https://colab.research.google.com/assets/colab-badge.svg\" alt=\"Open In Colab\"/></a>"
      ]
    },
    {
      "cell_type": "code",
      "metadata": {
        "id": "vX5d8HiZ07-T",
        "outputId": "55863a19-63d1-4663-e1d3-763c4009f67a",
        "colab": {
          "base_uri": "https://localhost:8080/"
        }
      },
      "source": [
        "!pip install sklearn_crfsuite"
      ],
      "execution_count": 1,
      "outputs": [
        {
          "output_type": "stream",
          "text": [
            "Collecting sklearn_crfsuite\n",
            "  Downloading https://files.pythonhosted.org/packages/25/74/5b7befa513482e6dee1f3dd68171a6c9dfc14c0eaa00f885ffeba54fe9b0/sklearn_crfsuite-0.3.6-py2.py3-none-any.whl\n",
            "Collecting python-crfsuite>=0.8.3\n",
            "\u001b[?25l  Downloading https://files.pythonhosted.org/packages/95/99/869dde6dbf3e0d07a013c8eebfb0a3d30776334e0097f8432b631a9a3a19/python_crfsuite-0.9.7-cp36-cp36m-manylinux1_x86_64.whl (743kB)\n",
            "\u001b[K     |████████████████████████████████| 747kB 3.9MB/s \n",
            "\u001b[?25hRequirement already satisfied: six in /usr/local/lib/python3.6/dist-packages (from sklearn_crfsuite) (1.15.0)\n",
            "Requirement already satisfied: tqdm>=2.0 in /usr/local/lib/python3.6/dist-packages (from sklearn_crfsuite) (4.41.1)\n",
            "Requirement already satisfied: tabulate in /usr/local/lib/python3.6/dist-packages (from sklearn_crfsuite) (0.8.7)\n",
            "Installing collected packages: python-crfsuite, sklearn-crfsuite\n",
            "Successfully installed python-crfsuite-0.9.7 sklearn-crfsuite-0.3.6\n"
          ],
          "name": "stdout"
        }
      ]
    },
    {
      "cell_type": "code",
      "metadata": {
        "id": "isX6o2-ez5on"
      },
      "source": [
        "import numpy as np\n",
        "import pandas as pd\n",
        "import scipy.stats\n",
        "import matplotlib.pyplot as plt\n",
        "import nltk\n",
        "nltk.download('averaged_perceptron_tagger')\n",
        "from nltk.corpus.reader.conll import ConllCorpusReader\n",
        "from sklearn.metrics import make_scorer\n",
        "from sklearn.model_selection import RandomizedSearchCV, cross_val_score\n",
        "from sklearn_crfsuite import CRF, metrics\n",
        "from random import seed"
      ],
      "execution_count": null,
      "outputs": []
    },
    {
      "cell_type": "markdown",
      "metadata": {
        "id": "AC3a9zfN_Ffe"
      },
      "source": [
        "# Pre-processing\n",
        "\n",
        "Build the [reader of dataset](https://www.nltk.org/_modules/nltk/corpus/reader/conll.html) and represent every sentence as a list of tuple (word, POS, OBI)."
      ]
    },
    {
      "cell_type": "code",
      "metadata": {
        "id": "gzxmxGkYGJQp"
      },
      "source": [
        "# a .ConLL file reader\n",
        "READER = ConllCorpusReader(root=\"./\", fileids=\".conll\", columntypes=('words','pos','tree','chunk','ne','srl','ignore'))"
      ],
      "execution_count": null,
      "outputs": []
    },
    {
      "cell_type": "code",
      "metadata": {
        "id": "7CH2tvmDNOdm"
      },
      "source": [
        "def load(filename):\n",
        "    word_pos = [nltk.pos_tag(sentence) for sentence in READER.sents(filename)]\n",
        "    word_obi = list(READER.tagged_sents(filename))\n",
        "    return [[(a,b,d) for (a,b),(c,d) in zip(lst1, lst2)] for lst1,lst2 in zip(word_pos,word_obi)]\n",
        "\n",
        "# training set\n",
        "Train_sents = load(\"wnut17train.conll\")\n",
        "# test set\n",
        "Test_sents = load(\"emerging.test.annotated\")"
      ],
      "execution_count": 3,
      "outputs": []
    },
    {
      "cell_type": "code",
      "metadata": {
        "id": "j-QMFmWWP7mP"
      },
      "source": [
        "# Development set\n",
        "word_pos = [nltk.pos_tag(sentence) for sentence in READER.sents(\"emerging.dev.conll\")[:1008]]\n",
        "word_obi = list(READER.tagged_sents(\"emerging.dev.conll\")[:1008])\n",
        "Dev_sents = [[(a,b,d) for (a,b),(c,d) in zip(lst1, lst2)] for lst1,lst2 in zip(word_pos,word_obi)]"
      ],
      "execution_count": 4,
      "outputs": []
    },
    {
      "cell_type": "markdown",
      "metadata": {
        "id": "UTiLTsehlHky"
      },
      "source": [
        "# EDA"
      ]
    },
    {
      "cell_type": "code",
      "metadata": {
        "id": "FHfmT5nHlLF8",
        "outputId": "4e27f8b4-2cda-4c39-a70f-a2ab70bfba59",
        "colab": {
          "base_uri": "https://localhost:8080/"
        }
      },
      "source": [
        "# words/sentences count\n",
        "print(\"There are\", len(Train_sents), \"sentences and\", sum([len(s) for s in Train_sents]), \"words in the training set.\")\n",
        "print(\"There are\", len(Dev_sents), \"sentences and\", sum([len(s) for s in Dev_sents]), \"words in the development set.\")\n",
        "print(\"There are\", len(Test_sents), \"sentences and\", sum([len(s) for s in Test_sents]), \"words in the test set.\")"
      ],
      "execution_count": 6,
      "outputs": [
        {
          "output_type": "stream",
          "text": [
            "There are 3394 sentences and 62730 words in the training set.\n",
            "There are 1008 sentences and 15723 words in the development set.\n",
            "There are 1287 sentences and 23394 words in the test set.\n"
          ],
          "name": "stdout"
        }
      ]
    },
    {
      "cell_type": "code",
      "metadata": {
        "id": "kaQKmLm9pkFw",
        "outputId": "759c18f8-24eb-4ad2-e274-a7aceedbd74c",
        "colab": {
          "base_uri": "https://localhost:8080/",
          "height": 375
        }
      },
      "source": [
        "# distribution of sentence length\n",
        "fig, axs = plt.subplots(1,3, figsize=(20,5))\n",
        "fig.suptitle(\"Distribution of Sentence Length\", fontsize=20)\n",
        "for i,(S,C,T) in enumerate(zip([Train_sents,Dev_sents,Test_sents],\n",
        "                               [\"steelblue\",\"darkolivegreen\",\"darksalmon\"],\n",
        "                               [\"Training Set\",\"Development Set\",\"Test Set\"])):\n",
        "    axs[i].hist([len(s) for s in S], bins=40, color=C)\n",
        "    axs[i].set_title(T, fontsize=18, color=C)\n",
        "    axs[i].set_xlabel(\"Number of Tokens in a Sentence\", fontsize=16)\n",
        "    axs[i].set_ylabel(\"Count\", fontsize=16)\n",
        "plt.show()"
      ],
      "execution_count": 8,
      "outputs": [
        {
          "output_type": "display_data",
          "data": {
            "image/png": "[encoded data removed]",
            "text/plain": [
              "<Figure size 1080x360 with 3 Axes>"
            ]
          },
          "metadata": {
            "tags": [],
            "needs_background": "light"
          }
        }
      ]
    },
    {
      "cell_type": "code",
      "metadata": {
        "id": "pm5WyC9JpL65",
        "outputId": "f31d2875-af29-49e2-e4cd-fc83d63ca083",
        "colab": {
          "base_uri": "https://localhost:8080/",
          "height": 389
        }
      },
      "source": [
        "# distribution of POS tags\n",
        "def extract_POS(filename):\n",
        "    word_pos = [nltk.pos_tag(sentence) for sentence in READER.sents(filename)]\n",
        "    pos = list()\n",
        "    for sentence in word_pos:\n",
        "        pos.extend([b for a,b in sentence])\n",
        "    return pos\n",
        "\n",
        "Train_pos = extract_POS(\"wnut17train.conll\")  # training set\n",
        "Test_pos = extract_POS(\"emerging.test.annotated\")  # test set\n",
        "word_pos = [nltk.pos_tag(sentence) for sentence in READER.sents(\"emerging.dev.conll\")[:1008]]\n",
        "Dev_pos = list()\n",
        "for sentence in word_pos:\n",
        "    Dev_pos.extend([b for a,b in sentence])    # dev set\n",
        "\n",
        "Train_pos.sort(reverse=True)  # training set\n",
        "Dev_pos.sort(reverse=True)    # test set\n",
        "Test_pos.sort(reverse=True)   # dev set\n",
        "\n",
        "fg, ax = plt.subplots(1,3, figsize=(20,5))\n",
        "fg.suptitle(\"Distribution of Part-of-Speech Tags\", fontsize=20)\n",
        "for i,(S,C,T) in enumerate(zip([Train_pos,Dev_pos,Test_pos],\n",
        "                               [\"steelblue\",\"darkolivegreen\",\"darksalmon\"],\n",
        "                               [\"Training Set\",\"Development Set\",\"Test Set\"])):\n",
        "    ax[i].hist(S, color=C)\n",
        "    ax[i].set_title(T, fontsize=18, color=C)\n",
        "    ax[i].set_xlabel(\"POS Tags\", fontsize=16)\n",
        "    ax[i].set_ylabel(\"Count\", fontsize=16)\n",
        "    ax[i].tick_params(labelrotation=90)\n",
        "plt.show()"
      ],
      "execution_count": 7,
      "outputs": [
        {
          "output_type": "display_data",
          "data": {
            "image/png": "[encoded data removed]",
            "text/plain": [
              "<Figure size 1440x360 with 3 Axes>"
            ]
          },
          "metadata": {
            "tags": [],
            "needs_background": "light"
          }
        }
      ]
    },
    {
      "cell_type": "code",
      "metadata": {
        "id": "rJvzTlFmnRST",
        "outputId": "1326ccba-fb97-406b-dd59-fa4737678600",
        "colab": {
          "base_uri": "https://localhost:8080/",
          "height": 489
        }
      },
      "source": [
        "# proportion of O-tags\n",
        "def prop_O(data_sents):\n",
        "    count_O = sum([np.sum(np.array([c for a,b,c in sentence])==\"O\") for sentence in data_sents])\n",
        "    count_all = sum([len(sentence) for sentence in data_sents])\n",
        "    print(\"{:.2%} tokens are labelled with the O-Tag.\\n\".format(count_O/count_all))\n",
        "\n",
        "print(\"In the training set,\")\n",
        "prop_O(Train_sents)\n",
        "print(\"In the development set,\")\n",
        "prop_O(Dev_sents)\n",
        "print(\"In the test set,\")\n",
        "prop_O(Test_sents)\n",
        "\n",
        "# distribution of B-Tag and I-Tag\n",
        "def count_BI(data_sents):   \n",
        "    lst = list()\n",
        "    for sentence in data_sents:\n",
        "        lst.extend([c for a,b,c in sentence])\n",
        "    Tags = list(set((lst)))\n",
        "    Tags.remove(\"O\")\n",
        "    Tags.sort()\n",
        "    lst = np.array(lst)\n",
        "    COUNT = dict()\n",
        "    for tag in Tags:\n",
        "        COUNT[tag] = np.sum(lst==tag)\n",
        "    return COUNT\n",
        "\n",
        "CLR = ['darkslategray','lightsteelblue','seagreen','aquamarine','darkcyan','palegreen',\n",
        "       'indigo','plum','darkmagenta','pink','purple','violet']\n",
        "pic,axes = plt.subplots(1,3, figsize=(20,5))\n",
        "#pic.suptitle(\"Distribution of B-Tag and I-Tag\", fontsize=20)\n",
        "for i,(S,C,T,r) in enumerate(zip([Train_sents,Dev_sents,Test_sents],\n",
        "                                 [\"Steelblue\",\"darkolivegreen\",\"darksalmon\"],\n",
        "                                 [\"Training Set\",\"Development Set\",\"Test Set\"],\n",
        "                                 [0.9496, 0.9206, 0.9256])):\n",
        "    data = count_BI(S)\n",
        "    axes[i].pie(list(data.values()), labels=tuple(data.keys()), \n",
        "                autopct='%1.2f%%', colors=CLR, radius=15*(1-r))\n",
        "    axes[i].set_title(T, fontsize=18, color=C)\n",
        "    #axes[i].axis('equal')\n",
        "plt.show()"
      ],
      "execution_count": 46,
      "outputs": [
        {
          "output_type": "stream",
          "text": [
            "In the training set,\n",
            "94.96% tokens are labelled with the O-Tag.\n",
            "\n",
            "In the development set,\n",
            "92.06% tokens are labelled with the O-Tag.\n",
            "\n",
            "In the test set,\n",
            "92.56% tokens are labelled with the O-Tag.\n",
            "\n"
          ],
          "name": "stdout"
        },
        {
          "output_type": "display_data",
          "data": {
            "image/png": "[encoded data removed]",
            "text/plain": [
              "<Figure size 1440x360 with 3 Axes>"
            ]
          },
          "metadata": {
            "tags": []
          }
        }
      ]
    },
    {
      "cell_type": "markdown",
      "metadata": {
        "id": "OMhkN7j-KGEB"
      },
      "source": [
        "# Baseline\n",
        "\n",
        "Extract the OBI label and the following features from each word in a sentence. Build a model of Conditional Random Field (**CRF**) on the training data and evaluate its performance on the test set. As a baseline, generate **transition features** that associate all of possible label pairs and **iterate $100$ times at most** by the **L-BFGS algorithm of Gradient Descent** with Elastic-Net regularization to fit model parameters; in specific, **L1-regularization** is controlled by $c_1 = 0.1$ and **L2-regularization** by $c_2 = 0.1$.\n",
        "\n",
        "**Features:**\n",
        "1.   **Word Identity**: lowercased form\n",
        "2.   **Word Suffix**: the last two and three characters\n",
        "3.   **Word Shape**: whether a word is a digit, is uppercased, or starts with an uppercase character\n",
        "4.   **Part-of-Speech Tag**: noun, verb, adjective, e.t.c\n",
        "5.   **BOS**: whether a word is the start of sentence\n",
        "6.   **EOS**: whether a word is the end of sentence\n",
        "\n"
      ]
    },
    {
      "cell_type": "code",
      "metadata": {
        "id": "Y9kFWpxhKLsi"
      },
      "source": [
        "# extract features and labels\n",
        "def word2features(sent, i):\n",
        "    word = sent[i][0]\n",
        "    postag = sent[i][1]\n",
        "\n",
        "    features = {'bias': 1.0,\n",
        "                'word.lower()': word.lower(),        # word identity\n",
        "                'word[-3:]': word[-3:],              # word suffix \n",
        "                'word[-2:]': word[-2:],\n",
        "                'word.isupper()': word.isupper(),    # word shape\n",
        "                'word.istitle()': word.istitle(),\n",
        "                'word.isdigit()': word.isdigit(),\n",
        "                'postag': postag,                    # POS tag\n",
        "                'postag[:2]': postag[:2],\n",
        "               }\n",
        "    if i > 0:\n",
        "        word1 = sent[i-1][0]\n",
        "        postag1 = sent[i-1][1]\n",
        "        features.update({'-1:word.lower()': word1.lower(),\n",
        "                          '-1:word.istitle()': word1.istitle(),\n",
        "                          '-1:word.isupper()': word1.isupper(),\n",
        "                          '-1:postag': postag1,\n",
        "                          '-1:postag[:2]': postag1[:2],\n",
        "                      })\n",
        "    else:\n",
        "        features['BOS'] = True                      # BOS\n",
        "\n",
        "    if i < len(sent)-1:\n",
        "        word1 = sent[i+1][0]\n",
        "        postag1 = sent[i+1][1]\n",
        "        features.update({'+1:word.lower()': word1.lower(),\n",
        "                         '+1:word.istitle()': word1.istitle(),\n",
        "                         '+1:word.isupper()': word1.isupper(),\n",
        "                         '+1:postag': postag1,\n",
        "                         '+1:postag[:2]': postag1[:2],\n",
        "                       })\n",
        "    else:\n",
        "        features['EOS'] = True                     # EOS\n",
        "\n",
        "    return features\n",
        "\n",
        "\n",
        "def sent2features(sent):\n",
        "    return [word2features(sent, i) for i in range(len(sent))]\n",
        "\n",
        "def sent2labels(sent):\n",
        "    return [label for token, postag, label in sent]\n",
        "\n",
        "def setup(data_sents):\n",
        "    return [sent2features(s) for s in data_sents], [sent2labels(s) for s in data_sents]"
      ],
      "execution_count": 10,
      "outputs": []
    },
    {
      "cell_type": "code",
      "metadata": {
        "id": "s8G9DBEvZwbb"
      },
      "source": [
        "# set up datasets\n",
        "X_train,y_train = setup(Train_sents)\n",
        "X_test, y_test  = setup(Test_sents)\n",
        "X_dev,  y_dev   = setup(Dev_sents)"
      ],
      "execution_count": 11,
      "outputs": []
    },
    {
      "cell_type": "code",
      "metadata": {
        "id": "lQFD7vSmKHLR"
      },
      "source": [
        "# training\n",
        "baseline = CRF(algorithm='lbfgs', c1=0.1, c2=0.1, max_iterations=100, all_possible_transitions=True)\n",
        "baseline.fit(X_train, y_train)"
      ],
      "execution_count": null,
      "outputs": []
    },
    {
      "cell_type": "code",
      "metadata": {
        "id": "z0Wz1buRAgTw",
        "outputId": "64197e23-7fdb-48fd-88b0-5179f7576e78",
        "colab": {
          "base_uri": "https://localhost:8080/"
        }
      },
      "source": [
        "# evaluate\n",
        "print(\"Overall Accuracy on Test Set:\", baseline.score(X_test, y_test), \"\\n\")\n",
        "\n",
        "labels = list(baseline.classes_)\n",
        "labels.remove('O')\n",
        "sorted_labels = sorted(labels, key = lambda name: (name[1:], name[0]))\n",
        "print(metrics.flat_classification_report(y_test, baseline.predict(X_test), labels=sorted_labels, digits=4))"
      ],
      "execution_count": 13,
      "outputs": [
        {
          "output_type": "stream",
          "text": [
            "Overall Accuracy on Test Set: 0.9286141745746773 \n",
            "\n",
            "                 precision    recall  f1-score   support\n",
            "\n",
            "  B-corporation     0.0000    0.0000    0.0000        66\n",
            "  I-corporation     0.0000    0.0000    0.0000        22\n",
            "B-creative-work     0.3333    0.0352    0.0637       142\n",
            "I-creative-work     0.2963    0.0367    0.0653       218\n",
            "        B-group     0.3000    0.0364    0.0649       165\n",
            "        I-group     0.3571    0.0714    0.1190        70\n",
            "     B-location     0.3846    0.2333    0.2905       150\n",
            "     I-location     0.2308    0.0638    0.1000        94\n",
            "       B-person     0.5514    0.1375    0.2201       429\n",
            "       I-person     0.5472    0.2214    0.3152       131\n",
            "      B-product     0.6000    0.0236    0.0455       127\n",
            "      I-product     0.3750    0.0476    0.0845       126\n",
            "\n",
            "      micro avg     0.4297    0.0931    0.1530      1740\n",
            "      macro avg     0.3313    0.0756    0.1141      1740\n",
            "   weighted avg     0.4009    0.0931    0.1422      1740\n",
            "\n"
          ],
          "name": "stdout"
        }
      ]
    },
    {
      "cell_type": "markdown",
      "metadata": {
        "id": "gOBnOwkrqEpm"
      },
      "source": [
        "The baseline run performs rather poorly for recognizing **B-tags and I-tags**, although the overall accuracy reaches as high as $93\\%$. Recall scores are particularly low."
      ]
    },
    {
      "cell_type": "markdown",
      "metadata": {
        "id": "gkMZPHaMAgmW"
      },
      "source": [
        "# Hyperparameters Optimization\n",
        "\n",
        "Execute a grid search for better algorithm and optimal hyperparameters of the CRF model. Candidate algorithms are **Gradient Descent with L-BFGS method** and **Stochastic Gradient Descent with L2 regularization**. Also, check if generating **transition features** improves the labeling. \n",
        "\n",
        "Performance is evaluated by the **F1-score** of B-tags and I-tags on different **evaluation sets**. The optimal hyperparameters are those scoring the highest on the evaluation set."
      ]
    },
    {
      "cell_type": "markdown",
      "metadata": {
        "id": "Ztx6lf49deuT"
      },
      "source": [
        "## Cross-Validation\n",
        "\n",
        "Randomly split the training set into $K=5$ subsets. In each of the $5$ runs, train the model on $4$ subsets merged and compute the score on the the other subset, then the performance yielded by a specific combination of hyperparameters is evaluated by the average of these $5$ scores.\n",
        "\n",
        "Execute a random search on $c_1 \\sim \\exp(-2\\nu)$ and $c_2 \\sim \\exp(-20\\nu)$. $50$ independent samples of $(c_1, c_2)$ are generated and tried for model fitting."
      ]
    },
    {
      "cell_type": "code",
      "metadata": {
        "id": "eJjomZdheprI",
        "outputId": "d16615f1-d507-4f25-a571-41d40dd93bcf",
        "colab": {
          "base_uri": "https://localhost:8080/"
        }
      },
      "source": [
        "# randomm search of (c1, c2, all_possible_transitions) using Gradient Descent with L-BFGS\n",
        "\n",
        "seed(29)\n",
        "\n",
        "net = CRF(algorithm='lbfgs', max_iterations=100)\n",
        "params_space = {'c1': scipy.stats.expon(scale=0.5), \n",
        "                'c2': scipy.stats.expon(scale=0.05),\n",
        "                'all_possible_transitions': [True,False]\n",
        "               }\n",
        "rs = RandomizedSearchCV(net, params_space,\n",
        "                        cv=5,\n",
        "                        verbose=1,\n",
        "                        n_jobs=-1,\n",
        "                        n_iter=50,\n",
        "                        scoring=make_scorer(metrics.flat_f1_score, average='weighted', labels=labels))\n",
        "rs.fit(X_train, y_train)"
      ],
      "execution_count": 16,
      "outputs": [
        {
          "output_type": "stream",
          "text": [
            "Fitting 5 folds for each of 50 candidates, totalling 250 fits\n"
          ],
          "name": "stdout"
        },
        {
          "output_type": "stream",
          "text": [
            "/usr/local/lib/python3.6/dist-packages/sklearn/base.py:197: FutureWarning: From version 0.24, get_params will raise an AttributeError if a parameter cannot be retrieved as an instance attribute. Previously it would return None.\n",
            "  FutureWarning)\n",
            "[Parallel(n_jobs=-1)]: Using backend LokyBackend with 2 concurrent workers.\n",
            "[Parallel(n_jobs=-1)]: Done  46 tasks      | elapsed: 11.5min\n",
            "[Parallel(n_jobs=-1)]: Done 196 tasks      | elapsed: 48.1min\n",
            "[Parallel(n_jobs=-1)]: Done 250 out of 250 | elapsed: 61.0min finished\n"
          ],
          "name": "stderr"
        },
        {
          "output_type": "execute_result",
          "data": {
            "text/plain": [
              "RandomizedSearchCV(cv=5, error_score=nan,\n",
              "                   estimator=CRF(algorithm='lbfgs', all_possible_states=None,\n",
              "                                 all_possible_transitions=None, averaging=None,\n",
              "                                 c=None, c1=None, c2=None,\n",
              "                                 calibration_candidates=None,\n",
              "                                 calibration_eta=None,\n",
              "                                 calibration_max_trials=None,\n",
              "                                 calibration_rate=None,\n",
              "                                 calibration_samples=None, delta=None,\n",
              "                                 epsilon=None, error_sensitive=None, gamma=None,\n",
              "                                 keep_...\n",
              "                                        'c2': <scipy.stats._distn_infrastructure.rv_frozen object at 0x7faaebfb07b8>},\n",
              "                   pre_dispatch='2*n_jobs', random_state=None, refit=True,\n",
              "                   return_train_score=False,\n",
              "                   scoring=make_scorer(flat_f1_score, average=weighted, labels=['B-location', 'I-location', 'B-group', 'B-corporation', 'B-person', 'B-creative-work', 'B-product', 'I-person', 'I-creative-work', 'I-corporation', 'I-group', 'I-product']),\n",
              "                   verbose=1)"
            ]
          },
          "metadata": {
            "tags": []
          },
          "execution_count": 16
        }
      ]
    },
    {
      "cell_type": "code",
      "metadata": {
        "id": "aBP8_MHEEsRP",
        "outputId": "fe99cc64-e28a-4564-cea8-fdcaea7bd115",
        "colab": {
          "base_uri": "https://localhost:8080/"
        }
      },
      "source": [
        "# optimized results\n",
        "print(\"Using Gradient Descent with L-BFGS, \\n\")\n",
        "print('Best Parameters:', rs.best_params_)\n",
        "print('Best CV Score:', rs.best_score_)\n",
        "print('Model Size: {:0.2f}M'.format(rs.best_estimator_.size_ / 10**6))"
      ],
      "execution_count": 17,
      "outputs": [
        {
          "output_type": "stream",
          "text": [
            "Using Gradient Descent with L-BFGS, \n",
            "\n",
            "Best Parameters: {'all_possible_transitions': True, 'c1': 0.1506461620793222, 'c2': 0.015507926153636843}\n",
            "Best CV Score: 0.4209605149935597\n",
            "Model Size: 0.63M\n"
          ],
          "name": "stdout"
        }
      ]
    },
    {
      "cell_type": "code",
      "metadata": {
        "id": "HetPMeVQE2iJ",
        "outputId": "71b4c8db-588c-45eb-a9fd-fdabb7c5836b",
        "colab": {
          "base_uri": "https://localhost:8080/"
        }
      },
      "source": [
        "# evaluate\n",
        "net = rs.best_estimator_\n",
        "print(\"Overall Accuracy on Test Set:\", net.score(X_test,y_test))\n",
        "print(metrics.flat_classification_report(y_test, net.predict(X_test), labels=sorted_labels, digits=4))"
      ],
      "execution_count": 19,
      "outputs": [
        {
          "output_type": "stream",
          "text": [
            "Overall Accuracy on Test Set: 0.9278874925194495\n",
            "                 precision    recall  f1-score   support\n",
            "\n",
            "  B-corporation     0.0000    0.0000    0.0000        66\n",
            "  I-corporation     0.0000    0.0000    0.0000        22\n",
            "B-creative-work     0.3125    0.0352    0.0633       142\n",
            "I-creative-work     0.3333    0.0505    0.0876       218\n",
            "        B-group     0.2083    0.0303    0.0529       165\n",
            "        I-group     0.2941    0.0714    0.1149        70\n",
            "     B-location     0.3441    0.2133    0.2634       150\n",
            "     I-location     0.3214    0.0957    0.1475        94\n",
            "       B-person     0.6000    0.1259    0.2081       429\n",
            "       I-person     0.5106    0.1832    0.2697       131\n",
            "      B-product     0.5000    0.0157    0.0305       127\n",
            "      I-product     0.1923    0.0397    0.0658       126\n",
            "\n",
            "      micro avg     0.4000    0.0874    0.1434      1740\n",
            "      macro avg     0.3014    0.0717    0.1086      1740\n",
            "   weighted avg     0.3827    0.0874    0.1351      1740\n",
            "\n"
          ],
          "name": "stdout"
        }
      ]
    },
    {
      "cell_type": "code",
      "metadata": {
        "id": "8rqvYbvD7xy3",
        "outputId": "48c1230a-fa16-4542-cd17-628f83598e4a",
        "colab": {
          "base_uri": "https://localhost:8080/"
        }
      },
      "source": [
        "# randomm search of (c2, all_possible_transitions) using Stochastic Gradient Descent with L2 Regularization\n",
        "\n",
        "seed(59)\n",
        "\n",
        "l2 = CRF(algorithm='l2sgd', max_iterations=100)\n",
        "params_space = {\n",
        "                'c2': scipy.stats.expon(scale=0.05),\n",
        "                'all_possible_transitions': [True,False]\n",
        "               }\n",
        "rs = RandomizedSearchCV(l2, params_space,\n",
        "                        cv=5,\n",
        "                        verbose=1,\n",
        "                        n_jobs=-1,\n",
        "                        n_iter=50,\n",
        "                        scoring=make_scorer(metrics.flat_f1_score, average='weighted', labels=labels))\n",
        "rs.fit(X_train, y_train)"
      ],
      "execution_count": 20,
      "outputs": [
        {
          "output_type": "stream",
          "text": [
            "Fitting 5 folds for each of 50 candidates, totalling 250 fits\n"
          ],
          "name": "stdout"
        },
        {
          "output_type": "stream",
          "text": [
            "/usr/local/lib/python3.6/dist-packages/sklearn/base.py:197: FutureWarning: From version 0.24, get_params will raise an AttributeError if a parameter cannot be retrieved as an instance attribute. Previously it would return None.\n",
            "  FutureWarning)\n",
            "[Parallel(n_jobs=-1)]: Using backend LokyBackend with 2 concurrent workers.\n",
            "[Parallel(n_jobs=-1)]: Done  46 tasks      | elapsed: 12.3min\n",
            "[Parallel(n_jobs=-1)]: Done 196 tasks      | elapsed: 51.8min\n",
            "[Parallel(n_jobs=-1)]: Done 250 out of 250 | elapsed: 65.8min finished\n"
          ],
          "name": "stderr"
        },
        {
          "output_type": "execute_result",
          "data": {
            "text/plain": [
              "RandomizedSearchCV(cv=5, error_score=nan,\n",
              "                   estimator=CRF(algorithm='l2sgd', all_possible_states=None,\n",
              "                                 all_possible_transitions=None, averaging=None,\n",
              "                                 c=None, c1=None, c2=None,\n",
              "                                 calibration_candidates=None,\n",
              "                                 calibration_eta=None,\n",
              "                                 calibration_max_trials=None,\n",
              "                                 calibration_rate=None,\n",
              "                                 calibration_samples=None, delta=None,\n",
              "                                 epsilon=None, error_sensitive=None, gamma=None,\n",
              "                                 keep_...\n",
              "                                        'c2': <scipy.stats._distn_infrastructure.rv_frozen object at 0x7faaea3d3d68>},\n",
              "                   pre_dispatch='2*n_jobs', random_state=None, refit=True,\n",
              "                   return_train_score=False,\n",
              "                   scoring=make_scorer(flat_f1_score, average=weighted, labels=['B-location', 'I-location', 'B-group', 'B-corporation', 'B-person', 'B-creative-work', 'B-product', 'I-person', 'I-creative-work', 'I-corporation', 'I-group', 'I-product']),\n",
              "                   verbose=1)"
            ]
          },
          "metadata": {
            "tags": []
          },
          "execution_count": 20
        }
      ]
    },
    {
      "cell_type": "code",
      "metadata": {
        "id": "p4A0NMxT8Kfz",
        "outputId": "863264d4-f5db-49b1-ba2a-aefb96abb82a",
        "colab": {
          "base_uri": "https://localhost:8080/"
        }
      },
      "source": [
        "# optimized results\n",
        "print(\"Using Stochastic Gradient Descent with L2 Regularization, \\n\")\n",
        "print('Best Parameters:', rs.best_params_)\n",
        "print('Best CV Score:', rs.best_score_)\n",
        "print('Model Size: {:0.2f}M'.format(rs.best_estimator_.size_ / 10**6))"
      ],
      "execution_count": 21,
      "outputs": [
        {
          "output_type": "stream",
          "text": [
            "Using Stochastic Gradient Descent with L2 Regularization, \n",
            "\n",
            "Best Parameters: {'all_possible_transitions': True, 'c2': 0.008186604647271476}\n",
            "Best CV Score: 0.4345221982876831\n",
            "Model Size: 3.83M\n"
          ],
          "name": "stdout"
        }
      ]
    },
    {
      "cell_type": "code",
      "metadata": {
        "id": "whsiiZyP8j3t",
        "outputId": "4a757963-77a7-480b-f223-8a571a9f9eec",
        "colab": {
          "base_uri": "https://localhost:8080/"
        }
      },
      "source": [
        "# evaluate\n",
        "l2 = rs.best_estimator_\n",
        "print(\"Overall Accuracy on Test Set:\", l2.score(X_test,y_test))\n",
        "print(metrics.flat_classification_report(y_test, l2.predict(X_test), labels=sorted_labels, digits=4))"
      ],
      "execution_count": 23,
      "outputs": [
        {
          "output_type": "stream",
          "text": [
            "Overall Accuracy on Test Set: 0.9289988886039156\n",
            "                 precision    recall  f1-score   support\n",
            "\n",
            "  B-corporation     0.0000    0.0000    0.0000        66\n",
            "  I-corporation     0.0000    0.0000    0.0000        22\n",
            "B-creative-work     0.3333    0.0282    0.0519       142\n",
            "I-creative-work     0.3889    0.0321    0.0593       218\n",
            "        B-group     0.1351    0.0303    0.0495       165\n",
            "        I-group     0.1333    0.0286    0.0471        70\n",
            "     B-location     0.3556    0.2133    0.2667       150\n",
            "     I-location     0.4000    0.0851    0.1404        94\n",
            "       B-person     0.5267    0.1608    0.2464       429\n",
            "       I-person     0.5424    0.2443    0.3368       131\n",
            "      B-product     0.6000    0.0236    0.0455       127\n",
            "      I-product     0.7143    0.0397    0.0752       126\n",
            "\n",
            "      micro avg     0.4185    0.0960    0.1561      1740\n",
            "      macro avg     0.3441    0.0738    0.1099      1740\n",
            "   weighted avg     0.4126    0.0960    0.1437      1740\n",
            "\n"
          ],
          "name": "stdout"
        }
      ]
    },
    {
      "cell_type": "markdown",
      "metadata": {
        "id": "lRabfbGSeqLk"
      },
      "source": [
        "Cross-validation on the training set either worsens the performance on the test set or only has insignificant effect.\n",
        "\n",
        "## Development Set\n",
        "\n",
        "\n",
        "Execute a grid search on $(c_1,c_2) \\in [0.01, 0.8] \\times [0.01, 1]$ and use the development set for evaluation."
      ]
    },
    {
      "cell_type": "code",
      "metadata": {
        "id": "9BUxKB05AmBY"
      },
      "source": [
        "# grid search of hyperparameters (c1,c2, all_possible_transitions)\n",
        "\n",
        "seed(79)\n",
        "\n",
        "def score(algorithm, transitions):\n",
        "    if algorithm=='lbfgs':\n",
        "        crf = CRF(algorithm='lbfgs', c1=c1, c2=c2, max_iterations=100, all_possible_transitions=transitions)\n",
        "    if algorithm=='l2sgd':\n",
        "        crf = CRF(algorithm='l2sgd', c2=c2, max_iterations=100, all_possible_transitions=transitions)\n",
        "    crf.fit(X_train, y_train)\n",
        "    return metrics.flat_f1_score(y_dev, crf.predict(X_dev), average='weighted', labels=labels)\n",
        "\n",
        "LB = dict()\n",
        "a,b,k = 0.01, 0.8, 15\n",
        "for c1 in np.linspace(a,b,k):\n",
        "    lst = list()\n",
        "    for c2 in np.linspace(a,b,k):\n",
        "        grizzly = np.mean([score('lbfgs', True) for run in range(3)])\n",
        "        panda  = np.mean([score('lbfgs',False) for run in range(3)])\n",
        "        lst.append((grizzly,panda))\n",
        "    LB[\"c1 = \"+str(round(c1,2))] = lst\n",
        "LB = pd.DataFrame(LB, index=[\"c2 = \"+str(round(ele,2)) for ele in np.linspace(a,b,k)])\n",
        "\n",
        "L2 = dict()\n",
        "for c2 in np.linspace(0.01, 1, 25):\n",
        "    grizzly = np.mean([score('l2sgd', True) for run in range(5)])\n",
        "    panda  = np.mean([score('l2sgd',False) for run in range(5)])\n",
        "    L2[\"c2 = \"+str(round(c2,2))] = (grizzly,panda)\n",
        "L2 = pd.DataFrame(L2, index=[\"Transition Features\", \"No Transitions\"])"
      ],
      "execution_count": null,
      "outputs": []
    },
    {
      "cell_type": "code",
      "metadata": {
        "id": "5oEcXXfpv2Ep",
        "outputId": "bae4e394-78ac-41de-aea4-c8f7ab68fe53",
        "colab": {
          "base_uri": "https://localhost:8080/",
          "height": 1000
        }
      },
      "source": [
        "LB.to_pickle(\"GridSearch_c1_c2.pkl\")\n",
        "LB"
      ],
      "execution_count": 26,
      "outputs": [
        {
          "output_type": "execute_result",
          "data": {
            "text/html": [
              "<div>\n",
              "<style scoped>\n",
              "    .dataframe tbody tr th:only-of-type {\n",
              "        vertical-align: middle;\n",
              "    }\n",
              "\n",
              "    .dataframe tbody tr th {\n",
              "        vertical-align: top;\n",
              "    }\n",
              "\n",
              "    .dataframe thead th {\n",
              "        text-align: right;\n",
              "    }\n",
              "</style>\n",
              "<table border=\"1\" class=\"dataframe\">\n",
              "  <thead>\n",
              "    <tr style=\"text-align: right;\">\n",
              "      <th></th>\n",
              "      <th>c1 = 0.01</th>\n",
              "      <th>c1 = 0.07</th>\n",
              "      <th>c1 = 0.12</th>\n",
              "      <th>c1 = 0.18</th>\n",
              "      <th>c1 = 0.24</th>\n",
              "      <th>c1 = 0.29</th>\n",
              "      <th>c1 = 0.35</th>\n",
              "      <th>c1 = 0.4</th>\n",
              "      <th>c1 = 0.46</th>\n",
              "      <th>c1 = 0.52</th>\n",
              "      <th>c1 = 0.57</th>\n",
              "      <th>c1 = 0.63</th>\n",
              "      <th>c1 = 0.69</th>\n",
              "      <th>c1 = 0.74</th>\n",
              "      <th>c1 = 0.8</th>\n",
              "    </tr>\n",
              "  </thead>\n",
              "  <tbody>\n",
              "    <tr>\n",
              "      <th>c2 = 0.01</th>\n",
              "      <td>(0.17417275709264737, 0.16564697519144722)</td>\n",
              "      <td>(0.16834479255209675, 0.1684883812570754)</td>\n",
              "      <td>(0.16803891605660728, 0.1685192126694068)</td>\n",
              "      <td>(0.17275807682631159, 0.16356721823271894)</td>\n",
              "      <td>(0.16990651143135257, 0.17028583202834532)</td>\n",
              "      <td>(0.16562609107746412, 0.16797823031325212)</td>\n",
              "      <td>(0.17248930739178878, 0.1751056644940944)</td>\n",
              "      <td>(0.16964214294731036, 0.15999373295764135)</td>\n",
              "      <td>(0.16424999004698976, 0.17076033523441644)</td>\n",
              "      <td>(0.16588150046431266, 0.1668752573486966)</td>\n",
              "      <td>(0.16103750031753875, 0.16382015698570868)</td>\n",
              "      <td>(0.1670871453008538, 0.1686358249975529)</td>\n",
              "      <td>(0.16442829328941067, 0.16294040775079235)</td>\n",
              "      <td>(0.16872913773664136, 0.16256485237225327)</td>\n",
              "      <td>(0.1668489277760832, 0.1608834259818322)</td>\n",
              "    </tr>\n",
              "    <tr>\n",
              "      <th>c2 = 0.07</th>\n",
              "      <td>(0.17079620120953387, 0.16090506063330506)</td>\n",
              "      <td>(0.1691038438645144, 0.16309835672268866)</td>\n",
              "      <td>(0.1659773481768645, 0.16985649943966)</td>\n",
              "      <td>(0.16934932431362648, 0.16628833911158433)</td>\n",
              "      <td>(0.1670710597828752, 0.1670203445488724)</td>\n",
              "      <td>(0.1643260183435403, 0.16823342034738908)</td>\n",
              "      <td>(0.1604310505790096, 0.16856122098513024)</td>\n",
              "      <td>(0.1679342583436975, 0.16822579318911934)</td>\n",
              "      <td>(0.16376138277473862, 0.1710475605289872)</td>\n",
              "      <td>(0.17209557584272175, 0.16919742020290585)</td>\n",
              "      <td>(0.16942697997361014, 0.1676302817067513)</td>\n",
              "      <td>(0.1737306655015315, 0.15527925337887188)</td>\n",
              "      <td>(0.16924029670994858, 0.1653545837257078)</td>\n",
              "      <td>(0.16318077463712874, 0.16180484964094138)</td>\n",
              "      <td>(0.1614724530773755, 0.1600679515160816)</td>\n",
              "    </tr>\n",
              "    <tr>\n",
              "      <th>c2 = 0.12</th>\n",
              "      <td>(0.1626850443495006, 0.1614946743249917)</td>\n",
              "      <td>(0.17128139188247146, 0.16311806847226631)</td>\n",
              "      <td>(0.16741205050046415, 0.1714791766473707)</td>\n",
              "      <td>(0.17035478244791627, 0.16787293089238883)</td>\n",
              "      <td>(0.1635686855211658, 0.1657051579677454)</td>\n",
              "      <td>(0.16624465665876698, 0.1635003536932997)</td>\n",
              "      <td>(0.16406394985473147, 0.15747855529634472)</td>\n",
              "      <td>(0.1626711808075603, 0.17320078860160013)</td>\n",
              "      <td>(0.16579026462870156, 0.16955977705612094)</td>\n",
              "      <td>(0.16335789094008316, 0.16493691432916158)</td>\n",
              "      <td>(0.1757774212866786, 0.16469984816970012)</td>\n",
              "      <td>(0.17472337126384688, 0.16055680377512102)</td>\n",
              "      <td>(0.17422341368561986, 0.1572940759474097)</td>\n",
              "      <td>(0.1673895425937764, 0.16695393545908263)</td>\n",
              "      <td>(0.15884698720385979, 0.1561019382998483)</td>\n",
              "    </tr>\n",
              "    <tr>\n",
              "      <th>c2 = 0.18</th>\n",
              "      <td>(0.16657666981063235, 0.16863781813758347)</td>\n",
              "      <td>(0.17260497708514524, 0.17140001718172249)</td>\n",
              "      <td>(0.16841426952636115, 0.16708009312308778)</td>\n",
              "      <td>(0.17221460072150951, 0.17215122857501508)</td>\n",
              "      <td>(0.1632478617353502, 0.17102305960408123)</td>\n",
              "      <td>(0.16575725235434424, 0.16903206539595925)</td>\n",
              "      <td>(0.16833787702001643, 0.1667736142166488)</td>\n",
              "      <td>(0.16778404180691256, 0.1740423877082331)</td>\n",
              "      <td>(0.16194091846237435, 0.17139458073095218)</td>\n",
              "      <td>(0.16596985258327776, 0.17115321371555234)</td>\n",
              "      <td>(0.16535403975640497, 0.1598247241517306)</td>\n",
              "      <td>(0.17085901200219392, 0.16038653971042666)</td>\n",
              "      <td>(0.16546915499714349, 0.16745998941084783)</td>\n",
              "      <td>(0.1729730962040937, 0.1574115672981069)</td>\n",
              "      <td>(0.16884129827984626, 0.16384615180194187)</td>\n",
              "    </tr>\n",
              "    <tr>\n",
              "      <th>c2 = 0.24</th>\n",
              "      <td>(0.16148640568723985, 0.1599283179234723)</td>\n",
              "      <td>(0.1661451641872364, 0.16789068850297242)</td>\n",
              "      <td>(0.16612631216149737, 0.17441495557196637)</td>\n",
              "      <td>(0.1669958351274734, 0.17149796607663526)</td>\n",
              "      <td>(0.16625101647800355, 0.16874931213058467)</td>\n",
              "      <td>(0.16468377184989558, 0.1632279428243732)</td>\n",
              "      <td>(0.1618957545172286, 0.16970913131081408)</td>\n",
              "      <td>(0.16877949843368947, 0.16336999683141235)</td>\n",
              "      <td>(0.1608321379303573, 0.15885595271527644)</td>\n",
              "      <td>(0.17799011992870137, 0.16656448812480426)</td>\n",
              "      <td>(0.17021290775013945, 0.17421733971472955)</td>\n",
              "      <td>(0.16350609142432804, 0.1664459420899174)</td>\n",
              "      <td>(0.16568220723657948, 0.16974558269846685)</td>\n",
              "      <td>(0.16041849857116164, 0.16005457686406582)</td>\n",
              "      <td>(0.17126265968346152, 0.15850962111042333)</td>\n",
              "    </tr>\n",
              "    <tr>\n",
              "      <th>c2 = 0.29</th>\n",
              "      <td>(0.1581534633559079, 0.16246923228665194)</td>\n",
              "      <td>(0.16874091860737847, 0.16407445238609075)</td>\n",
              "      <td>(0.17338850902781103, 0.17038702912041878)</td>\n",
              "      <td>(0.16636906306527882, 0.17058589840975166)</td>\n",
              "      <td>(0.16670278318204804, 0.16717148753855318)</td>\n",
              "      <td>(0.16347513460507113, 0.165239892991107)</td>\n",
              "      <td>(0.16425780841552554, 0.1646294877981142)</td>\n",
              "      <td>(0.16605920939135776, 0.16984170634004714)</td>\n",
              "      <td>(0.1681211453502621, 0.16058687925357074)</td>\n",
              "      <td>(0.17265000190008936, 0.16800683890173373)</td>\n",
              "      <td>(0.16855808948953424, 0.1599869752724297)</td>\n",
              "      <td>(0.16388886418163287, 0.16498718502625587)</td>\n",
              "      <td>(0.1587709706824587, 0.16196648754712437)</td>\n",
              "      <td>(0.16337182356454832, 0.1623161798981609)</td>\n",
              "      <td>(0.16618726162574618, 0.15470648795759276)</td>\n",
              "    </tr>\n",
              "    <tr>\n",
              "      <th>c2 = 0.35</th>\n",
              "      <td>(0.1501268309094195, 0.1560785232791645)</td>\n",
              "      <td>(0.16485033415515254, 0.1703895656968796)</td>\n",
              "      <td>(0.16622609266602004, 0.17121318750150136)</td>\n",
              "      <td>(0.16579996496941776, 0.17109807320230166)</td>\n",
              "      <td>(0.1663174556835512, 0.17178698053027294)</td>\n",
              "      <td>(0.1663868646165576, 0.16336769112464658)</td>\n",
              "      <td>(0.16369593961426196, 0.17347958884384562)</td>\n",
              "      <td>(0.17026393487424438, 0.16953834366770446)</td>\n",
              "      <td>(0.17026240273950702, 0.16637158738872154)</td>\n",
              "      <td>(0.17691012870634049, 0.16934720513958668)</td>\n",
              "      <td>(0.17075520105336553, 0.17265732546642967)</td>\n",
              "      <td>(0.16324701762109786, 0.16553128254830063)</td>\n",
              "      <td>(0.16737837633554062, 0.16951242528737212)</td>\n",
              "      <td>(0.16893519319617104, 0.16718373930242528)</td>\n",
              "      <td>(0.1720623343213418, 0.16564214807872613)</td>\n",
              "    </tr>\n",
              "    <tr>\n",
              "      <th>c2 = 0.4</th>\n",
              "      <td>(0.1541449106753215, 0.15685030692202498)</td>\n",
              "      <td>(0.17382794378760533, 0.16936959400245585)</td>\n",
              "      <td>(0.17072315547503006, 0.17195391069633295)</td>\n",
              "      <td>(0.17358562308334902, 0.17187176857835665)</td>\n",
              "      <td>(0.16440293616325252, 0.1715512543437948)</td>\n",
              "      <td>(0.16396042298749258, 0.16669053494276007)</td>\n",
              "      <td>(0.16619766231864538, 0.16858405934806384)</td>\n",
              "      <td>(0.1692838216231837, 0.16851274108204176)</td>\n",
              "      <td>(0.16892769626813017, 0.1607931110894505)</td>\n",
              "      <td>(0.18367559336176784, 0.17053660749877983)</td>\n",
              "      <td>(0.16702930213994063, 0.17225104910066227)</td>\n",
              "      <td>(0.1747509469599179, 0.16668011293426774)</td>\n",
              "      <td>(0.16396421483050796, 0.16349758228969508)</td>\n",
              "      <td>(0.17339359773600657, 0.16786043738926884)</td>\n",
              "      <td>(0.16701755688025147, 0.15756209447341385)</td>\n",
              "    </tr>\n",
              "    <tr>\n",
              "      <th>c2 = 0.46</th>\n",
              "      <td>(0.14950638844987177, 0.15379248487761327)</td>\n",
              "      <td>(0.16977093501406873, 0.17163936236100694)</td>\n",
              "      <td>(0.16943988700200352, 0.17317970839517424)</td>\n",
              "      <td>(0.17131324415583712, 0.1666648078625121)</td>\n",
              "      <td>(0.16617794096658878, 0.17097655370740847)</td>\n",
              "      <td>(0.16463101169463903, 0.16321144141555402)</td>\n",
              "      <td>(0.16648431571048075, 0.17755262893267684)</td>\n",
              "      <td>(0.1624139612443539, 0.17418207337545513)</td>\n",
              "      <td>(0.166040054755641, 0.1652395772398689)</td>\n",
              "      <td>(0.16597421193714468, 0.16684489606216266)</td>\n",
              "      <td>(0.17359373683106769, 0.17050075989487615)</td>\n",
              "      <td>(0.16828329233268235, 0.1741930052648991)</td>\n",
              "      <td>(0.16782637111755952, 0.16307731007767615)</td>\n",
              "      <td>(0.17220504009590856, 0.1612491614411237)</td>\n",
              "      <td>(0.16788330777094443, 0.16773051797131702)</td>\n",
              "    </tr>\n",
              "    <tr>\n",
              "      <th>c2 = 0.52</th>\n",
              "      <td>(0.14516896610009655, 0.15228424360143025)</td>\n",
              "      <td>(0.16693991579612563, 0.16918298543661833)</td>\n",
              "      <td>(0.16809105404506972, 0.1730328246112985)</td>\n",
              "      <td>(0.16878350847600251, 0.1699427787655073)</td>\n",
              "      <td>(0.162798416079711, 0.16967844691347422)</td>\n",
              "      <td>(0.16194534364924354, 0.16440690822574727)</td>\n",
              "      <td>(0.1624244725940236, 0.17072549382184457)</td>\n",
              "      <td>(0.16144953525138786, 0.16024460307532198)</td>\n",
              "      <td>(0.1776114874277794, 0.16908738195511905)</td>\n",
              "      <td>(0.16372649201452058, 0.17961993754626446)</td>\n",
              "      <td>(0.165916443458015, 0.16682529114506303)</td>\n",
              "      <td>(0.16648676843307947, 0.16425109803711402)</td>\n",
              "      <td>(0.16866437287343347, 0.1635450194952575)</td>\n",
              "      <td>(0.16782739165597368, 0.17213106144084)</td>\n",
              "      <td>(0.17478117773385668, 0.16044897549530493)</td>\n",
              "    </tr>\n",
              "    <tr>\n",
              "      <th>c2 = 0.57</th>\n",
              "      <td>(0.1506974033533633, 0.15646771097492249)</td>\n",
              "      <td>(0.17030169289331, 0.16981253311312247)</td>\n",
              "      <td>(0.1706793683376037, 0.17180779367227464)</td>\n",
              "      <td>(0.16904627864416488, 0.17101294688764954)</td>\n",
              "      <td>(0.1662881631372367, 0.16631647522281998)</td>\n",
              "      <td>(0.1665597630085475, 0.16520837868152957)</td>\n",
              "      <td>(0.163550616982608, 0.16745331690270385)</td>\n",
              "      <td>(0.17046625881834462, 0.16271757302110373)</td>\n",
              "      <td>(0.15872725047181951, 0.17465549851383863)</td>\n",
              "      <td>(0.16236306485564628, 0.1699365602575689)</td>\n",
              "      <td>(0.17259879428043576, 0.15940805695940433)</td>\n",
              "      <td>(0.16685046107560395, 0.1643848230385648)</td>\n",
              "      <td>(0.16931252285230883, 0.1591515467433286)</td>\n",
              "      <td>(0.16992514169556458, 0.1701824947623587)</td>\n",
              "      <td>(0.16416622920857318, 0.16880671935027056)</td>\n",
              "    </tr>\n",
              "    <tr>\n",
              "      <th>c2 = 0.63</th>\n",
              "      <td>(0.1452644623417732, 0.14954352476440905)</td>\n",
              "      <td>(0.1612332650958783, 0.16684338228725074)</td>\n",
              "      <td>(0.16940474086085197, 0.16813454282615806)</td>\n",
              "      <td>(0.1699705157508987, 0.17116108651113057)</td>\n",
              "      <td>(0.16060928884617878, 0.17199604451789197)</td>\n",
              "      <td>(0.16969834259234576, 0.16691712758072172)</td>\n",
              "      <td>(0.16502614925805084, 0.16105775145471588)</td>\n",
              "      <td>(0.16742615151231113, 0.16888450418654433)</td>\n",
              "      <td>(0.1644437561254439, 0.1660977837306432)</td>\n",
              "      <td>(0.16687170537627952, 0.17291754752626765)</td>\n",
              "      <td>(0.16224435177550123, 0.1618193605036948)</td>\n",
              "      <td>(0.16117689341097086, 0.16611783595318352)</td>\n",
              "      <td>(0.16466783483851036, 0.1592522199784416)</td>\n",
              "      <td>(0.1704847922460906, 0.16758322047119636)</td>\n",
              "      <td>(0.15952306733884355, 0.16321184913273376)</td>\n",
              "    </tr>\n",
              "    <tr>\n",
              "      <th>c2 = 0.69</th>\n",
              "      <td>(0.14170945926432382, 0.146496923633832)</td>\n",
              "      <td>(0.16402048334540748, 0.1660822757493062)</td>\n",
              "      <td>(0.16635575603690703, 0.17507585183963717)</td>\n",
              "      <td>(0.17017376587703434, 0.17060795915007576)</td>\n",
              "      <td>(0.16971960983106749, 0.16644003801907278)</td>\n",
              "      <td>(0.16163961777207148, 0.1662955396581066)</td>\n",
              "      <td>(0.15928672889378243, 0.1644779716471619)</td>\n",
              "      <td>(0.16026259312999508, 0.1581105327366951)</td>\n",
              "      <td>(0.1629901390958886, 0.1709065779742117)</td>\n",
              "      <td>(0.16177355539703045, 0.17006672527607128)</td>\n",
              "      <td>(0.17157187779298344, 0.16988840988877843)</td>\n",
              "      <td>(0.16681477644983836, 0.166382933276516)</td>\n",
              "      <td>(0.16664920322333854, 0.1624803889841953)</td>\n",
              "      <td>(0.1700191150906629, 0.15863540835497608)</td>\n",
              "      <td>(0.16240440396508282, 0.16890950084499598)</td>\n",
              "    </tr>\n",
              "    <tr>\n",
              "      <th>c2 = 0.74</th>\n",
              "      <td>(0.14574674786252798, 0.14542772211556373)</td>\n",
              "      <td>(0.16437636938393593, 0.1712384330060995)</td>\n",
              "      <td>(0.1682683914944594, 0.1671248965800287)</td>\n",
              "      <td>(0.16724208370103133, 0.17110686402543626)</td>\n",
              "      <td>(0.16331409649634887, 0.17099295624535923)</td>\n",
              "      <td>(0.16418190859706416, 0.16633964701872417)</td>\n",
              "      <td>(0.16600000402249082, 0.1750861692654576)</td>\n",
              "      <td>(0.1652797006463515, 0.16986513570348893)</td>\n",
              "      <td>(0.16147171126865942, 0.15809540214549117)</td>\n",
              "      <td>(0.15999003807573448, 0.1649640810117233)</td>\n",
              "      <td>(0.1624967356843664, 0.16363623428658766)</td>\n",
              "      <td>(0.16766994099824314, 0.1626267994069721)</td>\n",
              "      <td>(0.15915412469645482, 0.16215480779207994)</td>\n",
              "      <td>(0.16474629400469246, 0.16495253348800987)</td>\n",
              "      <td>(0.16793092138375343, 0.1628837228310398)</td>\n",
              "    </tr>\n",
              "    <tr>\n",
              "      <th>c2 = 0.8</th>\n",
              "      <td>(0.15065721611284696, 0.14294875515631153)</td>\n",
              "      <td>(0.1704208816092094, 0.1695739447968295)</td>\n",
              "      <td>(0.168794050771647, 0.16728706644356509)</td>\n",
              "      <td>(0.17146899209515873, 0.16820090508219585)</td>\n",
              "      <td>(0.16334004766145938, 0.1645718199735292)</td>\n",
              "      <td>(0.16208961307802264, 0.16313881499410782)</td>\n",
              "      <td>(0.1692381454179915, 0.16243044841435633)</td>\n",
              "      <td>(0.16522857660883644, 0.16929816510578063)</td>\n",
              "      <td>(0.16229406082588596, 0.16300189001331125)</td>\n",
              "      <td>(0.17266777056144664, 0.16534394906739106)</td>\n",
              "      <td>(0.1579797122732286, 0.16496592302257065)</td>\n",
              "      <td>(0.16839418691386507, 0.16609287575838533)</td>\n",
              "      <td>(0.16379628573843702, 0.15885036172804262)</td>\n",
              "      <td>(0.16758394835214988, 0.16409614363402528)</td>\n",
              "      <td>(0.16808165348945922, 0.16407476879204924)</td>\n",
              "    </tr>\n",
              "  </tbody>\n",
              "</table>\n",
              "</div>"
            ],
            "text/plain": [
              "                                            c1 = 0.01  ...                                    c1 = 0.8\n",
              "c2 = 0.01  (0.17417275709264737, 0.16564697519144722)  ...    (0.1668489277760832, 0.1608834259818322)\n",
              "c2 = 0.07  (0.17079620120953387, 0.16090506063330506)  ...    (0.1614724530773755, 0.1600679515160816)\n",
              "c2 = 0.12    (0.1626850443495006, 0.1614946743249917)  ...   (0.15884698720385979, 0.1561019382998483)\n",
              "c2 = 0.18  (0.16657666981063235, 0.16863781813758347)  ...  (0.16884129827984626, 0.16384615180194187)\n",
              "c2 = 0.24   (0.16148640568723985, 0.1599283179234723)  ...  (0.17126265968346152, 0.15850962111042333)\n",
              "c2 = 0.29   (0.1581534633559079, 0.16246923228665194)  ...  (0.16618726162574618, 0.15470648795759276)\n",
              "c2 = 0.35    (0.1501268309094195, 0.1560785232791645)  ...   (0.1720623343213418, 0.16564214807872613)\n",
              "c2 = 0.4    (0.1541449106753215, 0.15685030692202498)  ...  (0.16701755688025147, 0.15756209447341385)\n",
              "c2 = 0.46  (0.14950638844987177, 0.15379248487761327)  ...  (0.16788330777094443, 0.16773051797131702)\n",
              "c2 = 0.52  (0.14516896610009655, 0.15228424360143025)  ...  (0.17478117773385668, 0.16044897549530493)\n",
              "c2 = 0.57   (0.1506974033533633, 0.15646771097492249)  ...  (0.16416622920857318, 0.16880671935027056)\n",
              "c2 = 0.63   (0.1452644623417732, 0.14954352476440905)  ...  (0.15952306733884355, 0.16321184913273376)\n",
              "c2 = 0.69    (0.14170945926432382, 0.146496923633832)  ...  (0.16240440396508282, 0.16890950084499598)\n",
              "c2 = 0.74  (0.14574674786252798, 0.14542772211556373)  ...   (0.16793092138375343, 0.1628837228310398)\n",
              "c2 = 0.8   (0.15065721611284696, 0.14294875515631153)  ...  (0.16808165348945922, 0.16407476879204924)\n",
              "\n",
              "[15 rows x 15 columns]"
            ]
          },
          "metadata": {
            "tags": []
          },
          "execution_count": 26
        }
      ]
    },
    {
      "cell_type": "code",
      "metadata": {
        "id": "GBYgOaanwD-i",
        "outputId": "f90b09b1-2718-4c9d-95be-bfddbe1d3cae",
        "colab": {
          "base_uri": "https://localhost:8080/",
          "height": 182
        }
      },
      "source": [
        "L2.to_pickle(\"GridSearch_L2.pkl\")\n",
        "L2"
      ],
      "execution_count": 32,
      "outputs": [
        {
          "output_type": "execute_result",
          "data": {
            "text/html": [
              "<div>\n",
              "<style scoped>\n",
              "    .dataframe tbody tr th:only-of-type {\n",
              "        vertical-align: middle;\n",
              "    }\n",
              "\n",
              "    .dataframe tbody tr th {\n",
              "        vertical-align: top;\n",
              "    }\n",
              "\n",
              "    .dataframe thead th {\n",
              "        text-align: right;\n",
              "    }\n",
              "</style>\n",
              "<table border=\"1\" class=\"dataframe\">\n",
              "  <thead>\n",
              "    <tr style=\"text-align: right;\">\n",
              "      <th></th>\n",
              "      <th>c2 = 0.01</th>\n",
              "      <th>c2 = 0.05</th>\n",
              "      <th>c2 = 0.09</th>\n",
              "      <th>c2 = 0.13</th>\n",
              "      <th>c2 = 0.18</th>\n",
              "      <th>c2 = 0.22</th>\n",
              "      <th>c2 = 0.26</th>\n",
              "      <th>c2 = 0.3</th>\n",
              "      <th>c2 = 0.34</th>\n",
              "      <th>c2 = 0.38</th>\n",
              "      <th>c2 = 0.42</th>\n",
              "      <th>c2 = 0.46</th>\n",
              "      <th>c2 = 0.5</th>\n",
              "      <th>c2 = 0.55</th>\n",
              "      <th>c2 = 0.59</th>\n",
              "      <th>c2 = 0.63</th>\n",
              "      <th>c2 = 0.67</th>\n",
              "      <th>c2 = 0.71</th>\n",
              "      <th>c2 = 0.75</th>\n",
              "      <th>c2 = 0.79</th>\n",
              "      <th>c2 = 0.84</th>\n",
              "      <th>c2 = 0.88</th>\n",
              "      <th>c2 = 0.92</th>\n",
              "      <th>c2 = 0.96</th>\n",
              "      <th>c2 = 1.0</th>\n",
              "    </tr>\n",
              "  </thead>\n",
              "  <tbody>\n",
              "    <tr>\n",
              "      <th>Transition Features</th>\n",
              "      <td>0.177457</td>\n",
              "      <td>0.162284</td>\n",
              "      <td>0.168738</td>\n",
              "      <td>0.174862</td>\n",
              "      <td>0.162446</td>\n",
              "      <td>0.169750</td>\n",
              "      <td>0.153743</td>\n",
              "      <td>0.152961</td>\n",
              "      <td>0.149647</td>\n",
              "      <td>0.160908</td>\n",
              "      <td>0.156654</td>\n",
              "      <td>0.157132</td>\n",
              "      <td>0.153367</td>\n",
              "      <td>0.157062</td>\n",
              "      <td>0.148836</td>\n",
              "      <td>0.153346</td>\n",
              "      <td>0.157398</td>\n",
              "      <td>0.159138</td>\n",
              "      <td>0.143015</td>\n",
              "      <td>0.142209</td>\n",
              "      <td>0.143783</td>\n",
              "      <td>0.141751</td>\n",
              "      <td>0.140688</td>\n",
              "      <td>0.143426</td>\n",
              "      <td>0.140521</td>\n",
              "    </tr>\n",
              "    <tr>\n",
              "      <th>No Transitions</th>\n",
              "      <td>0.169353</td>\n",
              "      <td>0.178811</td>\n",
              "      <td>0.169451</td>\n",
              "      <td>0.172666</td>\n",
              "      <td>0.159826</td>\n",
              "      <td>0.155642</td>\n",
              "      <td>0.175079</td>\n",
              "      <td>0.159291</td>\n",
              "      <td>0.149807</td>\n",
              "      <td>0.159755</td>\n",
              "      <td>0.172491</td>\n",
              "      <td>0.162528</td>\n",
              "      <td>0.154048</td>\n",
              "      <td>0.156199</td>\n",
              "      <td>0.158579</td>\n",
              "      <td>0.150906</td>\n",
              "      <td>0.155504</td>\n",
              "      <td>0.139634</td>\n",
              "      <td>0.164313</td>\n",
              "      <td>0.149461</td>\n",
              "      <td>0.175494</td>\n",
              "      <td>0.156372</td>\n",
              "      <td>0.142766</td>\n",
              "      <td>0.149711</td>\n",
              "      <td>0.133680</td>\n",
              "    </tr>\n",
              "  </tbody>\n",
              "</table>\n",
              "</div>"
            ],
            "text/plain": [
              "                     c2 = 0.01  c2 = 0.05  ...  c2 = 0.96  c2 = 1.0\n",
              "Transition Features   0.177457   0.162284  ...   0.143426  0.140521\n",
              "No Transitions        0.169353   0.178811  ...   0.149711  0.133680\n",
              "\n",
              "[2 rows x 25 columns]"
            ]
          },
          "metadata": {
            "tags": []
          },
          "execution_count": 32
        }
      ]
    },
    {
      "cell_type": "markdown",
      "metadata": {
        "id": "TLrmvR9tXU8x"
      },
      "source": [
        "According to the grid search, **promising candidates** include:\n",
        "\n",
        "1.   (algorithm, c1, c2, all_possible_transitions) = ('lbfgs', 0.52, 0.24, True)\n",
        "2.   (algorithm, c1, c2, all_possible_transitions) = ('lbfgs', 0.52, 0.4, True)\n",
        "3.   (algorithm, c1, c2, all_possible_transitions) = ('l2sgd', None, 0.05, False)\n",
        "4.   (algorithm, c1, c2, all_possible_transitions) = ('l2sgd', None, 0.01, True)\n",
        "\n",
        "Increase the number of iterations from $100$ to $1000$, in order to obtain more stable results, and score on the development set again. It turns out that the optimal performance can be achieved by **Stochastic Gradient Descent** with **L2-Regularization term** $c_2 = 0.05$ and giving up all **transition features**.\n",
        "\n",
        "After this optimization of hyperparameters, the weighted average F1-score of labelling across B-tags and I-tags for $6$ name entities rises from $0.1422$ to $0.1583$. In particular, the CRF model is finally capable of recognizing some corporations."
      ]
    },
    {
      "cell_type": "code",
      "metadata": {
        "id": "SCGHmQCaAmIb",
        "outputId": "725df375-2fb9-4928-80f0-06306d5261c7",
        "colab": {
          "base_uri": "https://localhost:8080/"
        }
      },
      "source": [
        "# further explore promising candidates\n",
        "\n",
        "seed(109)\n",
        "\n",
        "print(\"When using Gradient Descent with L-BFGS method,\")\n",
        "print(\"c1 = 0.52, c2 = 0.24, with transition features,\")\n",
        "crf = CRF(algorithm='lbfgs', c1=0.52, c2=0.24, max_iterations=1000, all_possible_transitions=True)\n",
        "crf.fit(X_train, y_train)\n",
        "print(\"F1-Score =\",metrics.flat_f1_score(y_dev, crf.predict(X_dev), average='weighted', labels=labels))\n",
        "print(\"c1 = 0.52, c2 = 0.4, with transition features,\")\n",
        "crf = CRF(algorithm='lbfgs', c1=0.52, c2=0.4, max_iterations=1000, all_possible_transitions=True)\n",
        "crf.fit(X_train, y_train)\n",
        "print(\"F1-Score =\",metrics.flat_f1_score(y_dev, crf.predict(X_dev), average='weighted', labels=labels))\n",
        "print(\"\")\n",
        "\n",
        "print(\"When using Stochastic Gradent Descent with L2-regularization,\")\n",
        "print(\"c2 = 0.05, without transition features,\")\n",
        "crf = CRF(algorithm='l2sgd', c2=0.05, max_iterations=1000, all_possible_transitions=False)\n",
        "crf.fit(X_train, y_train)\n",
        "print(\"F1-Score =\",metrics.flat_f1_score(y_dev, crf.predict(X_dev), average='weighted', labels=labels))\n",
        "print(\"c2 = 0.01, with transition features,\")\n",
        "crf = CRF(algorithm='l2sgd', c2=0.01, max_iterations=1000, all_possible_transitions=True)\n",
        "crf.fit(X_train, y_train)\n",
        "print(\"F1-Score =\",metrics.flat_f1_score(y_dev, crf.predict(X_dev), average='weighted', labels=labels))"
      ],
      "execution_count": 45,
      "outputs": [
        {
          "output_type": "stream",
          "text": [
            "When using Gradient Descent with L-BFGS method,\n",
            "c1 = 0.52, c2 = 0.24, with transition features,\n",
            "F1-Score = 0.15504481174230517\n",
            "c1 = 0.52, c2 = 0.4, with transition features,\n",
            "F1-Score = 0.147888585933849\n",
            "\n",
            "When using Stochastic Gradent Descent with L2-regularization,\n",
            "c2 = 0.05, without transition features,\n",
            "F1-Score = 0.16924815731093154\n",
            "c2 = 0.01, with transition features,\n",
            "F1-Score = 0.16535895509605877\n"
          ],
          "name": "stdout"
        }
      ]
    },
    {
      "cell_type": "code",
      "metadata": {
        "id": "uTJvboJNAmSV",
        "outputId": "7c4dbd4c-de98-4cf9-a6dd-b2edf7d16875",
        "colab": {
          "base_uri": "https://localhost:8080/"
        }
      },
      "source": [
        "# evaluate on test set\n",
        "\n",
        "seed(119)\n",
        "\n",
        "opt = CRF(algorithm='l2sgd', c2=0.05, max_iterations=1000, all_possible_transitions=False)\n",
        "opt.fit(X_train, y_train)\n",
        "print(\"Overall Accuracy on Test Set:\", opt.score(X_test, y_test), \"\\n\")\n",
        "print(metrics.flat_classification_report(y_test, opt.predict(X_test), labels=sorted_labels, digits=4))"
      ],
      "execution_count": 44,
      "outputs": [
        {
          "output_type": "stream",
          "text": [
            "Overall Accuracy on Test Set: 0.9289133965974181 \n",
            "\n",
            "                 precision    recall  f1-score   support\n",
            "\n",
            "  B-corporation     0.1429    0.0152    0.0274        66\n",
            "  I-corporation     0.2500    0.0455    0.0769        22\n",
            "B-creative-work     0.3750    0.0423    0.0759       142\n",
            "I-creative-work     0.3810    0.0367    0.0669       218\n",
            "        B-group     0.1471    0.0303    0.0503       165\n",
            "        I-group     0.1429    0.0286    0.0476        70\n",
            "     B-location     0.3711    0.2400    0.2915       150\n",
            "     I-location     0.3704    0.1064    0.1653        94\n",
            "       B-person     0.5328    0.1702    0.2580       429\n",
            "       I-person     0.5645    0.2672    0.3627       131\n",
            "      B-product     0.4444    0.0315    0.0588       127\n",
            "      I-product     0.2308    0.0476    0.0789       126\n",
            "\n",
            "      micro avg     0.4119    0.1075    0.1705      1740\n",
            "      macro avg     0.3294    0.0884    0.1300      1740\n",
            "   weighted avg     0.3816    0.1075    0.1583      1740\n",
            "\n"
          ],
          "name": "stdout"
        }
      ]
    },
    {
      "cell_type": "markdown",
      "metadata": {
        "id": "tG3pseMNAnV9"
      },
      "source": [
        "# Features Pruning"
      ]
    },
    {
      "cell_type": "code",
      "metadata": {
        "id": "dTsaLQ6LArY3"
      },
      "source": [
        ""
      ],
      "execution_count": null,
      "outputs": []
    }
  ]
}