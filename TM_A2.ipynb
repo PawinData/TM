{
  "nbformat": 4,
  "nbformat_minor": 0,
  "metadata": {
    "colab": {
      "name": "TM A2.ipynb",
      "provenance": [],
      "collapsed_sections": [],
      "authorship_tag": "ABX9TyO76qumTRedcUi7R8awCKiK",
      "include_colab_link": true
    },
    "kernelspec": {
      "name": "python3",
      "display_name": "Python 3"
    }
  },
  "cells": [
    {
      "cell_type": "markdown",
      "metadata": {
        "id": "view-in-github",
        "colab_type": "text"
      },
      "source": [
        "<a href=\"https://colab.research.google.com/github/PawinData/TM/blob/main/TM_A2.ipynb\" target=\"_parent\"><img src=\"https://colab.research.google.com/assets/colab-badge.svg\" alt=\"Open In Colab\"/></a>"
      ]
    },
    {
      "cell_type": "code",
      "metadata": {
        "id": "vX5d8HiZ07-T",
        "outputId": "c970adab-00b8-4460-8246-abd5d93fa07b",
        "colab": {
          "base_uri": "https://localhost:8080/"
        }
      },
      "source": [
        "!pip install sklearn_crfsuite"
      ],
      "execution_count": 1,
      "outputs": [
        {
          "output_type": "stream",
          "text": [
            "Collecting sklearn_crfsuite\n",
            "  Downloading https://files.pythonhosted.org/packages/25/74/5b7befa513482e6dee1f3dd68171a6c9dfc14c0eaa00f885ffeba54fe9b0/sklearn_crfsuite-0.3.6-py2.py3-none-any.whl\n",
            "Requirement already satisfied: tqdm>=2.0 in /usr/local/lib/python3.6/dist-packages (from sklearn_crfsuite) (4.41.1)\n",
            "Requirement already satisfied: tabulate in /usr/local/lib/python3.6/dist-packages (from sklearn_crfsuite) (0.8.7)\n",
            "Collecting python-crfsuite>=0.8.3\n",
            "\u001b[?25l  Downloading https://files.pythonhosted.org/packages/95/99/869dde6dbf3e0d07a013c8eebfb0a3d30776334e0097f8432b631a9a3a19/python_crfsuite-0.9.7-cp36-cp36m-manylinux1_x86_64.whl (743kB)\n",
            "\u001b[K     |████████████████████████████████| 747kB 4.0MB/s \n",
            "\u001b[?25hRequirement already satisfied: six in /usr/local/lib/python3.6/dist-packages (from sklearn_crfsuite) (1.15.0)\n",
            "Installing collected packages: python-crfsuite, sklearn-crfsuite\n",
            "Successfully installed python-crfsuite-0.9.7 sklearn-crfsuite-0.3.6\n"
          ],
          "name": "stdout"
        }
      ]
    },
    {
      "cell_type": "code",
      "metadata": {
        "id": "isX6o2-ez5on"
      },
      "source": [
        "\n",
        "from itertools import chain\n",
        "import matplotlib.pyplot as plt\n",
        "plt.style.use('ggplot')\n",
        "\n",
        "import sklearn"
      ],
      "execution_count": null,
      "outputs": []
    },
    {
      "cell_type": "markdown",
      "metadata": {
        "id": "AC3a9zfN_Ffe"
      },
      "source": [
        "# Pre-processing\n",
        "\n",
        "Build the [reader of dataset](https://www.nltk.org/_modules/nltk/corpus/reader/conll.html) and represent every sentence as a list of tuple (word, POS, OBI)."
      ]
    },
    {
      "cell_type": "code",
      "metadata": {
        "id": "gzxmxGkYGJQp",
        "outputId": "e7835f5e-3eed-4997-8900-6ad4acfdc34e",
        "colab": {
          "base_uri": "https://localhost:8080/"
        }
      },
      "source": [
        "import nltk\n",
        "#nltk.download('punkt')\n",
        "nltk.download('averaged_perceptron_tagger')\n",
        "from nltk.corpus.reader.conll import ConllCorpusReader\n",
        "# a .ConLL file reader\n",
        "READER = ConllCorpusReader(root=\"./\", fileids=\".conll\", columntypes=('words','pos','tree','chunk','ne','srl','ignore'))"
      ],
      "execution_count": 2,
      "outputs": [
        {
          "output_type": "stream",
          "text": [
            "[nltk_data] Downloading package averaged_perceptron_tagger to\n",
            "[nltk_data]     /root/nltk_data...\n",
            "[nltk_data]   Unzipping taggers/averaged_perceptron_tagger.zip.\n"
          ],
          "name": "stdout"
        }
      ]
    },
    {
      "cell_type": "code",
      "metadata": {
        "id": "7CH2tvmDNOdm"
      },
      "source": [
        "def load(filename):\n",
        "    word_pos = [nltk.pos_tag(sentence) for sentence in READER.sents(filename)]\n",
        "    word_obi = list(READER.tagged_sents(filename))\n",
        "    return [[(a,b,d) for (a,b),(c,d) in zip(lst1, lst2)] for lst1,lst2 in zip(word_pos,word_obi)]\n",
        "\n",
        "# training set\n",
        "Train_sents = load(\"wnut17train.conll\")\n",
        "# test set\n",
        "Test_sents = load(\"emerging.test.annotated\")"
      ],
      "execution_count": 3,
      "outputs": []
    },
    {
      "cell_type": "code",
      "metadata": {
        "id": "j-QMFmWWP7mP"
      },
      "source": [
        "# Development set\n",
        "word_pos = [nltk.pos_tag(sentence) for sentence in READER.sents(\"emerging.dev.conll\")[:1008]]\n",
        "word_obi = list(READER.tagged_sents(\"emerging.dev.conll\")[:1008])\n",
        "Dev_sents = [[(a,b,d) for (a,b),(c,d) in zip(lst1, lst2)] for lst1,lst2 in zip(word_pos,word_obi)]"
      ],
      "execution_count": 4,
      "outputs": []
    },
    {
      "cell_type": "markdown",
      "metadata": {
        "id": "OMhkN7j-KGEB"
      },
      "source": [
        "# Baseline\n",
        "\n",
        "Extract the OBI label and the following features from each word in a sentence. Build a model of Conditional Random Field (**CRF**) on the training data and evaluate its performance on the test set. As a baseline, generate **transition features** that associate all of possible label pairs and **iterate $100$ times at most** by the **L-BFGS algorithm of Gradient Descent** with Elastic-Net regularization to fit model parameters; in specific, **L1-regularization** is controlled by $c_1 = 0.1$ and **L2-regularization** by $c_2 = 0.1$.\n",
        "\n",
        "**Features:**\n",
        "1.   **Word Identity**: lowercased form\n",
        "2.   **Word Suffix**: the last two and three characters\n",
        "3.   **Word Shape**: whether a word is a digit, is uppercased, or starts with an uppercase character\n",
        "4.   **Part-of-Speech Tag**: noun, verb, adjective, e.t.c\n",
        "5.   **BOS**: whether a word is the start of sentence\n",
        "6.   **EOS**: whether a word is the end of sentence\n",
        "\n"
      ]
    },
    {
      "cell_type": "code",
      "metadata": {
        "id": "Quassgy2AgN9"
      },
      "source": [
        "from sklearn_crfsuite import CRF, metrics"
      ],
      "execution_count": 5,
      "outputs": []
    },
    {
      "cell_type": "code",
      "metadata": {
        "id": "Y9kFWpxhKLsi"
      },
      "source": [
        "# extract features and labels\n",
        "def word2features(sent, i):\n",
        "    word = sent[i][0]\n",
        "    postag = sent[i][1]\n",
        "\n",
        "    features = {'bias': 1.0,\n",
        "                'word.lower()': word.lower(),        # word identity\n",
        "                'word[-3:]': word[-3:],              # word suffix \n",
        "                'word[-2:]': word[-2:],\n",
        "                'word.isupper()': word.isupper(),    # word shape\n",
        "                'word.istitle()': word.istitle(),\n",
        "                'word.isdigit()': word.isdigit(),\n",
        "                'postag': postag,                    # POS tag\n",
        "                'postag[:2]': postag[:2],\n",
        "               }\n",
        "    if i > 0:\n",
        "        word1 = sent[i-1][0]\n",
        "        postag1 = sent[i-1][1]\n",
        "        features.update({'-1:word.lower()': word1.lower(),\n",
        "                          '-1:word.istitle()': word1.istitle(),\n",
        "                          '-1:word.isupper()': word1.isupper(),\n",
        "                          '-1:postag': postag1,\n",
        "                          '-1:postag[:2]': postag1[:2],\n",
        "                      })\n",
        "    else:\n",
        "        features['BOS'] = True                      # BOS\n",
        "\n",
        "    if i < len(sent)-1:\n",
        "        word1 = sent[i+1][0]\n",
        "        postag1 = sent[i+1][1]\n",
        "        features.update({'+1:word.lower()': word1.lower(),\n",
        "                         '+1:word.istitle()': word1.istitle(),\n",
        "                         '+1:word.isupper()': word1.isupper(),\n",
        "                         '+1:postag': postag1,\n",
        "                         '+1:postag[:2]': postag1[:2],\n",
        "                       })\n",
        "    else:\n",
        "        features['EOS'] = True                     # EOS\n",
        "\n",
        "    return features\n",
        "\n",
        "\n",
        "def sent2features(sent):\n",
        "    return [word2features(sent, i) for i in range(len(sent))]\n",
        "\n",
        "def sent2labels(sent):\n",
        "    return [label for token, postag, label in sent]\n",
        "\n",
        "def setup(data_sents):\n",
        "    return [sent2features(s) for s in data_sents], [sent2labels(s) for s in data_sents]"
      ],
      "execution_count": 6,
      "outputs": []
    },
    {
      "cell_type": "code",
      "metadata": {
        "id": "s8G9DBEvZwbb"
      },
      "source": [
        "# set up datasets\n",
        "X_train,y_train = setup(Train_sents)\n",
        "X_test, y_test  = setup(Test_sents)\n",
        "X_dev,  y_dev   = setup(Dev_sents)"
      ],
      "execution_count": 7,
      "outputs": []
    },
    {
      "cell_type": "code",
      "metadata": {
        "id": "lQFD7vSmKHLR"
      },
      "source": [
        "# training\n",
        "baseline = CRF(algorithm='lbfgs', c1=0.1, c2=0.1, max_iterations=100, all_possible_transitions=True)\n",
        "baseline.fit(X_train, y_train)"
      ],
      "execution_count": null,
      "outputs": []
    },
    {
      "cell_type": "code",
      "metadata": {
        "id": "z0Wz1buRAgTw",
        "outputId": "2146b280-5810-4096-cafd-6110ccfcfbe8",
        "colab": {
          "base_uri": "https://localhost:8080/"
        }
      },
      "source": [
        "# evaluate\n",
        "y_pred = baseline.predict(X_test)\n",
        "\n",
        "labels = list(baseline.classes_)\n",
        "labels.remove('O')\n",
        "sorted_labels = sorted(labels, key = lambda name: (name[1:], name[0]))\n",
        "print(metrics.flat_classification_report(y_test, y_pred, labels=sorted_labels, digits=4))"
      ],
      "execution_count": 13,
      "outputs": [
        {
          "output_type": "stream",
          "text": [
            "                 precision    recall  f1-score   support\n",
            "\n",
            "  B-corporation     0.0000    0.0000    0.0000        66\n",
            "  I-corporation     0.0000    0.0000    0.0000        22\n",
            "B-creative-work     0.3333    0.0352    0.0637       142\n",
            "I-creative-work     0.2963    0.0367    0.0653       218\n",
            "        B-group     0.3000    0.0364    0.0649       165\n",
            "        I-group     0.3571    0.0714    0.1190        70\n",
            "     B-location     0.3846    0.2333    0.2905       150\n",
            "     I-location     0.2308    0.0638    0.1000        94\n",
            "       B-person     0.5514    0.1375    0.2201       429\n",
            "       I-person     0.5472    0.2214    0.3152       131\n",
            "      B-product     0.6000    0.0236    0.0455       127\n",
            "      I-product     0.3750    0.0476    0.0845       126\n",
            "\n",
            "      micro avg     0.4297    0.0931    0.1530      1740\n",
            "      macro avg     0.3313    0.0756    0.1141      1740\n",
            "   weighted avg     0.4009    0.0931    0.1422      1740\n",
            "\n",
            "14.485710857999948\n"
          ],
          "name": "stdout"
        }
      ]
    },
    {
      "cell_type": "markdown",
      "metadata": {
        "id": "gkMZPHaMAgmW"
      },
      "source": [
        "The baseline run performs rather poorly for recognizing B-tags and I-tags. Recall scores are particularly low.\n",
        "\n",
        "# Hyperparameters Optimization\n",
        "\n",
        "Execute a grid search for better algorithm and optimal hyperparameters of the CRF model. Candidate algorithms are **Gradient Descent with L-BFGS method** and **Stochastic Gradient Descent with L2 regularization**, and let $c_1, c_2 \\in [0.01, 0.5]$. Use the development set for testing and find the combination of hyperparameters that gives the highest F1-score on it."
      ]
    },
    {
      "cell_type": "code",
      "metadata": {
        "id": "YgYyBiLWAlCa"
      },
      "source": [
        "import numpy as np\n",
        "import pandas as pd\n",
        "import scipy.stats\n",
        "from sklearn.metrics import make_scorer\n",
        "from sklearn.model_selection import RandomizedSearchCV, cross_val_score"
      ],
      "execution_count": 10,
      "outputs": []
    },
    {
      "cell_type": "code",
      "metadata": {
        "id": "9BUxKB05AmBY"
      },
      "source": [
        "# grid search of hyperparameters (c1,c2)\n",
        "\n",
        "LB = dict()\n",
        "a,b,k = 0.01, 0.8, 15\n",
        "for c1 in np.linspace(a,b,k):\n",
        "    lst = list()\n",
        "    for c2 in np.linspace(a,b,k):\n",
        "        crf = CRF(algorithm='lbfgs', c1=c1, c2=c2, max_iterations=100, all_possible_transitions=True)\n",
        "        crf.fit(X_train, y_train)\n",
        "        lst.append(metrics.flat_f1_score(y_dev, crf.predict(X_dev), average='weighted', labels=labels))\n",
        "    LB[\"c1 = \"+str(round(c1,2))] = lst\n",
        "LB = pd.DataFrame(LB, index=[\"c2 = \"+str(round(ele,2)) for ele in np.linspace(a,b,k)])\n",
        "\n",
        "L2 = dict()\n",
        "for c2 in np.linspace(0.01, 1, 25):\n",
        "    crf = CRF(algorithm='l2sgd', c2=c2, max_iterations=100, all_possible_transitions=True)\n",
        "    crf.fit(X_train, y_train)\n",
        "    L2[\"c2 = \"+str(round(c2,2))] = metrics.flat_f1_score(y_dev, crf.predict(X_dev), average='weighted', labels=labels)\n",
        "L2 = pd.DataFrame(L2, index=[\"F1-Score\"])"
      ],
      "execution_count": null,
      "outputs": []
    },
    {
      "cell_type": "code",
      "metadata": {
        "id": "5oEcXXfpv2Ep",
        "outputId": "f99c794f-ae58-4f07-a83d-2dac5ab5cd52",
        "colab": {
          "base_uri": "https://localhost:8080/",
          "height": 786
        }
      },
      "source": [
        "LB"
      ],
      "execution_count": 23,
      "outputs": [
        {
          "output_type": "execute_result",
          "data": {
            "text/html": [
              "<div>\n",
              "<style scoped>\n",
              "    .dataframe tbody tr th:only-of-type {\n",
              "        vertical-align: middle;\n",
              "    }\n",
              "\n",
              "    .dataframe tbody tr th {\n",
              "        vertical-align: top;\n",
              "    }\n",
              "\n",
              "    .dataframe thead th {\n",
              "        text-align: right;\n",
              "    }\n",
              "</style>\n",
              "<table border=\"1\" class=\"dataframe\">\n",
              "  <thead>\n",
              "    <tr style=\"text-align: right;\">\n",
              "      <th></th>\n",
              "      <th>c1 = 0.01</th>\n",
              "      <th>c1 = 0.07</th>\n",
              "      <th>c1 = 0.12</th>\n",
              "      <th>c1 = 0.18</th>\n",
              "      <th>c1 = 0.24</th>\n",
              "      <th>c1 = 0.29</th>\n",
              "      <th>c1 = 0.35</th>\n",
              "      <th>c1 = 0.4</th>\n",
              "      <th>c1 = 0.46</th>\n",
              "      <th>c1 = 0.52</th>\n",
              "      <th>c1 = 0.57</th>\n",
              "      <th>c1 = 0.63</th>\n",
              "      <th>c1 = 0.69</th>\n",
              "      <th>c1 = 0.74</th>\n",
              "      <th>c1 = 0.8</th>\n",
              "    </tr>\n",
              "  </thead>\n",
              "  <tbody>\n",
              "    <tr>\n",
              "      <th>c2 = 0.01</th>\n",
              "      <td>0.174173</td>\n",
              "      <td>0.166999</td>\n",
              "      <td>0.178355</td>\n",
              "      <td>0.180863</td>\n",
              "      <td>0.167940</td>\n",
              "      <td>0.172363</td>\n",
              "      <td>0.167137</td>\n",
              "      <td>0.176358</td>\n",
              "      <td>0.174541</td>\n",
              "      <td>0.179982</td>\n",
              "      <td>0.176777</td>\n",
              "      <td>0.175989</td>\n",
              "      <td>0.176176</td>\n",
              "      <td>0.171714</td>\n",
              "      <td>0.177268</td>\n",
              "    </tr>\n",
              "    <tr>\n",
              "      <th>c2 = 0.07</th>\n",
              "      <td>0.170796</td>\n",
              "      <td>0.172471</td>\n",
              "      <td>0.172723</td>\n",
              "      <td>0.171451</td>\n",
              "      <td>0.176263</td>\n",
              "      <td>0.170435</td>\n",
              "      <td>0.176292</td>\n",
              "      <td>0.174425</td>\n",
              "      <td>0.179678</td>\n",
              "      <td>0.177776</td>\n",
              "      <td>0.182451</td>\n",
              "      <td>0.183068</td>\n",
              "      <td>0.174400</td>\n",
              "      <td>0.172945</td>\n",
              "      <td>0.171772</td>\n",
              "    </tr>\n",
              "    <tr>\n",
              "      <th>c2 = 0.12</th>\n",
              "      <td>0.162685</td>\n",
              "      <td>0.166598</td>\n",
              "      <td>0.168769</td>\n",
              "      <td>0.170756</td>\n",
              "      <td>0.171139</td>\n",
              "      <td>0.163661</td>\n",
              "      <td>0.174488</td>\n",
              "      <td>0.173265</td>\n",
              "      <td>0.174159</td>\n",
              "      <td>0.173072</td>\n",
              "      <td>0.171218</td>\n",
              "      <td>0.171711</td>\n",
              "      <td>0.170358</td>\n",
              "      <td>0.175267</td>\n",
              "      <td>0.170462</td>\n",
              "    </tr>\n",
              "    <tr>\n",
              "      <th>c2 = 0.18</th>\n",
              "      <td>0.166577</td>\n",
              "      <td>0.168122</td>\n",
              "      <td>0.167928</td>\n",
              "      <td>0.170587</td>\n",
              "      <td>0.170514</td>\n",
              "      <td>0.164991</td>\n",
              "      <td>0.157729</td>\n",
              "      <td>0.160636</td>\n",
              "      <td>0.167353</td>\n",
              "      <td>0.160685</td>\n",
              "      <td>0.179673</td>\n",
              "      <td>0.163391</td>\n",
              "      <td>0.173452</td>\n",
              "      <td>0.171811</td>\n",
              "      <td>0.161528</td>\n",
              "    </tr>\n",
              "    <tr>\n",
              "      <th>c2 = 0.24</th>\n",
              "      <td>0.161486</td>\n",
              "      <td>0.164725</td>\n",
              "      <td>0.168842</td>\n",
              "      <td>0.168689</td>\n",
              "      <td>0.154363</td>\n",
              "      <td>0.166381</td>\n",
              "      <td>0.157046</td>\n",
              "      <td>0.162348</td>\n",
              "      <td>0.163360</td>\n",
              "      <td>0.157410</td>\n",
              "      <td>0.160676</td>\n",
              "      <td>0.149903</td>\n",
              "      <td>0.157035</td>\n",
              "      <td>0.159091</td>\n",
              "      <td>0.154336</td>\n",
              "    </tr>\n",
              "    <tr>\n",
              "      <th>c2 = 0.29</th>\n",
              "      <td>0.158153</td>\n",
              "      <td>0.158154</td>\n",
              "      <td>0.166712</td>\n",
              "      <td>0.163621</td>\n",
              "      <td>0.160555</td>\n",
              "      <td>0.162432</td>\n",
              "      <td>0.160178</td>\n",
              "      <td>0.159947</td>\n",
              "      <td>0.151647</td>\n",
              "      <td>0.150187</td>\n",
              "      <td>0.161870</td>\n",
              "      <td>0.161583</td>\n",
              "      <td>0.163111</td>\n",
              "      <td>0.156691</td>\n",
              "      <td>0.160024</td>\n",
              "    </tr>\n",
              "    <tr>\n",
              "      <th>c2 = 0.35</th>\n",
              "      <td>0.150127</td>\n",
              "      <td>0.155762</td>\n",
              "      <td>0.157733</td>\n",
              "      <td>0.154167</td>\n",
              "      <td>0.160950</td>\n",
              "      <td>0.156625</td>\n",
              "      <td>0.154400</td>\n",
              "      <td>0.150427</td>\n",
              "      <td>0.151641</td>\n",
              "      <td>0.154757</td>\n",
              "      <td>0.152533</td>\n",
              "      <td>0.154265</td>\n",
              "      <td>0.157651</td>\n",
              "      <td>0.149658</td>\n",
              "      <td>0.157342</td>\n",
              "    </tr>\n",
              "    <tr>\n",
              "      <th>c2 = 0.4</th>\n",
              "      <td>0.154145</td>\n",
              "      <td>0.159010</td>\n",
              "      <td>0.155008</td>\n",
              "      <td>0.155176</td>\n",
              "      <td>0.161758</td>\n",
              "      <td>0.154904</td>\n",
              "      <td>0.155162</td>\n",
              "      <td>0.151150</td>\n",
              "      <td>0.150884</td>\n",
              "      <td>0.149696</td>\n",
              "      <td>0.157346</td>\n",
              "      <td>0.154006</td>\n",
              "      <td>0.152090</td>\n",
              "      <td>0.146283</td>\n",
              "      <td>0.154228</td>\n",
              "    </tr>\n",
              "    <tr>\n",
              "      <th>c2 = 0.46</th>\n",
              "      <td>0.149506</td>\n",
              "      <td>0.161904</td>\n",
              "      <td>0.153625</td>\n",
              "      <td>0.154701</td>\n",
              "      <td>0.155259</td>\n",
              "      <td>0.157213</td>\n",
              "      <td>0.153238</td>\n",
              "      <td>0.151508</td>\n",
              "      <td>0.149813</td>\n",
              "      <td>0.145481</td>\n",
              "      <td>0.148806</td>\n",
              "      <td>0.147874</td>\n",
              "      <td>0.150861</td>\n",
              "      <td>0.154616</td>\n",
              "      <td>0.148866</td>\n",
              "    </tr>\n",
              "    <tr>\n",
              "      <th>c2 = 0.52</th>\n",
              "      <td>0.145169</td>\n",
              "      <td>0.157734</td>\n",
              "      <td>0.155533</td>\n",
              "      <td>0.156424</td>\n",
              "      <td>0.153177</td>\n",
              "      <td>0.153577</td>\n",
              "      <td>0.149349</td>\n",
              "      <td>0.156995</td>\n",
              "      <td>0.148590</td>\n",
              "      <td>0.154563</td>\n",
              "      <td>0.147727</td>\n",
              "      <td>0.146164</td>\n",
              "      <td>0.153977</td>\n",
              "      <td>0.152677</td>\n",
              "      <td>0.153235</td>\n",
              "    </tr>\n",
              "    <tr>\n",
              "      <th>c2 = 0.57</th>\n",
              "      <td>0.150697</td>\n",
              "      <td>0.153273</td>\n",
              "      <td>0.149171</td>\n",
              "      <td>0.156250</td>\n",
              "      <td>0.159888</td>\n",
              "      <td>0.153817</td>\n",
              "      <td>0.146255</td>\n",
              "      <td>0.151209</td>\n",
              "      <td>0.146706</td>\n",
              "      <td>0.147785</td>\n",
              "      <td>0.146502</td>\n",
              "      <td>0.145618</td>\n",
              "      <td>0.146828</td>\n",
              "      <td>0.149499</td>\n",
              "      <td>0.144362</td>\n",
              "    </tr>\n",
              "    <tr>\n",
              "      <th>c2 = 0.63</th>\n",
              "      <td>0.145264</td>\n",
              "      <td>0.152101</td>\n",
              "      <td>0.148702</td>\n",
              "      <td>0.154931</td>\n",
              "      <td>0.152734</td>\n",
              "      <td>0.155265</td>\n",
              "      <td>0.151058</td>\n",
              "      <td>0.147639</td>\n",
              "      <td>0.146164</td>\n",
              "      <td>0.145794</td>\n",
              "      <td>0.147536</td>\n",
              "      <td>0.150137</td>\n",
              "      <td>0.147029</td>\n",
              "      <td>0.151712</td>\n",
              "      <td>0.147601</td>\n",
              "    </tr>\n",
              "    <tr>\n",
              "      <th>c2 = 0.69</th>\n",
              "      <td>0.141709</td>\n",
              "      <td>0.150791</td>\n",
              "      <td>0.146516</td>\n",
              "      <td>0.149599</td>\n",
              "      <td>0.152742</td>\n",
              "      <td>0.148432</td>\n",
              "      <td>0.148267</td>\n",
              "      <td>0.141584</td>\n",
              "      <td>0.145331</td>\n",
              "      <td>0.142468</td>\n",
              "      <td>0.144522</td>\n",
              "      <td>0.144588</td>\n",
              "      <td>0.142047</td>\n",
              "      <td>0.138699</td>\n",
              "      <td>0.132679</td>\n",
              "    </tr>\n",
              "    <tr>\n",
              "      <th>c2 = 0.74</th>\n",
              "      <td>0.145747</td>\n",
              "      <td>0.149919</td>\n",
              "      <td>0.150023</td>\n",
              "      <td>0.148307</td>\n",
              "      <td>0.150501</td>\n",
              "      <td>0.148416</td>\n",
              "      <td>0.148055</td>\n",
              "      <td>0.143947</td>\n",
              "      <td>0.149856</td>\n",
              "      <td>0.141908</td>\n",
              "      <td>0.147189</td>\n",
              "      <td>0.142047</td>\n",
              "      <td>0.145443</td>\n",
              "      <td>0.135016</td>\n",
              "      <td>0.143204</td>\n",
              "    </tr>\n",
              "    <tr>\n",
              "      <th>c2 = 0.8</th>\n",
              "      <td>0.150657</td>\n",
              "      <td>0.144200</td>\n",
              "      <td>0.149458</td>\n",
              "      <td>0.149252</td>\n",
              "      <td>0.152585</td>\n",
              "      <td>0.145835</td>\n",
              "      <td>0.145004</td>\n",
              "      <td>0.143617</td>\n",
              "      <td>0.142837</td>\n",
              "      <td>0.140414</td>\n",
              "      <td>0.140980</td>\n",
              "      <td>0.142219</td>\n",
              "      <td>0.143540</td>\n",
              "      <td>0.138138</td>\n",
              "      <td>0.135148</td>\n",
              "    </tr>\n",
              "  </tbody>\n",
              "</table>\n",
              "</div>"
            ],
            "text/plain": [
              "           c1 = 0.01  c1 = 0.07  c1 = 0.12  ...  c1 = 0.69  c1 = 0.74  c1 = 0.8\n",
              "c2 = 0.01   0.174173   0.166999   0.178355  ...   0.176176   0.171714  0.177268\n",
              "c2 = 0.07   0.170796   0.172471   0.172723  ...   0.174400   0.172945  0.171772\n",
              "c2 = 0.12   0.162685   0.166598   0.168769  ...   0.170358   0.175267  0.170462\n",
              "c2 = 0.18   0.166577   0.168122   0.167928  ...   0.173452   0.171811  0.161528\n",
              "c2 = 0.24   0.161486   0.164725   0.168842  ...   0.157035   0.159091  0.154336\n",
              "c2 = 0.29   0.158153   0.158154   0.166712  ...   0.163111   0.156691  0.160024\n",
              "c2 = 0.35   0.150127   0.155762   0.157733  ...   0.157651   0.149658  0.157342\n",
              "c2 = 0.4    0.154145   0.159010   0.155008  ...   0.152090   0.146283  0.154228\n",
              "c2 = 0.46   0.149506   0.161904   0.153625  ...   0.150861   0.154616  0.148866\n",
              "c2 = 0.52   0.145169   0.157734   0.155533  ...   0.153977   0.152677  0.153235\n",
              "c2 = 0.57   0.150697   0.153273   0.149171  ...   0.146828   0.149499  0.144362\n",
              "c2 = 0.63   0.145264   0.152101   0.148702  ...   0.147029   0.151712  0.147601\n",
              "c2 = 0.69   0.141709   0.150791   0.146516  ...   0.142047   0.138699  0.132679\n",
              "c2 = 0.74   0.145747   0.149919   0.150023  ...   0.145443   0.135016  0.143204\n",
              "c2 = 0.8    0.150657   0.144200   0.149458  ...   0.143540   0.138138  0.135148\n",
              "\n",
              "[15 rows x 15 columns]"
            ]
          },
          "metadata": {
            "tags": []
          },
          "execution_count": 23
        }
      ]
    },
    {
      "cell_type": "code",
      "metadata": {
        "id": "GBYgOaanwD-i",
        "outputId": "8846ed92-fabe-43fa-b344-8d680b13707c",
        "colab": {
          "base_uri": "https://localhost:8080/",
          "height": 134
        }
      },
      "source": [
        "L2 = pd.DataFrame(L2, index=[\"F1-Score\"])\n",
        "L2"
      ],
      "execution_count": 25,
      "outputs": [
        {
          "output_type": "execute_result",
          "data": {
            "text/html": [
              "<div>\n",
              "<style scoped>\n",
              "    .dataframe tbody tr th:only-of-type {\n",
              "        vertical-align: middle;\n",
              "    }\n",
              "\n",
              "    .dataframe tbody tr th {\n",
              "        vertical-align: top;\n",
              "    }\n",
              "\n",
              "    .dataframe thead th {\n",
              "        text-align: right;\n",
              "    }\n",
              "</style>\n",
              "<table border=\"1\" class=\"dataframe\">\n",
              "  <thead>\n",
              "    <tr style=\"text-align: right;\">\n",
              "      <th></th>\n",
              "      <th>c2 = 0.01</th>\n",
              "      <th>c2 = 0.05</th>\n",
              "      <th>c2 = 0.09</th>\n",
              "      <th>c2 = 0.13</th>\n",
              "      <th>c2 = 0.18</th>\n",
              "      <th>c2 = 0.22</th>\n",
              "      <th>c2 = 0.26</th>\n",
              "      <th>c2 = 0.3</th>\n",
              "      <th>c2 = 0.34</th>\n",
              "      <th>c2 = 0.38</th>\n",
              "      <th>c2 = 0.42</th>\n",
              "      <th>c2 = 0.46</th>\n",
              "      <th>c2 = 0.5</th>\n",
              "      <th>c2 = 0.55</th>\n",
              "      <th>c2 = 0.59</th>\n",
              "      <th>c2 = 0.63</th>\n",
              "      <th>c2 = 0.67</th>\n",
              "      <th>c2 = 0.71</th>\n",
              "      <th>c2 = 0.75</th>\n",
              "      <th>c2 = 0.79</th>\n",
              "      <th>c2 = 0.84</th>\n",
              "      <th>c2 = 0.88</th>\n",
              "      <th>c2 = 0.92</th>\n",
              "      <th>c2 = 0.96</th>\n",
              "      <th>c2 = 1.0</th>\n",
              "    </tr>\n",
              "  </thead>\n",
              "  <tbody>\n",
              "    <tr>\n",
              "      <th>F1-Score</th>\n",
              "      <td>0.187054</td>\n",
              "      <td>0.18208</td>\n",
              "      <td>0.188952</td>\n",
              "      <td>0.185973</td>\n",
              "      <td>0.164164</td>\n",
              "      <td>0.154185</td>\n",
              "      <td>0.153367</td>\n",
              "      <td>0.173979</td>\n",
              "      <td>0.181454</td>\n",
              "      <td>0.17179</td>\n",
              "      <td>0.163563</td>\n",
              "      <td>0.133909</td>\n",
              "      <td>0.195393</td>\n",
              "      <td>0.149855</td>\n",
              "      <td>0.143019</td>\n",
              "      <td>0.1253</td>\n",
              "      <td>0.145295</td>\n",
              "      <td>0.125317</td>\n",
              "      <td>0.131505</td>\n",
              "      <td>0.14596</td>\n",
              "      <td>0.188742</td>\n",
              "      <td>0.152017</td>\n",
              "      <td>0.12958</td>\n",
              "      <td>0.1336</td>\n",
              "      <td>0.152995</td>\n",
              "    </tr>\n",
              "  </tbody>\n",
              "</table>\n",
              "</div>"
            ],
            "text/plain": [
              "          c2 = 0.01  c2 = 0.05  c2 = 0.09  ...  c2 = 0.92  c2 = 0.96  c2 = 1.0\n",
              "F1-Score   0.187054    0.18208   0.188952  ...    0.12958     0.1336  0.152995\n",
              "\n",
              "[1 rows x 25 columns]"
            ]
          },
          "metadata": {
            "tags": []
          },
          "execution_count": 25
        }
      ]
    },
    {
      "cell_type": "code",
      "metadata": {
        "id": "SCGHmQCaAmIb",
        "outputId": "86933eda-d600-4eed-af35-73991072b111",
        "colab": {
          "base_uri": "https://localhost:8080/"
        }
      },
      "source": [
        "# explore whether to generate transition features\n",
        "from random import seed\n",
        "\n",
        "seed(59)\n",
        "\n",
        "print(\"When using Gradient Descent with L-BFGS method,\")\n",
        "print(\"c1 = 0.63, c2 = 0.07\")\n",
        "crf = CRF(algorithm='lbfgs', c1=0.63, c2=0.07, max_iterations=1000, all_possible_transitions=True)\n",
        "crf.fit(X_train, y_train)\n",
        "print(\"With Transition Features: F1-Score =\",metrics.flat_f1_score(y_dev, crf.predict(X_dev), average='weighted', labels=labels))\n",
        "crf = CRF(algorithm='lbfgs', c1=0.63, c2=0.07, max_iterations=1000, all_possible_transitions=False)\n",
        "crf.fit(X_train, y_train)\n",
        "print(\"Without Transition Features: F1-Score =\",metrics.flat_f1_score(y_dev, crf.predict(X_dev), average='weighted', labels=labels))\n",
        "\n",
        "print(\"\")\n",
        "print(\"When using Stochastic Gradent Descent with L2-regularization,\")\n",
        "print(\"c2 = 0.5\")\n",
        "crf = CRF(algorithm='l2sgd', c2=0.5, max_iterations=1000, all_possible_transitions=True)\n",
        "crf.fit(X_train, y_train)\n",
        "print(\"With Transition Features: F1-Score =\",metrics.flat_f1_score(y_dev, crf.predict(X_dev), average='weighted', labels=labels))\n",
        "crf = CRF(algorithm='l2sgd', c2=0.5, max_iterations=1000, all_possible_transitions=False)\n",
        "crf.fit(X_train, y_train)\n",
        "print(\"Without Transition Features: F1-Score =\",metrics.flat_f1_score(y_dev, crf.predict(X_dev), average='weighted', labels=labels))\n",
        "print(\"c2 = 0.09\")\n",
        "crf = CRF(algorithm='l2sgd', c2=0.09, max_iterations=1000, all_possible_transitions=True)\n",
        "crf.fit(X_train, y_train)\n",
        "print(\"With Transition Features: F1-Score =\",metrics.flat_f1_score(y_dev, crf.predict(X_dev), average='weighted', labels=labels))\n",
        "crf = CRF(algorithm='l2sgd', c2=0.09, max_iterations=1000, all_possible_transitions=False)\n",
        "crf.fit(X_train, y_train)\n",
        "print(\"Without Transition Features: F1-Score =\",metrics.flat_f1_score(y_dev, crf.predict(X_dev), average='weighted', labels=labels))"
      ],
      "execution_count": 31,
      "outputs": [
        {
          "output_type": "stream",
          "text": [
            "When using Gradient Descent with L-BFGS method,\n",
            "c1 = 0.63, c2 = 0.07\n",
            "With Transition Features: F1-Score = 0.18338749199487608\n",
            "Without Transition Features: F1-Score = 0.18240127626053698\n",
            "\n",
            "When using Stochastic Gradent Descent with L2-regularization,\n",
            "c2 = 0.5\n",
            "With Transition Features: F1-Score = 0.13817990173390696\n",
            "Without Transition Features: F1-Score = 0.13362640398165923\n",
            "c2 = 0.09\n",
            "With Transition Features: F1-Score = 0.15803183095715065\n",
            "Without Transition Features: F1-Score = 0.16508960364465672\n"
          ],
          "name": "stdout"
        }
      ]
    },
    {
      "cell_type": "code",
      "metadata": {
        "id": "uTJvboJNAmSV",
        "outputId": "4203b9a2-3ee6-4deb-c20a-7c5feb359929",
        "colab": {
          "base_uri": "https://localhost:8080/"
        }
      },
      "source": [
        "# evaluate on test set\n",
        "opt = CRF(algorithm='lbfgs', c1=0.63, c2=0.07, max_iterations=1000, all_possible_transitions=True)\n",
        "opt.fit(X_train, y_train)\n",
        "y_pred = opt.predict(X_test)\n",
        "print(metrics.flat_classification_report(y_test, y_pred, labels=sorted_labels, digits=4))"
      ],
      "execution_count": 33,
      "outputs": [
        {
          "output_type": "stream",
          "text": [
            "                 precision    recall  f1-score   support\n",
            "\n",
            "  B-corporation     0.0000    0.0000    0.0000        66\n",
            "  I-corporation     0.0000    0.0000    0.0000        22\n",
            "B-creative-work     0.3529    0.0423    0.0755       142\n",
            "I-creative-work     0.3226    0.0459    0.0803       218\n",
            "        B-group     0.2500    0.0364    0.0635       165\n",
            "        I-group     0.2778    0.0714    0.1136        70\n",
            "     B-location     0.3302    0.2333    0.2734       150\n",
            "     I-location     0.2759    0.0851    0.1301        94\n",
            "       B-person     0.5429    0.1329    0.2135       429\n",
            "       I-person     0.5200    0.1985    0.2873       131\n",
            "      B-product     0.1667    0.0079    0.0150       127\n",
            "      I-product     0.1290    0.0317    0.0510       126\n",
            "\n",
            "      micro avg     0.3753    0.0908    0.1462      1740\n",
            "      macro avg     0.2640    0.0738    0.1086      1740\n",
            "   weighted avg     0.3420    0.0908    0.1365      1740\n",
            "\n"
          ],
          "name": "stdout"
        }
      ]
    },
    {
      "cell_type": "markdown",
      "metadata": {
        "id": "tG3pseMNAnV9"
      },
      "source": [
        "# Features Pruning"
      ]
    },
    {
      "cell_type": "code",
      "metadata": {
        "id": "dTsaLQ6LArY3"
      },
      "source": [
        ""
      ],
      "execution_count": null,
      "outputs": []
    }
  ]
}