{
  "nbformat": 4,
  "nbformat_minor": 0,
  "metadata": {
    "colab": {
      "name": "TM A2.ipynb",
      "provenance": [],
      "collapsed_sections": [],
      "authorship_tag": "ABX9TyO73MHdCOrjqf3QTqoGIb5Y",
      "include_colab_link": true
    },
    "kernelspec": {
      "name": "python3",
      "display_name": "Python 3"
    }
  },
  "cells": [
    {
      "cell_type": "markdown",
      "metadata": {
        "id": "view-in-github",
        "colab_type": "text"
      },
      "source": [
        "<a href=\"https://colab.research.google.com/github/PawinData/TM/blob/main/TM_A2.ipynb\" target=\"_parent\"><img src=\"https://colab.research.google.com/assets/colab-badge.svg\" alt=\"Open In Colab\"/></a>"
      ]
    },
    {
      "cell_type": "code",
      "metadata": {
        "id": "vX5d8HiZ07-T",
        "outputId": "eee737e5-e665-4b5a-c543-8aa4ffc29989",
        "colab": {
          "base_uri": "https://localhost:8080/"
        }
      },
      "source": [
        "!pip install sklearn_crfsuite"
      ],
      "execution_count": 40,
      "outputs": [
        {
          "output_type": "stream",
          "text": [
            "Collecting sklearn_crfsuite\n",
            "  Downloading https://files.pythonhosted.org/packages/25/74/5b7befa513482e6dee1f3dd68171a6c9dfc14c0eaa00f885ffeba54fe9b0/sklearn_crfsuite-0.3.6-py2.py3-none-any.whl\n",
            "Requirement already satisfied: tqdm>=2.0 in /usr/local/lib/python3.6/dist-packages (from sklearn_crfsuite) (4.41.1)\n",
            "Requirement already satisfied: tabulate in /usr/local/lib/python3.6/dist-packages (from sklearn_crfsuite) (0.8.7)\n",
            "Collecting python-crfsuite>=0.8.3\n",
            "\u001b[?25l  Downloading https://files.pythonhosted.org/packages/95/99/869dde6dbf3e0d07a013c8eebfb0a3d30776334e0097f8432b631a9a3a19/python_crfsuite-0.9.7-cp36-cp36m-manylinux1_x86_64.whl (743kB)\n",
            "\u001b[K     |████████████████████████████████| 747kB 4.7MB/s \n",
            "\u001b[?25hRequirement already satisfied: six in /usr/local/lib/python3.6/dist-packages (from sklearn_crfsuite) (1.15.0)\n",
            "Installing collected packages: python-crfsuite, sklearn-crfsuite\n",
            "Successfully installed python-crfsuite-0.9.7 sklearn-crfsuite-0.3.6\n"
          ],
          "name": "stdout"
        }
      ]
    },
    {
      "cell_type": "code",
      "metadata": {
        "id": "isX6o2-ez5on"
      },
      "source": [
        "\n",
        "from itertools import chain\n",
        "import matplotlib.pyplot as plt\n",
        "plt.style.use('ggplot')\n",
        "\n",
        "import nltk\n",
        "import sklearn\n",
        "import scipy.stats\n",
        "from sklearn.metrics import make_scorer\n",
        "from sklearn.model_selection import cross_val_score, RandomizedSearchCV\n",
        "\n"
      ],
      "execution_count": null,
      "outputs": []
    },
    {
      "cell_type": "markdown",
      "metadata": {
        "id": "AC3a9zfN_Ffe"
      },
      "source": [
        "# Pre-processing\n",
        "\n",
        "Build the [reader of dataset](https://www.nltk.org/_modules/nltk/corpus/reader/conll.html), extract features and labels from training and test data, and represent them in the structure suitable for Conditional Random Field (CRF)."
      ]
    },
    {
      "cell_type": "code",
      "metadata": {
        "id": "gzxmxGkYGJQp",
        "outputId": "9e9c8820-f99d-4b02-ac61-4b8f173b3496",
        "colab": {
          "base_uri": "https://localhost:8080/"
        }
      },
      "source": [
        "import nltk\n",
        "nltk.download('averaged_perceptron_tagger')\n",
        "from nltk.corpus.reader.conll import ConllCorpusReader\n",
        "# a .ConLL file reader\n",
        "READER = ConllCorpusReader(root=\"./\", fileids=\".conll\", columntypes=('words','pos','tree','chunk','ne','srl','ignore'))"
      ],
      "execution_count": 1,
      "outputs": [
        {
          "output_type": "stream",
          "text": [
            "[nltk_data] Downloading package averaged_perceptron_tagger to\n",
            "[nltk_data]     /root/nltk_data...\n",
            "[nltk_data]   Unzipping taggers/averaged_perceptron_tagger.zip.\n"
          ],
          "name": "stdout"
        }
      ]
    },
    {
      "cell_type": "code",
      "metadata": {
        "id": "Y9kFWpxhKLsi"
      },
      "source": [
        "# extract features and labels\n",
        "def word2features(sent, i):\n",
        "    word = sent[i][0]\n",
        "    postag = sent[i][1]\n",
        "\n",
        "    features = {'bias': 1.0,\n",
        "                'word.lower()': word.lower(),\n",
        "                'word[-3:]': word[-3:],\n",
        "                'word[-2:]': word[-2:],\n",
        "                'word.isupper()': word.isupper(),\n",
        "                'word.istitle()': word.istitle(),\n",
        "                'word.isdigit()': word.isdigit(),\n",
        "                'postag': postag,\n",
        "                'postag[:2]': postag[:2],\n",
        "               }\n",
        "    if i > 0:\n",
        "        word1 = sent[i-1][0]\n",
        "        postag1 = sent[i-1][1]\n",
        "        features.update({'-1:word.lower()': word1.lower(),\n",
        "                          '-1:word.istitle()': word1.istitle(),\n",
        "                          '-1:word.isupper()': word1.isupper(),\n",
        "                          '-1:postag': postag1,\n",
        "                          '-1:postag[:2]': postag1[:2],\n",
        "                      })\n",
        "    else:\n",
        "        features['BOS'] = True\n",
        "\n",
        "    if i < len(sent)-1:\n",
        "        word1 = sent[i+1][0]\n",
        "        postag1 = sent[i+1][1]\n",
        "        features.update({'+1:word.lower()': word1.lower(),\n",
        "                         '+1:word.istitle()': word1.istitle(),\n",
        "                         '+1:word.isupper()': word1.isupper(),\n",
        "                         '+1:postag': postag1,\n",
        "                         '+1:postag[:2]': postag1[:2],\n",
        "                       })\n",
        "    else:\n",
        "        features['EOS'] = True\n",
        "\n",
        "    return features\n",
        "\n",
        "\n",
        "def sent2features(sent):\n",
        "    return [word2features(sent, i) for i in range(len(sent))]\n",
        "\n",
        "def sent2labels(sent):\n",
        "    return [label for token, postag, label in sent]"
      ],
      "execution_count": 2,
      "outputs": []
    },
    {
      "cell_type": "code",
      "metadata": {
        "id": "0E-tVwgfJyuf"
      },
      "source": [
        "# represent data in structure suitable for CRF\n",
        "def represent(filename):\n",
        "    word_pos = [nltk.pos_tag(sentence) for sentence in READER.sents(filename)]\n",
        "    word_obi = list(READER.tagged_sents(filename))\n",
        "    data_sents = [[(a,b,d) for (a,b),(c,d) in zip(lst1, lst2)] for lst1,lst2 in zip(word_pos,word_obi)]\n",
        "    return [sent2features(s) for s in data_sents], [sent2labels(s) for s in data_sents]"
      ],
      "execution_count": 17,
      "outputs": []
    },
    {
      "cell_type": "code",
      "metadata": {
        "id": "CiV_UgZZI6Mh"
      },
      "source": [
        "# structured training set\n",
        "X_train,y_train = represent(\"wnut17train.conll\") \n",
        "\n",
        "# structured test set\n",
        "X_test, y_test  = represent(\"emerging.test.annotated\")  "
      ],
      "execution_count": 22,
      "outputs": []
    },
    {
      "cell_type": "code",
      "metadata": {
        "id": "mwSgmKx43-DG"
      },
      "source": [
        "dev_sents = list()\n",
        "for sentence in READER.sents(\"emerging.dev.conll\"):\n",
        "    dev_sents.append(sentence)   "
      ],
      "execution_count": null,
      "outputs": []
    },
    {
      "cell_type": "code",
      "metadata": {
        "id": "3Gr1qJo7_Hbu"
      },
      "source": [
        "word_obi = list()\n",
        "for pair in READER.tagged_sents(\"emerging.dev.conll\"):\n",
        "    word_obi.append(pair)"
      ],
      "execution_count": null,
      "outputs": []
    },
    {
      "cell_type": "code",
      "metadata": {
        "id": "Dez8nrCY1YtW"
      },
      "source": [
        "word_pos = [nltk.pos_tag(sentence) for sentence in dev_sents]\n",
        "data_sents = [[(a,b,d) for (a,b),(c,d) in zip(lst1, lst2)] for lst1,lst2 in zip(word_pos,word_obi)]\n",
        "\n",
        "# structured development set\n",
        "X_dev, y_dev = [sent2features(s) for s in data_sents], [sent2labels(s) for s in data_sents]"
      ],
      "execution_count": 34,
      "outputs": []
    },
    {
      "cell_type": "markdown",
      "metadata": {
        "id": "OMhkN7j-KGEB"
      },
      "source": [
        "# Baseline"
      ]
    },
    {
      "cell_type": "code",
      "metadata": {
        "id": "Quassgy2AgN9"
      },
      "source": [
        "from sklearn_crfsuite import CRF, metrics"
      ],
      "execution_count": 41,
      "outputs": []
    },
    {
      "cell_type": "code",
      "metadata": {
        "id": "lQFD7vSmKHLR"
      },
      "source": [
        "# training\n",
        "baseline = CRF(algorithm='lbfgs', c1=0.1, c2=0.1, max_iterations=100, all_possible_transitions=True)\n",
        "baseline.fit(X_train, y_train)"
      ],
      "execution_count": null,
      "outputs": []
    },
    {
      "cell_type": "code",
      "metadata": {
        "id": "z0Wz1buRAgTw",
        "outputId": "26c3292e-0ea3-4c66-e32f-b58d4bf025e2",
        "colab": {
          "base_uri": "https://localhost:8080/"
        }
      },
      "source": [
        "# evaluate\n",
        "y_pred = baseline.predict(X_test)\n",
        "\n",
        "labels = list(baseline.classes_)\n",
        "labels.remove('O')\n",
        "sorted_labels = sorted(labels, key = lambda name: (name[1:], name[0]))\n",
        "print(metrics.flat_classification_report(y_test, y_pred, labels=sorted_labels, digits=4))"
      ],
      "execution_count": 45,
      "outputs": [
        {
          "output_type": "stream",
          "text": [
            "                 precision    recall  f1-score   support\n",
            "\n",
            "  B-corporation     0.0000    0.0000    0.0000        66\n",
            "  I-corporation     0.0000    0.0000    0.0000        22\n",
            "B-creative-work     0.3333    0.0352    0.0637       142\n",
            "I-creative-work     0.2963    0.0367    0.0653       218\n",
            "        B-group     0.3000    0.0364    0.0649       165\n",
            "        I-group     0.3571    0.0714    0.1190        70\n",
            "     B-location     0.3846    0.2333    0.2905       150\n",
            "     I-location     0.2308    0.0638    0.1000        94\n",
            "       B-person     0.5514    0.1375    0.2201       429\n",
            "       I-person     0.5472    0.2214    0.3152       131\n",
            "      B-product     0.6000    0.0236    0.0455       127\n",
            "      I-product     0.3750    0.0476    0.0845       126\n",
            "\n",
            "      micro avg     0.4297    0.0931    0.1530      1740\n",
            "      macro avg     0.3313    0.0756    0.1141      1740\n",
            "   weighted avg     0.4009    0.0931    0.1422      1740\n",
            "\n"
          ],
          "name": "stdout"
        }
      ]
    },
    {
      "cell_type": "code",
      "metadata": {
        "id": "ntNaVtPXAgZl"
      },
      "source": [
        ""
      ],
      "execution_count": null,
      "outputs": []
    },
    {
      "cell_type": "markdown",
      "metadata": {
        "id": "gkMZPHaMAgmW"
      },
      "source": [
        "# Hyperparameters Optimization"
      ]
    },
    {
      "cell_type": "code",
      "metadata": {
        "id": "YgYyBiLWAlCa"
      },
      "source": [
        ""
      ],
      "execution_count": null,
      "outputs": []
    },
    {
      "cell_type": "code",
      "metadata": {
        "id": "9BUxKB05AmBY"
      },
      "source": [
        ""
      ],
      "execution_count": null,
      "outputs": []
    },
    {
      "cell_type": "code",
      "metadata": {
        "id": "SCGHmQCaAmIb"
      },
      "source": [
        ""
      ],
      "execution_count": null,
      "outputs": []
    },
    {
      "cell_type": "code",
      "metadata": {
        "id": "uTJvboJNAmSV"
      },
      "source": [
        ""
      ],
      "execution_count": null,
      "outputs": []
    },
    {
      "cell_type": "markdown",
      "metadata": {
        "id": "tG3pseMNAnV9"
      },
      "source": [
        "# Experiments with Features"
      ]
    },
    {
      "cell_type": "code",
      "metadata": {
        "id": "dTsaLQ6LArY3"
      },
      "source": [
        ""
      ],
      "execution_count": null,
      "outputs": []
    }
  ]
}