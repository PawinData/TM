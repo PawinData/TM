{
  "nbformat": 4,
  "nbformat_minor": 0,
  "metadata": {
    "colab": {
      "name": "TM A2.ipynb",
      "provenance": [],
      "collapsed_sections": [],
      "authorship_tag": "ABX9TyMhcKhU5XOdJuunY3ghtcsO",
      "include_colab_link": true
    },
    "kernelspec": {
      "name": "python3",
      "display_name": "Python 3"
    }
  },
  "cells": [
    {
      "cell_type": "markdown",
      "metadata": {
        "id": "view-in-github",
        "colab_type": "text"
      },
      "source": [
        "<a href=\"https://colab.research.google.com/github/PawinData/TM/blob/main/TM_A2.ipynb\" target=\"_parent\"><img src=\"https://colab.research.google.com/assets/colab-badge.svg\" alt=\"Open In Colab\"/></a>"
      ]
    },
    {
      "cell_type": "code",
      "metadata": {
        "id": "vX5d8HiZ07-T",
        "outputId": "55863a19-63d1-4663-e1d3-763c4009f67a",
        "colab": {
          "base_uri": "https://localhost:8080/"
        }
      },
      "source": [
        "!pip install sklearn_crfsuite"
      ],
      "execution_count": 1,
      "outputs": [
        {
          "output_type": "stream",
          "text": [
            "Collecting sklearn_crfsuite\n",
            "  Downloading https://files.pythonhosted.org/packages/25/74/5b7befa513482e6dee1f3dd68171a6c9dfc14c0eaa00f885ffeba54fe9b0/sklearn_crfsuite-0.3.6-py2.py3-none-any.whl\n",
            "Collecting python-crfsuite>=0.8.3\n",
            "\u001b[?25l  Downloading https://files.pythonhosted.org/packages/95/99/869dde6dbf3e0d07a013c8eebfb0a3d30776334e0097f8432b631a9a3a19/python_crfsuite-0.9.7-cp36-cp36m-manylinux1_x86_64.whl (743kB)\n",
            "\u001b[K     |████████████████████████████████| 747kB 3.9MB/s \n",
            "\u001b[?25hRequirement already satisfied: six in /usr/local/lib/python3.6/dist-packages (from sklearn_crfsuite) (1.15.0)\n",
            "Requirement already satisfied: tqdm>=2.0 in /usr/local/lib/python3.6/dist-packages (from sklearn_crfsuite) (4.41.1)\n",
            "Requirement already satisfied: tabulate in /usr/local/lib/python3.6/dist-packages (from sklearn_crfsuite) (0.8.7)\n",
            "Installing collected packages: python-crfsuite, sklearn-crfsuite\n",
            "Successfully installed python-crfsuite-0.9.7 sklearn-crfsuite-0.3.6\n"
          ],
          "name": "stdout"
        }
      ]
    },
    {
      "cell_type": "code",
      "metadata": {
        "id": "isX6o2-ez5on"
      },
      "source": [
        "\n",
        "from itertools import chain\n",
        "import matplotlib.pyplot as plt\n",
        "plt.style.use('ggplot')\n",
        "\n",
        "import sklearn"
      ],
      "execution_count": null,
      "outputs": []
    },
    {
      "cell_type": "markdown",
      "metadata": {
        "id": "AC3a9zfN_Ffe"
      },
      "source": [
        "# Pre-processing\n",
        "\n",
        "Build the [reader of dataset](https://www.nltk.org/_modules/nltk/corpus/reader/conll.html) and represent every sentence as a list of tuple (word, POS, OBI)."
      ]
    },
    {
      "cell_type": "code",
      "metadata": {
        "id": "gzxmxGkYGJQp"
      },
      "source": [
        "import nltk\n",
        "#nltk.download('punkt')\n",
        "nltk.download('averaged_perceptron_tagger')\n",
        "from nltk.corpus.reader.conll import ConllCorpusReader\n",
        "# a .ConLL file reader\n",
        "READER = ConllCorpusReader(root=\"./\", fileids=\".conll\", columntypes=('words','pos','tree','chunk','ne','srl','ignore'))"
      ],
      "execution_count": null,
      "outputs": []
    },
    {
      "cell_type": "code",
      "metadata": {
        "id": "7CH2tvmDNOdm"
      },
      "source": [
        "def load(filename):\n",
        "    word_pos = [nltk.pos_tag(sentence) for sentence in READER.sents(filename)]\n",
        "    word_obi = list(READER.tagged_sents(filename))\n",
        "    return [[(a,b,d) for (a,b),(c,d) in zip(lst1, lst2)] for lst1,lst2 in zip(word_pos,word_obi)]\n",
        "\n",
        "# training set\n",
        "Train_sents = load(\"wnut17train.conll\")\n",
        "# test set\n",
        "Test_sents = load(\"emerging.test.annotated\")"
      ],
      "execution_count": 3,
      "outputs": []
    },
    {
      "cell_type": "code",
      "metadata": {
        "id": "j-QMFmWWP7mP"
      },
      "source": [
        "# Development set\n",
        "word_pos = [nltk.pos_tag(sentence) for sentence in READER.sents(\"emerging.dev.conll\")[:1008]]\n",
        "word_obi = list(READER.tagged_sents(\"emerging.dev.conll\")[:1008])\n",
        "Dev_sents = [[(a,b,d) for (a,b),(c,d) in zip(lst1, lst2)] for lst1,lst2 in zip(word_pos,word_obi)]"
      ],
      "execution_count": 4,
      "outputs": []
    },
    {
      "cell_type": "markdown",
      "metadata": {
        "id": "UTiLTsehlHky"
      },
      "source": [
        "# EDA"
      ]
    },
    {
      "cell_type": "code",
      "metadata": {
        "id": "WXV9lHFM1cjF"
      },
      "source": [
        "import matplotlib.pyplot as plt"
      ],
      "execution_count": 5,
      "outputs": []
    },
    {
      "cell_type": "code",
      "metadata": {
        "id": "FHfmT5nHlLF8",
        "outputId": "4e27f8b4-2cda-4c39-a70f-a2ab70bfba59",
        "colab": {
          "base_uri": "https://localhost:8080/"
        }
      },
      "source": [
        "# words/sentences count\n",
        "print(\"There are\", len(Train_sents), \"sentences and\", sum([len(s) for s in Train_sents]), \"words in the training set.\")\n",
        "print(\"There are\", len(Dev_sents), \"sentences and\", sum([len(s) for s in Dev_sents]), \"words in the development set.\")\n",
        "print(\"There are\", len(Test_sents), \"sentences and\", sum([len(s) for s in Test_sents]), \"words in the test set.\")"
      ],
      "execution_count": 6,
      "outputs": [
        {
          "output_type": "stream",
          "text": [
            "There are 3394 sentences and 62730 words in the training set.\n",
            "There are 1008 sentences and 15723 words in the development set.\n",
            "There are 1287 sentences and 23394 words in the test set.\n"
          ],
          "name": "stdout"
        }
      ]
    },
    {
      "cell_type": "code",
      "metadata": {
        "id": "rJvzTlFmnRST"
      },
      "source": [
        "# distribution of IBO tags"
      ],
      "execution_count": null,
      "outputs": []
    },
    {
      "cell_type": "code",
      "metadata": {
        "id": "pm5WyC9JpL65",
        "outputId": "f31d2875-af29-49e2-e4cd-fc83d63ca083",
        "colab": {
          "base_uri": "https://localhost:8080/",
          "height": 389
        }
      },
      "source": [
        "# distribution of POS tags\n",
        "def extract_POS(filename):\n",
        "    word_pos = [nltk.pos_tag(sentence) for sentence in READER.sents(filename)]\n",
        "    pos = list()\n",
        "    for sentence in word_pos:\n",
        "        pos.extend([b for a,b in sentence])\n",
        "    return pos\n",
        "\n",
        "Train_pos = extract_POS(\"wnut17train.conll\")  # training set\n",
        "Test_pos = extract_POS(\"emerging.test.annotated\")  # test set\n",
        "word_pos = [nltk.pos_tag(sentence) for sentence in READER.sents(\"emerging.dev.conll\")[:1008]]\n",
        "Dev_pos = list()\n",
        "for sentence in word_pos:\n",
        "    Dev_pos.extend([b for a,b in sentence])    # dev set\n",
        "\n",
        "Train_pos.sort(reverse=True)  # training set\n",
        "Dev_pos.sort(reverse=True)    # test set\n",
        "Test_pos.sort(reverse=True)   # dev set\n",
        "\n",
        "fg, ax = plt.subplots(1,3, figsize=(20,5))\n",
        "fg.suptitle(\"Distribution of Part-of-Speech Tags\", fontsize=20)\n",
        "for i,(S,C,T) in enumerate(zip([Train_pos,Dev_pos,Test_pos],\n",
        "                               [\"steelblue\",\"darkolivegreen\",\"darksalmon\"],\n",
        "                               [\"Training Set\",\"Development Set\",\"Test Set\"])):\n",
        "    ax[i].hist(S, color=C)\n",
        "    ax[i].set_title(T, fontsize=18, color=C)\n",
        "    ax[i].set_xlabel(\"POS Tags\", fontsize=16)\n",
        "    ax[i].set_ylabel(\"Count\", fontsize=16)\n",
        "    ax[i].tick_params(labelrotation=90)\n",
        "plt.show()"
      ],
      "execution_count": 7,
      "outputs": [
        {
          "output_type": "display_data",
          "data": {
            "image/png": "[encoded data removed]",
            "text/plain": [
              "<Figure size 1440x360 with 3 Axes>"
            ]
          },
          "metadata": {
            "tags": [],
            "needs_background": "light"
          }
        }
      ]
    },
    {
      "cell_type": "code",
      "metadata": {
        "id": "kaQKmLm9pkFw",
        "outputId": "759c18f8-24eb-4ad2-e274-a7aceedbd74c",
        "colab": {
          "base_uri": "https://localhost:8080/",
          "height": 357
        }
      },
      "source": [
        "# distribution of sentence length\n",
        "fig, axs = plt.subplots(1,3, figsize=(15,5))\n",
        "fig.suptitle(\"Distribution of Sentence Length\", fontsize=20)\n",
        "for i,(S,C,T) in enumerate(zip([Train_sents,Dev_sents,Test_sents],\n",
        "                               [\"steelblue\",\"darkolivegreen\",\"darksalmon\"],\n",
        "                               [\"Training Set\",\"Development Set\",\"Test Set\"])):\n",
        "    axs[i].hist([len(s) for s in S], bins=40, color=C)\n",
        "    axs[i].set_title(T, fontsize=18, color=C)\n",
        "    axs[i].set_xlabel(\"Number of Tokens in a Sentence\", fontsize=16)\n",
        "    axs[i].set_ylabel(\"Count\", fontsize=16)\n",
        "plt.show()"
      ],
      "execution_count": 8,
      "outputs": [
        {
          "output_type": "display_data",
          "data": {
            "image/png": "[encoded data removed]",
            "text/plain": [
              "<Figure size 1080x360 with 3 Axes>"
            ]
          },
          "metadata": {
            "tags": [],
            "needs_background": "light"
          }
        }
      ]
    },
    {
      "cell_type": "markdown",
      "metadata": {
        "id": "OMhkN7j-KGEB"
      },
      "source": [
        "# Baseline\n",
        "\n",
        "Extract the OBI label and the following features from each word in a sentence. Build a model of Conditional Random Field (**CRF**) on the training data and evaluate its performance on the test set. As a baseline, generate **transition features** that associate all of possible label pairs and **iterate $100$ times at most** by the **L-BFGS algorithm of Gradient Descent** with Elastic-Net regularization to fit model parameters; in specific, **L1-regularization** is controlled by $c_1 = 0.1$ and **L2-regularization** by $c_2 = 0.1$.\n",
        "\n",
        "**Features:**\n",
        "1.   **Word Identity**: lowercased form\n",
        "2.   **Word Suffix**: the last two and three characters\n",
        "3.   **Word Shape**: whether a word is a digit, is uppercased, or starts with an uppercase character\n",
        "4.   **Part-of-Speech Tag**: noun, verb, adjective, e.t.c\n",
        "5.   **BOS**: whether a word is the start of sentence\n",
        "6.   **EOS**: whether a word is the end of sentence\n",
        "\n"
      ]
    },
    {
      "cell_type": "code",
      "metadata": {
        "id": "Quassgy2AgN9"
      },
      "source": [
        "from sklearn_crfsuite import CRF, metrics"
      ],
      "execution_count": 9,
      "outputs": []
    },
    {
      "cell_type": "code",
      "metadata": {
        "id": "Y9kFWpxhKLsi"
      },
      "source": [
        "# extract features and labels\n",
        "def word2features(sent, i):\n",
        "    word = sent[i][0]\n",
        "    postag = sent[i][1]\n",
        "\n",
        "    features = {'bias': 1.0,\n",
        "                'word.lower()': word.lower(),        # word identity\n",
        "                'word[-3:]': word[-3:],              # word suffix \n",
        "                'word[-2:]': word[-2:],\n",
        "                'word.isupper()': word.isupper(),    # word shape\n",
        "                'word.istitle()': word.istitle(),\n",
        "                'word.isdigit()': word.isdigit(),\n",
        "                'postag': postag,                    # POS tag\n",
        "                'postag[:2]': postag[:2],\n",
        "               }\n",
        "    if i > 0:\n",
        "        word1 = sent[i-1][0]\n",
        "        postag1 = sent[i-1][1]\n",
        "        features.update({'-1:word.lower()': word1.lower(),\n",
        "                          '-1:word.istitle()': word1.istitle(),\n",
        "                          '-1:word.isupper()': word1.isupper(),\n",
        "                          '-1:postag': postag1,\n",
        "                          '-1:postag[:2]': postag1[:2],\n",
        "                      })\n",
        "    else:\n",
        "        features['BOS'] = True                      # BOS\n",
        "\n",
        "    if i < len(sent)-1:\n",
        "        word1 = sent[i+1][0]\n",
        "        postag1 = sent[i+1][1]\n",
        "        features.update({'+1:word.lower()': word1.lower(),\n",
        "                         '+1:word.istitle()': word1.istitle(),\n",
        "                         '+1:word.isupper()': word1.isupper(),\n",
        "                         '+1:postag': postag1,\n",
        "                         '+1:postag[:2]': postag1[:2],\n",
        "                       })\n",
        "    else:\n",
        "        features['EOS'] = True                     # EOS\n",
        "\n",
        "    return features\n",
        "\n",
        "\n",
        "def sent2features(sent):\n",
        "    return [word2features(sent, i) for i in range(len(sent))]\n",
        "\n",
        "def sent2labels(sent):\n",
        "    return [label for token, postag, label in sent]\n",
        "\n",
        "def setup(data_sents):\n",
        "    return [sent2features(s) for s in data_sents], [sent2labels(s) for s in data_sents]"
      ],
      "execution_count": 10,
      "outputs": []
    },
    {
      "cell_type": "code",
      "metadata": {
        "id": "s8G9DBEvZwbb"
      },
      "source": [
        "# set up datasets\n",
        "X_train,y_train = setup(Train_sents)\n",
        "X_test, y_test  = setup(Test_sents)\n",
        "X_dev,  y_dev   = setup(Dev_sents)"
      ],
      "execution_count": 11,
      "outputs": []
    },
    {
      "cell_type": "code",
      "metadata": {
        "id": "lQFD7vSmKHLR"
      },
      "source": [
        "# training\n",
        "baseline = CRF(algorithm='lbfgs', c1=0.1, c2=0.1, max_iterations=100, all_possible_transitions=True)\n",
        "baseline.fit(X_train, y_train)"
      ],
      "execution_count": null,
      "outputs": []
    },
    {
      "cell_type": "code",
      "metadata": {
        "id": "z0Wz1buRAgTw",
        "outputId": "64197e23-7fdb-48fd-88b0-5179f7576e78",
        "colab": {
          "base_uri": "https://localhost:8080/"
        }
      },
      "source": [
        "# evaluate\n",
        "print(\"Overall Accuracy on Test Set:\", baseline.score(X_test, y_test), \"\\n\")\n",
        "\n",
        "labels = list(baseline.classes_)\n",
        "labels.remove('O')\n",
        "sorted_labels = sorted(labels, key = lambda name: (name[1:], name[0]))\n",
        "print(metrics.flat_classification_report(y_test, baseline.predict(X_test), labels=sorted_labels, digits=4))"
      ],
      "execution_count": 13,
      "outputs": [
        {
          "output_type": "stream",
          "text": [
            "Overall Accuracy on Test Set: 0.9286141745746773 \n",
            "\n",
            "                 precision    recall  f1-score   support\n",
            "\n",
            "  B-corporation     0.0000    0.0000    0.0000        66\n",
            "  I-corporation     0.0000    0.0000    0.0000        22\n",
            "B-creative-work     0.3333    0.0352    0.0637       142\n",
            "I-creative-work     0.2963    0.0367    0.0653       218\n",
            "        B-group     0.3000    0.0364    0.0649       165\n",
            "        I-group     0.3571    0.0714    0.1190        70\n",
            "     B-location     0.3846    0.2333    0.2905       150\n",
            "     I-location     0.2308    0.0638    0.1000        94\n",
            "       B-person     0.5514    0.1375    0.2201       429\n",
            "       I-person     0.5472    0.2214    0.3152       131\n",
            "      B-product     0.6000    0.0236    0.0455       127\n",
            "      I-product     0.3750    0.0476    0.0845       126\n",
            "\n",
            "      micro avg     0.4297    0.0931    0.1530      1740\n",
            "      macro avg     0.3313    0.0756    0.1141      1740\n",
            "   weighted avg     0.4009    0.0931    0.1422      1740\n",
            "\n"
          ],
          "name": "stdout"
        }
      ]
    },
    {
      "cell_type": "markdown",
      "metadata": {
        "id": "gOBnOwkrqEpm"
      },
      "source": [
        "The baseline run performs rather poorly for recognizing **B-tags and I-tags**, although the overall accuracy reaches as high as $93\\%$. Recall scores are particularly low."
      ]
    },
    {
      "cell_type": "markdown",
      "metadata": {
        "id": "gkMZPHaMAgmW"
      },
      "source": [
        "# Hyperparameters Optimization\n",
        "\n",
        "Execute a grid search for better algorithm and optimal hyperparameters of the CRF model. Candidate algorithms are **Gradient Descent with L-BFGS method** and **Stochastic Gradient Descent with L2 regularization**. Also, check if generating **transition features** improves the labeling. \n",
        "\n",
        "Performance is evaluated by the **F1-score** of B-tags and I-tags on different **evaluation sets**. The optimal hyperparameters are those scoring the highest on the evaluation set."
      ]
    },
    {
      "cell_type": "code",
      "metadata": {
        "id": "YgYyBiLWAlCa"
      },
      "source": [
        "import numpy as np\n",
        "import pandas as pd\n",
        "import scipy.stats\n",
        "from sklearn.metrics import make_scorer\n",
        "from sklearn.model_selection import RandomizedSearchCV, cross_val_score"
      ],
      "execution_count": 14,
      "outputs": []
    },
    {
      "cell_type": "markdown",
      "metadata": {
        "id": "Ztx6lf49deuT"
      },
      "source": [
        "## Cross-Validation\n",
        "\n",
        "Randomly split the training set into $K=5$ subsets. In each of the $5$ runs, train the model on $4$ subsets merged and compute the score on the the other subset, then the performance yielded by a specific combination of hyperparameters is evaluated by the average of these $5$ scores.\n",
        "\n",
        "Execute a random search on $c_1 \\sim \\exp(-2\\nu)$ and $c_2 \\sim \\exp(-20\\nu)$. $50$ independent samples of $(c_1, c_2)$ are generated and tried for model fitting."
      ]
    },
    {
      "cell_type": "code",
      "metadata": {
        "id": "eJjomZdheprI",
        "outputId": "d16615f1-d507-4f25-a571-41d40dd93bcf",
        "colab": {
          "base_uri": "https://localhost:8080/"
        }
      },
      "source": [
        "# randomm search of (c1, c2, all_possible_transitions) using Gradient Descent with L-BFGS\n",
        "net = CRF(algorithm='lbfgs', max_iterations=100)\n",
        "params_space = {'c1': scipy.stats.expon(scale=0.5), \n",
        "                'c2': scipy.stats.expon(scale=0.05),\n",
        "                'all_possible_transitions': [True,False]\n",
        "               }\n",
        "rs = RandomizedSearchCV(net, params_space,\n",
        "                        cv=5,\n",
        "                        verbose=1,\n",
        "                        n_jobs=-1,\n",
        "                        n_iter=50,\n",
        "                        scoring=make_scorer(metrics.flat_f1_score, average='weighted', labels=labels))\n",
        "rs.fit(X_train, y_train)"
      ],
      "execution_count": 16,
      "outputs": [
        {
          "output_type": "stream",
          "text": [
            "Fitting 5 folds for each of 50 candidates, totalling 250 fits\n"
          ],
          "name": "stdout"
        },
        {
          "output_type": "stream",
          "text": [
            "/usr/local/lib/python3.6/dist-packages/sklearn/base.py:197: FutureWarning: From version 0.24, get_params will raise an AttributeError if a parameter cannot be retrieved as an instance attribute. Previously it would return None.\n",
            "  FutureWarning)\n",
            "[Parallel(n_jobs=-1)]: Using backend LokyBackend with 2 concurrent workers.\n",
            "[Parallel(n_jobs=-1)]: Done  46 tasks      | elapsed: 11.5min\n",
            "[Parallel(n_jobs=-1)]: Done 196 tasks      | elapsed: 48.1min\n",
            "[Parallel(n_jobs=-1)]: Done 250 out of 250 | elapsed: 61.0min finished\n"
          ],
          "name": "stderr"
        },
        {
          "output_type": "execute_result",
          "data": {
            "text/plain": [
              "RandomizedSearchCV(cv=5, error_score=nan,\n",
              "                   estimator=CRF(algorithm='lbfgs', all_possible_states=None,\n",
              "                                 all_possible_transitions=None, averaging=None,\n",
              "                                 c=None, c1=None, c2=None,\n",
              "                                 calibration_candidates=None,\n",
              "                                 calibration_eta=None,\n",
              "                                 calibration_max_trials=None,\n",
              "                                 calibration_rate=None,\n",
              "                                 calibration_samples=None, delta=None,\n",
              "                                 epsilon=None, error_sensitive=None, gamma=None,\n",
              "                                 keep_...\n",
              "                                        'c2': <scipy.stats._distn_infrastructure.rv_frozen object at 0x7faaebfb07b8>},\n",
              "                   pre_dispatch='2*n_jobs', random_state=None, refit=True,\n",
              "                   return_train_score=False,\n",
              "                   scoring=make_scorer(flat_f1_score, average=weighted, labels=['B-location', 'I-location', 'B-group', 'B-corporation', 'B-person', 'B-creative-work', 'B-product', 'I-person', 'I-creative-work', 'I-corporation', 'I-group', 'I-product']),\n",
              "                   verbose=1)"
            ]
          },
          "metadata": {
            "tags": []
          },
          "execution_count": 16
        }
      ]
    },
    {
      "cell_type": "code",
      "metadata": {
        "id": "aBP8_MHEEsRP",
        "outputId": "fe99cc64-e28a-4564-cea8-fdcaea7bd115",
        "colab": {
          "base_uri": "https://localhost:8080/"
        }
      },
      "source": [
        "# optimized results\n",
        "print(\"Using Gradient Descent with L-BFGS, \\n\")\n",
        "print('Best Parameters:', rs.best_params_)\n",
        "print('Best CV Score:', rs.best_score_)\n",
        "print('Model Size: {:0.2f}M'.format(rs.best_estimator_.size_ / 10**6))"
      ],
      "execution_count": 17,
      "outputs": [
        {
          "output_type": "stream",
          "text": [
            "Using Gradient Descent with L-BFGS, \n",
            "\n",
            "Best Parameters: {'all_possible_transitions': True, 'c1': 0.1506461620793222, 'c2': 0.015507926153636843}\n",
            "Best CV Score: 0.4209605149935597\n",
            "Model Size: 0.63M\n"
          ],
          "name": "stdout"
        }
      ]
    },
    {
      "cell_type": "code",
      "metadata": {
        "id": "HetPMeVQE2iJ",
        "outputId": "71b4c8db-588c-45eb-a9fd-fdabb7c5836b",
        "colab": {
          "base_uri": "https://localhost:8080/"
        }
      },
      "source": [
        "# evaluate\n",
        "net = rs.best_estimator_\n",
        "print(\"Overall Accuracy on Test Set:\", net.score(X_test,y_test))\n",
        "print(metrics.flat_classification_report(y_test, net.predict(X_test), labels=sorted_labels, digits=4))"
      ],
      "execution_count": 19,
      "outputs": [
        {
          "output_type": "stream",
          "text": [
            "Overall Accuracy on Test Set: 0.9278874925194495\n",
            "                 precision    recall  f1-score   support\n",
            "\n",
            "  B-corporation     0.0000    0.0000    0.0000        66\n",
            "  I-corporation     0.0000    0.0000    0.0000        22\n",
            "B-creative-work     0.3125    0.0352    0.0633       142\n",
            "I-creative-work     0.3333    0.0505    0.0876       218\n",
            "        B-group     0.2083    0.0303    0.0529       165\n",
            "        I-group     0.2941    0.0714    0.1149        70\n",
            "     B-location     0.3441    0.2133    0.2634       150\n",
            "     I-location     0.3214    0.0957    0.1475        94\n",
            "       B-person     0.6000    0.1259    0.2081       429\n",
            "       I-person     0.5106    0.1832    0.2697       131\n",
            "      B-product     0.5000    0.0157    0.0305       127\n",
            "      I-product     0.1923    0.0397    0.0658       126\n",
            "\n",
            "      micro avg     0.4000    0.0874    0.1434      1740\n",
            "      macro avg     0.3014    0.0717    0.1086      1740\n",
            "   weighted avg     0.3827    0.0874    0.1351      1740\n",
            "\n"
          ],
          "name": "stdout"
        }
      ]
    },
    {
      "cell_type": "code",
      "metadata": {
        "id": "8rqvYbvD7xy3",
        "outputId": "48c1230a-fa16-4542-cd17-628f83598e4a",
        "colab": {
          "base_uri": "https://localhost:8080/"
        }
      },
      "source": [
        "# randomm search of (c2, all_possible_transitions) using Stochastic Gradient Descent with L2 Regularization\n",
        "l2 = CRF(algorithm='l2sgd', max_iterations=100)\n",
        "params_space = {\n",
        "                'c2': scipy.stats.expon(scale=0.05),\n",
        "                'all_possible_transitions': [True,False]\n",
        "               }\n",
        "rs = RandomizedSearchCV(l2, params_space,\n",
        "                        cv=5,\n",
        "                        verbose=1,\n",
        "                        n_jobs=-1,\n",
        "                        n_iter=50,\n",
        "                        scoring=make_scorer(metrics.flat_f1_score, average='weighted', labels=labels))\n",
        "rs.fit(X_train, y_train)"
      ],
      "execution_count": 20,
      "outputs": [
        {
          "output_type": "stream",
          "text": [
            "Fitting 5 folds for each of 50 candidates, totalling 250 fits\n"
          ],
          "name": "stdout"
        },
        {
          "output_type": "stream",
          "text": [
            "/usr/local/lib/python3.6/dist-packages/sklearn/base.py:197: FutureWarning: From version 0.24, get_params will raise an AttributeError if a parameter cannot be retrieved as an instance attribute. Previously it would return None.\n",
            "  FutureWarning)\n",
            "[Parallel(n_jobs=-1)]: Using backend LokyBackend with 2 concurrent workers.\n",
            "[Parallel(n_jobs=-1)]: Done  46 tasks      | elapsed: 12.3min\n",
            "[Parallel(n_jobs=-1)]: Done 196 tasks      | elapsed: 51.8min\n",
            "[Parallel(n_jobs=-1)]: Done 250 out of 250 | elapsed: 65.8min finished\n"
          ],
          "name": "stderr"
        },
        {
          "output_type": "execute_result",
          "data": {
            "text/plain": [
              "RandomizedSearchCV(cv=5, error_score=nan,\n",
              "                   estimator=CRF(algorithm='l2sgd', all_possible_states=None,\n",
              "                                 all_possible_transitions=None, averaging=None,\n",
              "                                 c=None, c1=None, c2=None,\n",
              "                                 calibration_candidates=None,\n",
              "                                 calibration_eta=None,\n",
              "                                 calibration_max_trials=None,\n",
              "                                 calibration_rate=None,\n",
              "                                 calibration_samples=None, delta=None,\n",
              "                                 epsilon=None, error_sensitive=None, gamma=None,\n",
              "                                 keep_...\n",
              "                                        'c2': <scipy.stats._distn_infrastructure.rv_frozen object at 0x7faaea3d3d68>},\n",
              "                   pre_dispatch='2*n_jobs', random_state=None, refit=True,\n",
              "                   return_train_score=False,\n",
              "                   scoring=make_scorer(flat_f1_score, average=weighted, labels=['B-location', 'I-location', 'B-group', 'B-corporation', 'B-person', 'B-creative-work', 'B-product', 'I-person', 'I-creative-work', 'I-corporation', 'I-group', 'I-product']),\n",
              "                   verbose=1)"
            ]
          },
          "metadata": {
            "tags": []
          },
          "execution_count": 20
        }
      ]
    },
    {
      "cell_type": "code",
      "metadata": {
        "id": "p4A0NMxT8Kfz",
        "outputId": "863264d4-f5db-49b1-ba2a-aefb96abb82a",
        "colab": {
          "base_uri": "https://localhost:8080/"
        }
      },
      "source": [
        "# optimized results\n",
        "print(\"Using Stochastic Gradient Descent with L2 Regularization, \\n\")\n",
        "print('Best Parameters:', rs.best_params_)\n",
        "print('Best CV Score:', rs.best_score_)\n",
        "print('Model Size: {:0.2f}M'.format(rs.best_estimator_.size_ / 10**6))"
      ],
      "execution_count": 21,
      "outputs": [
        {
          "output_type": "stream",
          "text": [
            "Using Stochastic Gradient Descent with L2 Regularization, \n",
            "\n",
            "Best Parameters: {'all_possible_transitions': True, 'c2': 0.008186604647271476}\n",
            "Best CV Score: 0.4345221982876831\n",
            "Model Size: 3.83M\n"
          ],
          "name": "stdout"
        }
      ]
    },
    {
      "cell_type": "code",
      "metadata": {
        "id": "whsiiZyP8j3t",
        "outputId": "4a757963-77a7-480b-f223-8a571a9f9eec",
        "colab": {
          "base_uri": "https://localhost:8080/"
        }
      },
      "source": [
        "# evaluate\n",
        "l2 = rs.best_estimator_\n",
        "print(\"Overall Accuracy on Test Set:\", l2.score(X_test,y_test))\n",
        "print(metrics.flat_classification_report(y_test, l2.predict(X_test), labels=sorted_labels, digits=4))"
      ],
      "execution_count": 23,
      "outputs": [
        {
          "output_type": "stream",
          "text": [
            "Overall Accuracy on Test Set: 0.9289988886039156\n",
            "                 precision    recall  f1-score   support\n",
            "\n",
            "  B-corporation     0.0000    0.0000    0.0000        66\n",
            "  I-corporation     0.0000    0.0000    0.0000        22\n",
            "B-creative-work     0.3333    0.0282    0.0519       142\n",
            "I-creative-work     0.3889    0.0321    0.0593       218\n",
            "        B-group     0.1351    0.0303    0.0495       165\n",
            "        I-group     0.1333    0.0286    0.0471        70\n",
            "     B-location     0.3556    0.2133    0.2667       150\n",
            "     I-location     0.4000    0.0851    0.1404        94\n",
            "       B-person     0.5267    0.1608    0.2464       429\n",
            "       I-person     0.5424    0.2443    0.3368       131\n",
            "      B-product     0.6000    0.0236    0.0455       127\n",
            "      I-product     0.7143    0.0397    0.0752       126\n",
            "\n",
            "      micro avg     0.4185    0.0960    0.1561      1740\n",
            "      macro avg     0.3441    0.0738    0.1099      1740\n",
            "   weighted avg     0.4126    0.0960    0.1437      1740\n",
            "\n"
          ],
          "name": "stdout"
        }
      ]
    },
    {
      "cell_type": "markdown",
      "metadata": {
        "id": "lRabfbGSeqLk"
      },
      "source": [
        "## Development Set\n",
        "\n",
        "\n",
        "Execute a grid search on $(c_1,c_2) \\in [0.01, 0.8] \\times [0.01, 1]$ and use the development set for evaluation."
      ]
    },
    {
      "cell_type": "code",
      "metadata": {
        "id": "9BUxKB05AmBY"
      },
      "source": [
        "# grid search of hyperparameters (c1,c2, all_possible_transitions)\n",
        "\n",
        "def score(algorithm, transitions):\n",
        "    if algorithm=='lbfgs':\n",
        "        crf = CRF(algorithm='lbfgs', c1=c1, c2=c2, max_iterations=100, all_possible_transitions=transitions)\n",
        "    if algorithm=='l2sgd':\n",
        "        crf = CRF(algorithm='l2sgd', c2=c2, max_iterations=100, all_possible_transitions=transitions)\n",
        "    crf.fit(X_train, y_train)\n",
        "    return metrics.flat_f1_score(y_dev, crf.predict(X_dev), average='weighted', labels=labels)\n",
        "\n",
        "LB = dict()\n",
        "a,b,k = 0.01, 0.8, 15\n",
        "for c1 in np.linspace(a,b,k):\n",
        "    lst = list()\n",
        "    for c2 in np.linspace(a,b,k):\n",
        "        a = np.mean([score('lbfgs', True) for run in range(3)])\n",
        "        b = np.mean([score('lbfgs',False) for run in range(3)])\n",
        "        lst.append((a,b))\n",
        "    LB[\"c1 = \"+str(round(c1,2))] = lst\n",
        "LB = pd.DataFrame(LB, index=[\"c2 = \"+str(round(ele,2)) for ele in np.linspace(a,b,k)])\n",
        "\n",
        "L2 = dict()\n",
        "for c2 in np.linspace(0.01, 1, 25):\n",
        "    a = np.mean([score('l2sgd', True) for run in range(5)])\n",
        "    b = np.mean([score('l2sgd',False) for run in range(5)])\n",
        "    L2[\"c2 = \"+str(round(c2,2))] = (a,b)\n",
        "L2 = pd.DataFrame(L2, index=[\"F1-Score\"])"
      ],
      "execution_count": null,
      "outputs": []
    },
    {
      "cell_type": "code",
      "metadata": {
        "id": "5oEcXXfpv2Ep",
        "outputId": "2c77b14b-2a5f-4b21-fced-d2e654af8f0c",
        "colab": {
          "base_uri": "https://localhost:8080/",
          "height": 166
        }
      },
      "source": [
        "LB"
      ],
      "execution_count": 1,
      "outputs": [
        {
          "output_type": "error",
          "ename": "NameError",
          "evalue": "ignored",
          "traceback": [
            "\u001b[0;31m---------------------------------------------------------------------------\u001b[0m",
            "\u001b[0;31mNameError\u001b[0m                                 Traceback (most recent call last)",
            "\u001b[0;32m<ipython-input-1-d49ffcf94bc0>\u001b[0m in \u001b[0;36m<module>\u001b[0;34m()\u001b[0m\n\u001b[0;32m----> 1\u001b[0;31m \u001b[0mLB\u001b[0m\u001b[0;34m\u001b[0m\u001b[0;34m\u001b[0m\u001b[0m\n\u001b[0m",
            "\u001b[0;31mNameError\u001b[0m: name 'LB' is not defined"
          ]
        }
      ]
    },
    {
      "cell_type": "code",
      "metadata": {
        "id": "GBYgOaanwD-i",
        "outputId": "8846ed92-fabe-43fa-b344-8d680b13707c",
        "colab": {
          "base_uri": "https://localhost:8080/",
          "height": 134
        }
      },
      "source": [
        "L2 = pd.DataFrame(L2, index=[\"F1-Score\"])\n",
        "L2"
      ],
      "execution_count": null,
      "outputs": [
        {
          "output_type": "execute_result",
          "data": {
            "text/html": [
              "<div>\n",
              "<style scoped>\n",
              "    .dataframe tbody tr th:only-of-type {\n",
              "        vertical-align: middle;\n",
              "    }\n",
              "\n",
              "    .dataframe tbody tr th {\n",
              "        vertical-align: top;\n",
              "    }\n",
              "\n",
              "    .dataframe thead th {\n",
              "        text-align: right;\n",
              "    }\n",
              "</style>\n",
              "<table border=\"1\" class=\"dataframe\">\n",
              "  <thead>\n",
              "    <tr style=\"text-align: right;\">\n",
              "      <th></th>\n",
              "      <th>c2 = 0.01</th>\n",
              "      <th>c2 = 0.05</th>\n",
              "      <th>c2 = 0.09</th>\n",
              "      <th>c2 = 0.13</th>\n",
              "      <th>c2 = 0.18</th>\n",
              "      <th>c2 = 0.22</th>\n",
              "      <th>c2 = 0.26</th>\n",
              "      <th>c2 = 0.3</th>\n",
              "      <th>c2 = 0.34</th>\n",
              "      <th>c2 = 0.38</th>\n",
              "      <th>c2 = 0.42</th>\n",
              "      <th>c2 = 0.46</th>\n",
              "      <th>c2 = 0.5</th>\n",
              "      <th>c2 = 0.55</th>\n",
              "      <th>c2 = 0.59</th>\n",
              "      <th>c2 = 0.63</th>\n",
              "      <th>c2 = 0.67</th>\n",
              "      <th>c2 = 0.71</th>\n",
              "      <th>c2 = 0.75</th>\n",
              "      <th>c2 = 0.79</th>\n",
              "      <th>c2 = 0.84</th>\n",
              "      <th>c2 = 0.88</th>\n",
              "      <th>c2 = 0.92</th>\n",
              "      <th>c2 = 0.96</th>\n",
              "      <th>c2 = 1.0</th>\n",
              "    </tr>\n",
              "  </thead>\n",
              "  <tbody>\n",
              "    <tr>\n",
              "      <th>F1-Score</th>\n",
              "      <td>0.187054</td>\n",
              "      <td>0.18208</td>\n",
              "      <td>0.188952</td>\n",
              "      <td>0.185973</td>\n",
              "      <td>0.164164</td>\n",
              "      <td>0.154185</td>\n",
              "      <td>0.153367</td>\n",
              "      <td>0.173979</td>\n",
              "      <td>0.181454</td>\n",
              "      <td>0.17179</td>\n",
              "      <td>0.163563</td>\n",
              "      <td>0.133909</td>\n",
              "      <td>0.195393</td>\n",
              "      <td>0.149855</td>\n",
              "      <td>0.143019</td>\n",
              "      <td>0.1253</td>\n",
              "      <td>0.145295</td>\n",
              "      <td>0.125317</td>\n",
              "      <td>0.131505</td>\n",
              "      <td>0.14596</td>\n",
              "      <td>0.188742</td>\n",
              "      <td>0.152017</td>\n",
              "      <td>0.12958</td>\n",
              "      <td>0.1336</td>\n",
              "      <td>0.152995</td>\n",
              "    </tr>\n",
              "  </tbody>\n",
              "</table>\n",
              "</div>"
            ],
            "text/plain": [
              "          c2 = 0.01  c2 = 0.05  c2 = 0.09  ...  c2 = 0.92  c2 = 0.96  c2 = 1.0\n",
              "F1-Score   0.187054    0.18208   0.188952  ...    0.12958     0.1336  0.152995\n",
              "\n",
              "[1 rows x 25 columns]"
            ]
          },
          "metadata": {
            "tags": []
          },
          "execution_count": 25
        }
      ]
    },
    {
      "cell_type": "code",
      "metadata": {
        "id": "SCGHmQCaAmIb",
        "outputId": "9b1e1fa7-32de-49b0-d491-5866912537bf",
        "colab": {
          "base_uri": "https://localhost:8080/"
        }
      },
      "source": [
        "# explore whether to generate transition features\n",
        "from random import seed\n",
        "\n",
        "seed(59)\n",
        "\n",
        "print(\"When using Gradient Descent with L-BFGS method,\")\n",
        "print(\"c1 = 0.63, c2 = 0.07\")\n",
        "crf = CRF(algorithm='lbfgs', c1=0.63, c2=0.07, max_iterations=1000, all_possible_transitions=True)\n",
        "crf.fit(X_train, y_train)\n",
        "print(\"With Transition Features: F1-Score =\",metrics.flat_f1_score(y_dev, crf.predict(X_dev), average='weighted', labels=labels))\n",
        "crf = CRF(algorithm='lbfgs', c1=0.63, c2=0.07, max_iterations=1000, all_possible_transitions=False)\n",
        "crf.fit(X_train, y_train)\n",
        "print(\"Without Transition Features: F1-Score =\",metrics.flat_f1_score(y_dev, crf.predict(X_dev), average='weighted', labels=labels))\n",
        "\n",
        "print(\"\")\n",
        "print(\"When using Stochastic Gradent Descent with L2-regularization,\")\n",
        "print(\"c2 = 0.5\")\n",
        "crf = CRF(algorithm='l2sgd', c2=0.5, max_iterations=1000, all_possible_transitions=True)\n",
        "crf.fit(X_train, y_train)\n",
        "print(\"With Transition Features: F1-Score =\",metrics.flat_f1_score(y_dev, crf.predict(X_dev), average='weighted', labels=labels))\n",
        "crf = CRF(algorithm='l2sgd', c2=0.5, max_iterations=1000, all_possible_transitions=False)\n",
        "crf.fit(X_train, y_train)\n",
        "print(\"Without Transition Features: F1-Score =\",metrics.flat_f1_score(y_dev, crf.predict(X_dev), average='weighted', labels=labels))\n",
        "print(\"c2 = 0.09\")\n",
        "crf = CRF(algorithm='l2sgd', c2=0.09, max_iterations=1000, all_possible_transitions=True)\n",
        "crf.fit(X_train, y_train)\n",
        "print(\"With Transition Features: F1-Score =\",metrics.flat_f1_score(y_dev, crf.predict(X_dev), average='weighted', labels=labels))\n",
        "crf = CRF(algorithm='l2sgd', c2=0.09, max_iterations=1000, all_possible_transitions=False)\n",
        "crf.fit(X_train, y_train)\n",
        "print(\"Without Transition Features: F1-Score =\",metrics.flat_f1_score(y_dev, crf.predict(X_dev), average='weighted', labels=labels))"
      ],
      "execution_count": 25,
      "outputs": [
        {
          "output_type": "stream",
          "text": [
            "When using Gradient Descent with L-BFGS method,\n",
            "c1 = 0.63, c2 = 0.07\n",
            "With Transition Features: F1-Score = 0.18338749199487608\n",
            "Without Transition Features: F1-Score = 0.18240127626053698\n",
            "\n",
            "When using Stochastic Gradent Descent with L2-regularization,\n",
            "c2 = 0.5\n",
            "With Transition Features: F1-Score = 0.17516920175773565\n",
            "Without Transition Features: F1-Score = 0.1337322556106897\n",
            "c2 = 0.09\n",
            "With Transition Features: F1-Score = 0.16402722015063967\n",
            "Without Transition Features: F1-Score = 0.19193950248288366\n"
          ],
          "name": "stdout"
        }
      ]
    },
    {
      "cell_type": "code",
      "metadata": {
        "id": "uTJvboJNAmSV",
        "outputId": "3ec8d855-607d-47c9-96d3-8faa52c9383d",
        "colab": {
          "base_uri": "https://localhost:8080/"
        }
      },
      "source": [
        "# evaluate on test set\n",
        "opt = CRF(algorithm='lbfgs', c1=0.63, c2=0.07, max_iterations=100, all_possible_transitions=True)\n",
        "opt.fit(X_train, y_train)\n",
        "print(\"Overall Accuracy on Test Set:\", opt.score(X_test, y_test), \"\\n\")\n",
        "print(metrics.flat_classification_report(y_test, opt.predict(X_test), labels=sorted_labels, digits=4))"
      ],
      "execution_count": 24,
      "outputs": [
        {
          "output_type": "stream",
          "text": [
            "Overall Accuracy on Test Set: 0.9272890484739676 \n",
            "\n"
          ],
          "name": "stdout"
        },
        {
          "output_type": "stream",
          "text": [
            "/usr/local/lib/python3.6/dist-packages/sklearn/metrics/_classification.py:1272: UndefinedMetricWarning: Precision and F-score are ill-defined and being set to 0.0 in labels with no predicted samples. Use `zero_division` parameter to control this behavior.\n",
            "  _warn_prf(average, modifier, msg_start, len(result))\n"
          ],
          "name": "stderr"
        },
        {
          "output_type": "stream",
          "text": [
            "                 precision    recall  f1-score   support\n",
            "\n",
            "  B-corporation     0.0000    0.0000    0.0000        66\n",
            "  I-corporation     0.0000    0.0000    0.0000        22\n",
            "B-creative-work     0.3529    0.0423    0.0755       142\n",
            "I-creative-work     0.2941    0.0459    0.0794       218\n",
            "        B-group     0.2273    0.0303    0.0535       165\n",
            "        I-group     0.2353    0.0571    0.0920        70\n",
            "     B-location     0.3271    0.2333    0.2724       150\n",
            "     I-location     0.2778    0.1064    0.1538        94\n",
            "       B-person     0.5385    0.1305    0.2101       429\n",
            "       I-person     0.4906    0.1985    0.2826       131\n",
            "      B-product     0.2000    0.0079    0.0152       127\n",
            "      I-product     0.1739    0.0317    0.0537       126\n",
            "\n",
            "      micro avg     0.3738    0.0902    0.1454      1740\n",
            "      macro avg     0.2598    0.0737    0.1073      1740\n",
            "   weighted avg     0.3368    0.0902    0.1347      1740\n",
            "\n"
          ],
          "name": "stdout"
        }
      ]
    },
    {
      "cell_type": "code",
      "metadata": {
        "id": "aLzqdKT3w069",
        "outputId": "3931c631-d48f-4ef9-cf0f-658cccd32e98",
        "colab": {
          "base_uri": "https://localhost:8080/"
        }
      },
      "source": [
        "# evaluate on test set\n",
        "optmz = CRF(algorithm='l2sgd', c2=0.09, max_iterations=200, all_possible_transitions=False)\n",
        "optmz.fit(X_train, y_train)\n",
        "print(\"Overall Accuracy on Test Set:\", optmz.score(X_test, y_test), \"\\n\")\n",
        "print(metrics.flat_classification_report(y_test, optmz.predict(X_test), labels=sorted_labels, digits=4))"
      ],
      "execution_count": 43,
      "outputs": [
        {
          "output_type": "stream",
          "text": [
            "Overall Accuracy on Test Set: 0.9291698726169103 \n",
            "\n",
            "                 precision    recall  f1-score   support\n",
            "\n",
            "  B-corporation     0.0000    0.0000    0.0000        66\n",
            "  I-corporation     0.0000    0.0000    0.0000        22\n",
            "B-creative-work     0.3333    0.0211    0.0397       142\n",
            "I-creative-work     0.5556    0.0229    0.0441       218\n",
            "        B-group     0.2174    0.0303    0.0532       165\n",
            "        I-group     0.1818    0.0286    0.0494        70\n",
            "     B-location     0.3659    0.2000    0.2586       150\n",
            "     I-location     0.4118    0.0745    0.1261        94\n",
            "       B-person     0.5977    0.1212    0.2016       429\n",
            "       I-person     0.6500    0.1985    0.3041       131\n",
            "      B-product     0.7500    0.0236    0.0458       127\n",
            "      I-product     0.7143    0.0397    0.0752       126\n",
            "\n",
            "      micro avg     0.4694    0.0793    0.1357      1740\n",
            "      macro avg     0.3981    0.0634    0.0998      1740\n",
            "   weighted avg     0.4813    0.0793    0.1263      1740\n",
            "\n"
          ],
          "name": "stdout"
        }
      ]
    },
    {
      "cell_type": "markdown",
      "metadata": {
        "id": "tG3pseMNAnV9"
      },
      "source": [
        "# Features Pruning"
      ]
    },
    {
      "cell_type": "code",
      "metadata": {
        "id": "dTsaLQ6LArY3"
      },
      "source": [
        ""
      ],
      "execution_count": null,
      "outputs": []
    }
  ]
}