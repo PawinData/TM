{
 "cells": [
  {
   "cell_type": "code",
   "execution_count": 2,
   "metadata": {},
   "outputs": [],
   "source": [
    "import pandas as pd\n",
    "import matplotlib.pyplot as plt\n",
    "from pathlib import Path"
   ]
  },
  {
   "cell_type": "code",
   "execution_count": 3,
   "metadata": {},
   "outputs": [],
   "source": [
    "Drugs = ['ARTHROTEC', 'CAMBIA', 'CATAFLAM', 'DICLOFENAC-POTASSIUM', 'DICLOFENAC-SODIUM',\n",
    "         'FLECTOR', 'LIPITOR', 'PENNSAID', 'SOLARAZE', 'VOLTAREN', 'VOLTAREN-XR', 'ZIPSOR']"
   ]
  },
  {
   "cell_type": "markdown",
   "metadata": {},
   "source": [
    "# EDA\n",
    "\n",
    "Take a look at patient 1 who takes Arthrotec."
   ]
  },
  {
   "cell_type": "code",
   "execution_count": 4,
   "metadata": {},
   "outputs": [
    {
     "data": {
      "text/html": [
       "<div>\n",
       "<style scoped>\n",
       "    .dataframe tbody tr th:only-of-type {\n",
       "        vertical-align: middle;\n",
       "    }\n",
       "\n",
       "    .dataframe tbody tr th {\n",
       "        vertical-align: top;\n",
       "    }\n",
       "\n",
       "    .dataframe thead th {\n",
       "        text-align: right;\n",
       "    }\n",
       "</style>\n",
       "<table border=\"1\" class=\"dataframe\">\n",
       "  <thead>\n",
       "    <tr style=\"text-align: right;\">\n",
       "      <th></th>\n",
       "      <th>0</th>\n",
       "      <th>1</th>\n",
       "      <th>2</th>\n",
       "    </tr>\n",
       "  </thead>\n",
       "  <tbody>\n",
       "    <tr>\n",
       "      <th>0</th>\n",
       "      <td>T1</td>\n",
       "      <td>ADR 9 19</td>\n",
       "      <td>bit drowsy</td>\n",
       "    </tr>\n",
       "    <tr>\n",
       "      <th>1</th>\n",
       "      <td>#1</td>\n",
       "      <td>AnnotatorNotes T1</td>\n",
       "      <td>Drowsy</td>\n",
       "    </tr>\n",
       "    <tr>\n",
       "      <th>2</th>\n",
       "      <td>T2</td>\n",
       "      <td>ADR 29 50</td>\n",
       "      <td>little blurred vision</td>\n",
       "    </tr>\n",
       "    <tr>\n",
       "      <th>3</th>\n",
       "      <td>#2</td>\n",
       "      <td>AnnotatorNotes T2</td>\n",
       "      <td>Blurred Vision</td>\n",
       "    </tr>\n",
       "    <tr>\n",
       "      <th>4</th>\n",
       "      <td>T3</td>\n",
       "      <td>Drug 93 102</td>\n",
       "      <td>Arthrotec</td>\n",
       "    </tr>\n",
       "    <tr>\n",
       "      <th>5</th>\n",
       "      <td>T5</td>\n",
       "      <td>Disease 179 188</td>\n",
       "      <td>arthritis</td>\n",
       "    </tr>\n",
       "    <tr>\n",
       "      <th>6</th>\n",
       "      <td>T6</td>\n",
       "      <td>Symptom 260 265</td>\n",
       "      <td>agony</td>\n",
       "    </tr>\n",
       "    <tr>\n",
       "      <th>7</th>\n",
       "      <td>T4</td>\n",
       "      <td>ADR 62 78</td>\n",
       "      <td>gastric problems</td>\n",
       "    </tr>\n",
       "    <tr>\n",
       "      <th>8</th>\n",
       "      <td>T7</td>\n",
       "      <td>Symptom 412 417</td>\n",
       "      <td>pains</td>\n",
       "    </tr>\n",
       "    <tr>\n",
       "      <th>9</th>\n",
       "      <td>T8</td>\n",
       "      <td>ADR 437 453</td>\n",
       "      <td>feel a bit weird</td>\n",
       "    </tr>\n",
       "    <tr>\n",
       "      <th>10</th>\n",
       "      <td>#8</td>\n",
       "      <td>AnnotatorNotes T7</td>\n",
       "      <td>Implies a previous symptom of pain.</td>\n",
       "    </tr>\n",
       "  </tbody>\n",
       "</table>\n",
       "</div>"
      ],
      "text/plain": [
       "     0                  1                                    2\n",
       "0   T1           ADR 9 19                           bit drowsy\n",
       "1   #1  AnnotatorNotes T1                               Drowsy\n",
       "2   T2          ADR 29 50                little blurred vision\n",
       "3   #2  AnnotatorNotes T2                       Blurred Vision\n",
       "4   T3        Drug 93 102                            Arthrotec\n",
       "5   T5    Disease 179 188                            arthritis\n",
       "6   T6    Symptom 260 265                                agony\n",
       "7   T4          ADR 62 78                     gastric problems\n",
       "8   T7    Symptom 412 417                                pains\n",
       "9   T8        ADR 437 453                     feel a bit weird\n",
       "10  #8  AnnotatorNotes T7  Implies a previous symptom of pain."
      ]
     },
     "execution_count": 4,
     "metadata": {},
     "output_type": "execute_result"
    }
   ],
   "source": [
    "# all detected entities\n",
    "pd.read_csv(\"E:\\TM\\Final\\CADEC\\original\\ARTHROTEC.1.ann\", sep='\\t', header=None)"
   ]
  },
  {
   "cell_type": "code",
   "execution_count": 5,
   "metadata": {},
   "outputs": [
    {
     "data": {
      "text/html": [
       "<div>\n",
       "<style scoped>\n",
       "    .dataframe tbody tr th:only-of-type {\n",
       "        vertical-align: middle;\n",
       "    }\n",
       "\n",
       "    .dataframe tbody tr th {\n",
       "        vertical-align: top;\n",
       "    }\n",
       "\n",
       "    .dataframe thead th {\n",
       "        text-align: right;\n",
       "    }\n",
       "</style>\n",
       "<table border=\"1\" class=\"dataframe\">\n",
       "  <thead>\n",
       "    <tr style=\"text-align: right;\">\n",
       "      <th></th>\n",
       "      <th>0</th>\n",
       "      <th>1</th>\n",
       "      <th>2</th>\n",
       "    </tr>\n",
       "  </thead>\n",
       "  <tbody>\n",
       "    <tr>\n",
       "      <th>0</th>\n",
       "      <td>TT1</td>\n",
       "      <td>10013649 9 19</td>\n",
       "      <td>bit drowsy</td>\n",
       "    </tr>\n",
       "    <tr>\n",
       "      <th>1</th>\n",
       "      <td>TT2</td>\n",
       "      <td>10005886 29 50</td>\n",
       "      <td>little blurred vision</td>\n",
       "    </tr>\n",
       "    <tr>\n",
       "      <th>2</th>\n",
       "      <td>TT4</td>\n",
       "      <td>10056819 62 78</td>\n",
       "      <td>gastric problems</td>\n",
       "    </tr>\n",
       "    <tr>\n",
       "      <th>3</th>\n",
       "      <td>TT8</td>\n",
       "      <td>10025482 437 453</td>\n",
       "      <td>feel a bit weird</td>\n",
       "    </tr>\n",
       "  </tbody>\n",
       "</table>\n",
       "</div>"
      ],
      "text/plain": [
       "     0                 1                      2\n",
       "0  TT1     10013649 9 19             bit drowsy\n",
       "1  TT2    10005886 29 50  little blurred vision\n",
       "2  TT4    10056819 62 78       gastric problems\n",
       "3  TT8  10025482 437 453       feel a bit weird"
      ]
     },
     "execution_count": 5,
     "metadata": {},
     "output_type": "execute_result"
    }
   ],
   "source": [
    "# terms tagged with ADR that are mapped to MedDRA database\n",
    "pd.read_csv(\"E:\\TM\\Final\\CADEC\\meddra\\ARTHROTEC.1.ann\", sep='\\t', header=None)"
   ]
  },
  {
   "cell_type": "code",
   "execution_count": 6,
   "metadata": {},
   "outputs": [
    {
     "data": {
      "text/html": [
       "<div>\n",
       "<style scoped>\n",
       "    .dataframe tbody tr th:only-of-type {\n",
       "        vertical-align: middle;\n",
       "    }\n",
       "\n",
       "    .dataframe tbody tr th {\n",
       "        vertical-align: top;\n",
       "    }\n",
       "\n",
       "    .dataframe thead th {\n",
       "        text-align: right;\n",
       "    }\n",
       "</style>\n",
       "<table border=\"1\" class=\"dataframe\">\n",
       "  <thead>\n",
       "    <tr style=\"text-align: right;\">\n",
       "      <th></th>\n",
       "      <th>0</th>\n",
       "      <th>1</th>\n",
       "      <th>2</th>\n",
       "    </tr>\n",
       "  </thead>\n",
       "  <tbody>\n",
       "    <tr>\n",
       "      <th>0</th>\n",
       "      <td>TT1</td>\n",
       "      <td>271782001 | Drowsy | 9 19</td>\n",
       "      <td>bit drowsy</td>\n",
       "    </tr>\n",
       "    <tr>\n",
       "      <th>1</th>\n",
       "      <td>TT2</td>\n",
       "      <td>246636008 | Blurred vision - hazy | 29 50</td>\n",
       "      <td>little blurred vision</td>\n",
       "    </tr>\n",
       "    <tr>\n",
       "      <th>2</th>\n",
       "      <td>TT4</td>\n",
       "      <td>162076009 | Excessive upper gastrointestinal g...</td>\n",
       "      <td>gastric problems</td>\n",
       "    </tr>\n",
       "    <tr>\n",
       "      <th>3</th>\n",
       "      <td>TT3</td>\n",
       "      <td>3384011000036100 | Arthrotec | 93 102</td>\n",
       "      <td>Arthrotec</td>\n",
       "    </tr>\n",
       "    <tr>\n",
       "      <th>4</th>\n",
       "      <td>TT5</td>\n",
       "      <td>3723001 | Arthritis | 179 188</td>\n",
       "      <td>arthritis</td>\n",
       "    </tr>\n",
       "    <tr>\n",
       "      <th>5</th>\n",
       "      <td>TT6</td>\n",
       "      <td>102498003 | Agony | or 76948002|Severe pain| 2...</td>\n",
       "      <td>agony</td>\n",
       "    </tr>\n",
       "    <tr>\n",
       "      <th>6</th>\n",
       "      <td>TT7</td>\n",
       "      <td>22253000 | Pain | 412 417</td>\n",
       "      <td>pains</td>\n",
       "    </tr>\n",
       "    <tr>\n",
       "      <th>7</th>\n",
       "      <td>TT8</td>\n",
       "      <td>367391008 | Malaise | 437 453</td>\n",
       "      <td>feel a bit weird</td>\n",
       "    </tr>\n",
       "  </tbody>\n",
       "</table>\n",
       "</div>"
      ],
      "text/plain": [
       "     0                                                  1  \\\n",
       "0  TT1                          271782001 | Drowsy | 9 19   \n",
       "1  TT2          246636008 | Blurred vision - hazy | 29 50   \n",
       "2  TT4  162076009 | Excessive upper gastrointestinal g...   \n",
       "3  TT3              3384011000036100 | Arthrotec | 93 102   \n",
       "4  TT5                      3723001 | Arthritis | 179 188   \n",
       "5  TT6  102498003 | Agony | or 76948002|Severe pain| 2...   \n",
       "6  TT7                          22253000 | Pain | 412 417   \n",
       "7  TT8                      367391008 | Malaise | 437 453   \n",
       "\n",
       "                       2  \n",
       "0             bit drowsy  \n",
       "1  little blurred vision  \n",
       "2       gastric problems  \n",
       "3              Arthrotec  \n",
       "4              arthritis  \n",
       "5                  agony  \n",
       "6                  pains  \n",
       "7       feel a bit weird  "
      ]
     },
     "execution_count": 6,
     "metadata": {},
     "output_type": "execute_result"
    }
   ],
   "source": [
    "# Non-drug terms mapped to SCT database\n",
    "pd.read_csv(\"E:\\TM\\Final\\CADEC\\sct\\ARTHROTEC.1.ann\", sep='\\t', header=None)"
   ]
  },
  {
   "cell_type": "markdown",
   "metadata": {},
   "source": [
    "## Compare 12 Drugs"
   ]
  },
  {
   "cell_type": "code",
   "execution_count": 10,
   "metadata": {},
   "outputs": [
    {
     "name": "stdout",
     "output_type": "stream",
     "text": [
      "Number of Reports for each drug: \n",
      "\n",
      "ARTHROTEC --> 145\n",
      "CAMBIA --> 4\n",
      "CATAFLAM --> 10\n",
      "DICLOFENAC-POTASSIUM --> 3\n",
      "DICLOFENAC-SODIUM --> 7\n",
      "FLECTOR --> 1\n",
      "LIPITOR --> 1000\n",
      "PENNSAID --> 4\n",
      "SOLARAZE --> 3\n",
      "VOLTAREN --> 68\n",
      "VOLTAREN-XR --> 22\n",
      "ZIPSOR --> 5\n"
     ]
    }
   ],
   "source": [
    "# the number of reports for each drug\n",
    "print('Number of Reports for each drug: \\n')\n",
    "for drug in Drugs:\n",
    "    Files = Path('E:/TM/Final/CADEC/original').glob(drug+'*.ann')\n",
    "    print(drug, '-->', sum([1 for file in Files]))"
   ]
  },
  {
   "cell_type": "code",
   "execution_count": 11,
   "metadata": {},
   "outputs": [],
   "source": [
    "# a list of all tags for each drug\n",
    "def extract_Tags(drug):\n",
    "    Files = Path('E:/TM/Final/CADEC/original').glob(drug+'*.ann')\n",
    "    lst = list()\n",
    "    for file in Files:\n",
    "        try:\n",
    "            data = pd.read_csv(file, sep='\\t', header=None)\n",
    "            lst.extend(data.iloc[:,1].tolist())\n",
    "        except:\n",
    "            print('Cannot open ', file)\n",
    "    print(drug, '\\n')\n",
    "    return lst"
   ]
  },
  {
   "cell_type": "code",
   "execution_count": 12,
   "metadata": {
    "scrolled": true
   },
   "outputs": [
    {
     "name": "stdout",
     "output_type": "stream",
     "text": [
      "ARTHROTEC \n",
      "\n",
      "Cannot open  E:\\TM\\Final\\CADEC\\original\\CAMBIA.1.ann\n",
      "CAMBIA \n",
      "\n",
      "CATAFLAM \n",
      "\n",
      "DICLOFENAC-POTASSIUM \n",
      "\n",
      "DICLOFENAC-SODIUM \n",
      "\n",
      "FLECTOR \n",
      "\n",
      "Cannot open  E:\\TM\\Final\\CADEC\\original\\LIPITOR.197.ann\n",
      "Cannot open  E:\\TM\\Final\\CADEC\\original\\LIPITOR.243.ann\n",
      "Cannot open  E:\\TM\\Final\\CADEC\\original\\LIPITOR.28.ann\n",
      "Cannot open  E:\\TM\\Final\\CADEC\\original\\LIPITOR.285.ann\n",
      "Cannot open  E:\\TM\\Final\\CADEC\\original\\LIPITOR.299.ann\n",
      "Cannot open  E:\\TM\\Final\\CADEC\\original\\LIPITOR.308.ann\n",
      "Cannot open  E:\\TM\\Final\\CADEC\\original\\LIPITOR.313.ann\n",
      "Cannot open  E:\\TM\\Final\\CADEC\\original\\LIPITOR.383.ann\n",
      "Cannot open  E:\\TM\\Final\\CADEC\\original\\LIPITOR.4.ann\n",
      "Cannot open  E:\\TM\\Final\\CADEC\\original\\LIPITOR.40.ann\n",
      "Cannot open  E:\\TM\\Final\\CADEC\\original\\LIPITOR.41.ann\n",
      "Cannot open  E:\\TM\\Final\\CADEC\\original\\LIPITOR.416.ann\n",
      "Cannot open  E:\\TM\\Final\\CADEC\\original\\LIPITOR.437.ann\n",
      "Cannot open  E:\\TM\\Final\\CADEC\\original\\LIPITOR.438.ann\n",
      "Cannot open  E:\\TM\\Final\\CADEC\\original\\LIPITOR.444.ann\n",
      "Cannot open  E:\\TM\\Final\\CADEC\\original\\LIPITOR.487.ann\n",
      "Cannot open  E:\\TM\\Final\\CADEC\\original\\LIPITOR.489.ann\n",
      "Cannot open  E:\\TM\\Final\\CADEC\\original\\LIPITOR.49.ann\n",
      "Cannot open  E:\\TM\\Final\\CADEC\\original\\LIPITOR.5.ann\n",
      "Cannot open  E:\\TM\\Final\\CADEC\\original\\LIPITOR.516.ann\n",
      "Cannot open  E:\\TM\\Final\\CADEC\\original\\LIPITOR.528.ann\n",
      "Cannot open  E:\\TM\\Final\\CADEC\\original\\LIPITOR.529.ann\n",
      "Cannot open  E:\\TM\\Final\\CADEC\\original\\LIPITOR.549.ann\n",
      "Cannot open  E:\\TM\\Final\\CADEC\\original\\LIPITOR.550.ann\n",
      "Cannot open  E:\\TM\\Final\\CADEC\\original\\LIPITOR.560.ann\n",
      "Cannot open  E:\\TM\\Final\\CADEC\\original\\LIPITOR.577.ann\n",
      "Cannot open  E:\\TM\\Final\\CADEC\\original\\LIPITOR.600.ann\n",
      "Cannot open  E:\\TM\\Final\\CADEC\\original\\LIPITOR.609.ann\n",
      "Cannot open  E:\\TM\\Final\\CADEC\\original\\LIPITOR.62.ann\n",
      "Cannot open  E:\\TM\\Final\\CADEC\\original\\LIPITOR.628.ann\n",
      "Cannot open  E:\\TM\\Final\\CADEC\\original\\LIPITOR.636.ann\n",
      "Cannot open  E:\\TM\\Final\\CADEC\\original\\LIPITOR.637.ann\n",
      "Cannot open  E:\\TM\\Final\\CADEC\\original\\LIPITOR.664.ann\n",
      "Cannot open  E:\\TM\\Final\\CADEC\\original\\LIPITOR.680.ann\n",
      "Cannot open  E:\\TM\\Final\\CADEC\\original\\LIPITOR.696.ann\n",
      "Cannot open  E:\\TM\\Final\\CADEC\\original\\LIPITOR.714.ann\n",
      "Cannot open  E:\\TM\\Final\\CADEC\\original\\LIPITOR.741.ann\n",
      "Cannot open  E:\\TM\\Final\\CADEC\\original\\LIPITOR.752.ann\n",
      "Cannot open  E:\\TM\\Final\\CADEC\\original\\LIPITOR.768.ann\n",
      "Cannot open  E:\\TM\\Final\\CADEC\\original\\LIPITOR.783.ann\n",
      "Cannot open  E:\\TM\\Final\\CADEC\\original\\LIPITOR.791.ann\n",
      "Cannot open  E:\\TM\\Final\\CADEC\\original\\LIPITOR.802.ann\n",
      "Cannot open  E:\\TM\\Final\\CADEC\\original\\LIPITOR.813.ann\n",
      "Cannot open  E:\\TM\\Final\\CADEC\\original\\LIPITOR.828.ann\n",
      "Cannot open  E:\\TM\\Final\\CADEC\\original\\LIPITOR.864.ann\n",
      "Cannot open  E:\\TM\\Final\\CADEC\\original\\LIPITOR.871.ann\n",
      "Cannot open  E:\\TM\\Final\\CADEC\\original\\LIPITOR.880.ann\n",
      "Cannot open  E:\\TM\\Final\\CADEC\\original\\LIPITOR.881.ann\n",
      "Cannot open  E:\\TM\\Final\\CADEC\\original\\LIPITOR.895.ann\n",
      "Cannot open  E:\\TM\\Final\\CADEC\\original\\LIPITOR.919.ann\n",
      "Cannot open  E:\\TM\\Final\\CADEC\\original\\LIPITOR.938.ann\n",
      "Cannot open  E:\\TM\\Final\\CADEC\\original\\LIPITOR.942.ann\n",
      "Cannot open  E:\\TM\\Final\\CADEC\\original\\LIPITOR.960.ann\n",
      "Cannot open  E:\\TM\\Final\\CADEC\\original\\LIPITOR.964.ann\n",
      "LIPITOR \n",
      "\n",
      "Cannot open  E:\\TM\\Final\\CADEC\\original\\PENNSAID.2.ann\n",
      "PENNSAID \n",
      "\n",
      "Cannot open  E:\\TM\\Final\\CADEC\\original\\SOLARAZE.1.ann\n",
      "Cannot open  E:\\TM\\Final\\CADEC\\original\\SOLARAZE.3.ann\n",
      "SOLARAZE \n",
      "\n",
      "Cannot open  E:\\TM\\Final\\CADEC\\original\\VOLTAREN-XR.11.ann\n",
      "Cannot open  E:\\TM\\Final\\CADEC\\original\\VOLTAREN-XR.13.ann\n",
      "Cannot open  E:\\TM\\Final\\CADEC\\original\\VOLTAREN-XR.4.ann\n",
      "Cannot open  E:\\TM\\Final\\CADEC\\original\\VOLTAREN-XR.6.ann\n",
      "Cannot open  E:\\TM\\Final\\CADEC\\original\\VOLTAREN-XR.7.ann\n",
      "Cannot open  E:\\TM\\Final\\CADEC\\original\\VOLTAREN-XR.9.ann\n",
      "VOLTAREN \n",
      "\n",
      "Cannot open  E:\\TM\\Final\\CADEC\\original\\VOLTAREN-XR.11.ann\n",
      "Cannot open  E:\\TM\\Final\\CADEC\\original\\VOLTAREN-XR.13.ann\n",
      "Cannot open  E:\\TM\\Final\\CADEC\\original\\VOLTAREN-XR.4.ann\n",
      "Cannot open  E:\\TM\\Final\\CADEC\\original\\VOLTAREN-XR.6.ann\n",
      "Cannot open  E:\\TM\\Final\\CADEC\\original\\VOLTAREN-XR.7.ann\n",
      "Cannot open  E:\\TM\\Final\\CADEC\\original\\VOLTAREN-XR.9.ann\n",
      "VOLTAREN-XR \n",
      "\n",
      "ZIPSOR \n",
      "\n"
     ]
    }
   ],
   "source": [
    "Tags = dict()  # a dictionary: drug --> a list of tags\n",
    "\n",
    "for drug in Drugs:\n",
    "    Tags[drug] = extract_Tags(drug)"
   ]
  },
  {
   "cell_type": "code",
   "execution_count": 13,
   "metadata": {},
   "outputs": [
    {
     "name": "stdout",
     "output_type": "stream",
     "text": [
      "ARTHROTEC : 1137\n",
      "CAMBIA : 14\n",
      "CATAFLAM : 59\n",
      "DICLOFENAC-POTASSIUM : 8\n",
      "DICLOFENAC-SODIUM : 56\n",
      "FLECTOR : 6\n",
      "LIPITOR : 8012\n",
      "PENNSAID : 19\n",
      "SOLARAZE : 10\n",
      "VOLTAREN : 343\n",
      "VOLTAREN-XR : 84\n",
      "ZIPSOR : 22\n"
     ]
    }
   ],
   "source": [
    "# the number of tags for each drug\n",
    "for drug in Drugs:\n",
    "    print(drug, \":\", len(Tags[drug]))"
   ]
  },
  {
   "cell_type": "code",
   "execution_count": 17,
   "metadata": {},
   "outputs": [
    {
     "data": {
      "image/png": "[encoded data removed]",
      "text/plain": [
       "<Figure size 720x432 with 1 Axes>"
      ]
     },
     "metadata": {
      "needs_background": "light"
     },
     "output_type": "display_data"
    }
   ],
   "source": [
    "# frequency of ADR tags for each drug\n",
    "def freq_ADR(tags):\n",
    "    return sum([tag.startswith('ADR') for tag in tags]) / len(tags)\n",
    "\n",
    "plt.figure(figsize=(10,6))\n",
    "plt.bar(Drugs, [freq_ADR(Tags[drug]) for drug in Drugs])\n",
    "plt.xticks(rotation=45)\n",
    "plt.show()"
   ]
  },
  {
   "cell_type": "code",
   "execution_count": null,
   "metadata": {},
   "outputs": [],
   "source": []
  }
 ],
 "metadata": {
  "kernelspec": {
   "display_name": "Python 3",
   "language": "python",
   "name": "python3"
  },
  "language_info": {
   "codemirror_mode": {
    "name": "ipython",
    "version": 3
   },
   "file_extension": ".py",
   "mimetype": "text/x-python",
   "name": "python",
   "nbconvert_exporter": "python",
   "pygments_lexer": "ipython3",
   "version": "3.8.3rc1"
  }
 },
 "nbformat": 4,
 "nbformat_minor": 4
}
