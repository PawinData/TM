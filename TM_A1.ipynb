{
  "nbformat": 4,
  "nbformat_minor": 0,
  "metadata": {
    "colab": {
      "name": "TM A1.ipynb",
      "provenance": [],
      "collapsed_sections": [],
      "toc_visible": true,
      "authorship_tag": "ABX9TyMJoA0dr5a6JwzWiSf2F/xn",
      "include_colab_link": true
    },
    "kernelspec": {
      "name": "python3",
      "display_name": "Python 3"
    }
  },
  "cells": [
    {
      "cell_type": "markdown",
      "metadata": {
        "id": "view-in-github",
        "colab_type": "text"
      },
      "source": [
        "<a href=\"https://colab.research.google.com/github/PawinData/TM/blob/main/TM_A1.ipynb\" target=\"_parent\"><img src=\"https://colab.research.google.com/assets/colab-badge.svg\" alt=\"Open In Colab\"/></a>"
      ]
    },
    {
      "cell_type": "code",
      "metadata": {
        "id": "oeKCdb2tn9gQ"
      },
      "source": [
        "import numpy as np\n",
        "import pandas as pd\n",
        "import matplotlib.pyplot as plt\n",
        "from sklearn.datasets import fetch_20newsgroups\n",
        "from sklearn.feature_extraction.text import CountVectorizer, TfidfTransformer\n",
        "from sklearn.naive_bayes import MultinomialNB\n",
        "from sklearn.linear_model import SGDClassifier\n",
        "from sklearn.tree import DecisionTreeClassifier\n",
        "from sklearn.ensemble import RandomForestClassifier\n",
        "from sklearn.pipeline import Pipeline\n",
        "from sklearn.metrics import precision_score, recall_score, f1_score\n",
        "from collections import namedtuple\n",
        "from pickle import dump, load"
      ],
      "execution_count": 1,
      "outputs": []
    },
    {
      "cell_type": "code",
      "metadata": {
        "id": "CoOxtALDpV88",
        "outputId": "45a625df-5850-415a-e275-3ce8b3fc936a",
        "colab": {
          "base_uri": "https://localhost:8080/",
          "height": 468
        }
      },
      "source": [
        "twenty_train = fetch_20newsgroups(subset='train', shuffle=True, random_state=19)  # read in training set\n",
        "twenty_test  = fetch_20newsgroups(subset='test',  shuffle=True, random_state=29)  # read in test set\n",
        "\n",
        "print(\"There are\", len(twenty_train.filenames), \"files in the training set under\", len(twenty_train.target_names), \"categories: \\n\")\n",
        "for title in twenty_train.target_names:\n",
        "    print(title)\n",
        "print(\"\")\n",
        "print(\"There are\", len(twenty_test.filenames), \"files in the test set under\", len(twenty_test.target_names), \"categories.\")"
      ],
      "execution_count": null,
      "outputs": [
        {
          "output_type": "stream",
          "text": [
            "Downloading 20news dataset. This may take a few minutes.\n",
            "Downloading dataset from https://ndownloader.figshare.com/files/5975967 (14 MB)\n"
          ],
          "name": "stderr"
        },
        {
          "output_type": "stream",
          "text": [
            "There are 11314 files in the training set under 20 categories: \n",
            "\n",
            "alt.atheism\n",
            "comp.graphics\n",
            "comp.os.ms-windows.misc\n",
            "comp.sys.ibm.pc.hardware\n",
            "comp.sys.mac.hardware\n",
            "comp.windows.x\n",
            "misc.forsale\n",
            "rec.autos\n",
            "rec.motorcycles\n",
            "rec.sport.baseball\n",
            "rec.sport.hockey\n",
            "sci.crypt\n",
            "sci.electronics\n",
            "sci.med\n",
            "sci.space\n",
            "soc.religion.christian\n",
            "talk.politics.guns\n",
            "talk.politics.mideast\n",
            "talk.politics.misc\n",
            "talk.religion.misc\n",
            "\n",
            "There are 7532 files in the test set under 20 categories.\n"
          ],
          "name": "stdout"
        }
      ]
    },
    {
      "cell_type": "code",
      "metadata": {
        "id": "2hrNYHJa8mTo"
      },
      "source": [
        "# organize evaluation metrics with namedtuples\n",
        "Train = namedtuple(\"Train\", [\"Precision\",\"Recall\",\"F1\"])\n",
        "Test  = namedtuple(\"Test\", [\"Precision\",\"Recall\",\"F1\"])\n",
        "\n",
        "def evaluate(truth, predicted, which_set):\n",
        "    P = precision_score(truth, predicted, average=\"macro\")\n",
        "    R = recall_score(truth, predicted, average=\"macro\")\n",
        "    F = f1_score(truth, predicted, average=\"macro\")\n",
        "    if which_set==\"Train\":\n",
        "        return Train(P,R,F)  \n",
        "    else:\n",
        "         return Test(P,R,F)"
      ],
      "execution_count": 2,
      "outputs": []
    },
    {
      "cell_type": "code",
      "metadata": {
        "id": "Rg7_8-UiTIvx"
      },
      "source": [
        "# visualize classifier metrics\n",
        "def viz_res(DF, TITLE=None, FigSize=(12,8), MarkerSize=12, floor=0.6, ceiling=1.1):\n",
        "    fig,ax = plt.subplots(figsize=FigSize)\n",
        "    for which_set in DF.columns:\n",
        "        CLR = \"darkblue\" if which_set==\"Train\" else \"darkolivegreen\"\n",
        "        ax.plot(DF.index, [cell.Precision for cell in DF[which_set]],\n",
        "                color=CLR, marker=\"o\", markersize=MarkerSize, linewidth=0,\n",
        "                label=\"Precision for \"+str(which_set)+\" Set\")\n",
        "        ax.plot(DF.index, [cell.Recall for cell in DF[which_set]],\n",
        "                color=CLR, marker=\"x\", markersize=MarkerSize, linewidth=0,\n",
        "                label=\"Recall for \"+str(which_set)+\" Set\")\n",
        "        ax.plot(DF.index, [cell.F1 for cell in DF[which_set]],\n",
        "                color=CLR, marker=\"^\", markersize=MarkerSize, linewidth=0,\n",
        "                label=\"F1 for \"+str(which_set)+\" Set\")\n",
        "    for elements in ax.lines:\n",
        "        xs = elements.get_xydata()[:,0]\n",
        "        jittered_xs = xs + np.random.uniform(-0.25, 0.25, xs.shape)\n",
        "        elements.set_xdata(jittered_xs)\n",
        "        ax.relim()\n",
        "        ax.autoscale(enable=True)\n",
        "    plt.xlabel(\"Feature\", fontsize=18)\n",
        "    plt.ylabel(\"Score\", fontsize=18)\n",
        "    plt.ylim(floor,ceiling)\n",
        "    plt.title(TITLE, fontsize=20)\n",
        "    plt.legend(loc=\"upper center\", fontsize=16)\n",
        "    if TITLE is not None:\n",
        "        plt.savefig(TITLE+\".eps\")\n",
        "    plt.show()"
      ],
      "execution_count": null,
      "outputs": []
    },
    {
      "cell_type": "markdown",
      "metadata": {
        "id": "Pec9cqfPAbWo"
      },
      "source": [
        "# Naive Bayes Classifier"
      ]
    },
    {
      "cell_type": "code",
      "metadata": {
        "id": "T2zcjgrr_aH-"
      },
      "source": [
        "NB = dict()"
      ],
      "execution_count": null,
      "outputs": []
    },
    {
      "cell_type": "code",
      "metadata": {
        "id": "Rrk5GubJ38Wc"
      },
      "source": [
        "# Train from Counts\n",
        "NB_from_Counts = Pipeline([(\"vec_count\", CountVectorizer()), (\"clf\", MultinomialNB())])\n",
        "NB_from_Counts.fit(twenty_train.data, twenty_train.target)\n",
        "# predict for training set\n",
        "pred_train = NB_from_Counts.predict(twenty_train.data)\n",
        "# predict for test set\n",
        "pred_test = NB_from_Counts.predict(twenty_test.data)\n",
        "# evaluate\n",
        "NB[\"Counts\"] = [evaluate(twenty_train.target, pred_train, which_set=\"Train\"), evaluate(twenty_test.target, pred_test, which_set=\"Test\")]"
      ],
      "execution_count": null,
      "outputs": []
    },
    {
      "cell_type": "code",
      "metadata": {
        "id": "KkUxvb2q7O6m"
      },
      "source": [
        "# Train from Term Frequency\n",
        "NB_from_TF = Pipeline([(\"vec_count\",CountVectorizer()), ('tf',TfidfTransformer(use_idf=False)), ('clf',MultinomialNB())])\n",
        "NB_from_TF.fit(twenty_train.data, twenty_train.target)\n",
        "# predict for training set\n",
        "pred_train = NB_from_TF.predict(twenty_train.data)\n",
        "# predict for test set\n",
        "pred_test = NB_from_TF.predict(twenty_test.data)\n",
        "# evaluate\n",
        "NB[\"TF\"] = [evaluate(twenty_train.target, pred_train, which_set=\"Train\"), evaluate(twenty_test.target, pred_test, which_set=\"Test\")]"
      ],
      "execution_count": null,
      "outputs": []
    },
    {
      "cell_type": "code",
      "metadata": {
        "id": "b8RDarUYoJ7O"
      },
      "source": [
        "# Train from Term Frequency times Inverse Document Frequency\n",
        "NB_from_tfIDF = Pipeline([('vec_count',CountVectorizer()), ('tfidf',TfidfTransformer()), ('clf', MultinomialNB()),])\n",
        "NB_from_tfIDF.fit(twenty_train.data, twenty_train.target)\n",
        "# predict for training set\n",
        "pred_train = NB_from_tfIDF.predict(twenty_train.data)\n",
        "# predict for test set\n",
        "pred_test = NB_from_tfIDF.predict(twenty_test.data)\n",
        "# evaluate\n",
        "NB[\"tfIDF\"] = [evaluate(twenty_train.target, pred_train, which_set=\"Train\"), evaluate(twenty_test.target, pred_test, which_set=\"Test\")]"
      ],
      "execution_count": null,
      "outputs": []
    },
    {
      "cell_type": "code",
      "metadata": {
        "id": "S1eVs7ftG47F",
        "outputId": "4527683b-0550-4949-ce1e-97475cb24045",
        "colab": {
          "base_uri": "https://localhost:8080/",
          "height": 141
        }
      },
      "source": [
        "# Organize results in a dataframe\n",
        "NaiveBayes = pd.DataFrame(NB, index=[\"Train\",\"Test\"]).transpose()\n",
        "NaiveBayes"
      ],
      "execution_count": null,
      "outputs": [
        {
          "output_type": "execute_result",
          "data": {
            "text/html": [
              "<div>\n",
              "<style scoped>\n",
              "    .dataframe tbody tr th:only-of-type {\n",
              "        vertical-align: middle;\n",
              "    }\n",
              "\n",
              "    .dataframe tbody tr th {\n",
              "        vertical-align: top;\n",
              "    }\n",
              "\n",
              "    .dataframe thead th {\n",
              "        text-align: right;\n",
              "    }\n",
              "</style>\n",
              "<table border=\"1\" class=\"dataframe\">\n",
              "  <thead>\n",
              "    <tr style=\"text-align: right;\">\n",
              "      <th></th>\n",
              "      <th>Train</th>\n",
              "      <th>Test</th>\n",
              "    </tr>\n",
              "  </thead>\n",
              "  <tbody>\n",
              "    <tr>\n",
              "      <th>Counts</th>\n",
              "      <td>(0.9348166390487324, 0.9228833755043991, 0.910...</td>\n",
              "      <td>(0.7621626411174734, 0.7636463041415988, 0.745...</td>\n",
              "    </tr>\n",
              "    <tr>\n",
              "      <th>TF</th>\n",
              "      <td>(0.8929939646270284, 0.819943011113042, 0.8114...</td>\n",
              "      <td>(0.7924314057319584, 0.6821951093902918, 0.672...</td>\n",
              "    </tr>\n",
              "    <tr>\n",
              "      <th>tfIDF</th>\n",
              "      <td>(0.9459403301595009, 0.9191027839411532, 0.919...</td>\n",
              "      <td>(0.8255310124210137, 0.756525006352595, 0.7557...</td>\n",
              "    </tr>\n",
              "  </tbody>\n",
              "</table>\n",
              "</div>"
            ],
            "text/plain": [
              "                                                    Train                                               Test\n",
              "Counts  (0.9348166390487324, 0.9228833755043991, 0.910...  (0.7621626411174734, 0.7636463041415988, 0.745...\n",
              "TF      (0.8929939646270284, 0.819943011113042, 0.8114...  (0.7924314057319584, 0.6821951093902918, 0.672...\n",
              "tfIDF   (0.9459403301595009, 0.9191027839411532, 0.919...  (0.8255310124210137, 0.756525006352595, 0.7557..."
            ]
          },
          "metadata": {
            "tags": []
          },
          "execution_count": 10
        }
      ]
    },
    {
      "cell_type": "code",
      "metadata": {
        "id": "P77-2uEvYEQ6",
        "outputId": "b352e389-e9ef-4eb4-9068-663ba589b88b",
        "colab": {
          "base_uri": "https://localhost:8080/",
          "height": 561
        }
      },
      "source": [
        "viz_res(NaiveBayes, TITLE=\"Naive Bayes\")"
      ],
      "execution_count": null,
      "outputs": [
        {
          "output_type": "stream",
          "text": [
            "The PostScript backend does not support transparency; partially transparent artists will be rendered opaque.\n",
            "The PostScript backend does not support transparency; partially transparent artists will be rendered opaque.\n"
          ],
          "name": "stderr"
        },
        {
          "output_type": "display_data",
          "data": {
            "image/png": "[encoded data removed]",
            "text/plain": [
              "<Figure size 864x576 with 1 Axes>"
            ]
          },
          "metadata": {
            "tags": [],
            "needs_background": "light"
          }
        }
      ]
    },
    {
      "cell_type": "markdown",
      "metadata": {
        "id": "CvL6Rt4L3qyq"
      },
      "source": [
        "# Support Vector Machine Classifier"
      ]
    },
    {
      "cell_type": "code",
      "metadata": {
        "id": "aZQg9HgsO1En"
      },
      "source": [
        "SVM = dict()"
      ],
      "execution_count": null,
      "outputs": []
    },
    {
      "cell_type": "code",
      "metadata": {
        "id": "HCF9mVYnFM7c"
      },
      "source": [
        "# Train from Counts\n",
        "SVM_from_Counts = Pipeline([('vec_count', CountVectorizer()), \n",
        "                            ('clf', SGDClassifier(loss='hinge',penalty='l2',alpha=1e-3, random_state=59,max_iter=5, tol=None)),\n",
        "                          ])\n",
        "SVM_from_Counts.fit(twenty_train.data, twenty_train.target)\n",
        "# predict for training set\n",
        "pred_train = SVM_from_Counts.predict(twenty_train.data)\n",
        "# predict for test set\n",
        "pred_test = SVM_from_Counts.predict(twenty_test.data)\n",
        "# evaluate\n",
        "SVM[\"Counts\"] = [evaluate(twenty_train.target, pred_train, which_set=\"Train\"), evaluate(twenty_test.target, pred_test, which_set=\"Test\")]"
      ],
      "execution_count": null,
      "outputs": []
    },
    {
      "cell_type": "code",
      "metadata": {
        "id": "E9MJZHM1_4Ra"
      },
      "source": [
        "# Train from Term Frequency\n",
        "SVM_from_TF = Pipeline([('vec_count', CountVectorizer()),\n",
        "                        ('tf', TfidfTransformer(use_idf=False)),\n",
        "                        ('clf', SGDClassifier(loss='hinge',penalty='l2',alpha=1e-3, random_state=79,max_iter=5, tol=None)),\n",
        "                       ])\n",
        "SVM_from_TF.fit(twenty_train.data, twenty_train.target)\n",
        "# predict for training set\n",
        "pred_train = SVM_from_TF.predict(twenty_train.data)\n",
        "# predict for test set\n",
        "pred_test = SVM_from_TF.predict(twenty_test.data)\n",
        "# evaluate\n",
        "SVM[\"TF\"] = [evaluate(twenty_train.target, pred_train, which_set=\"Train\"), evaluate(twenty_test.target, pred_test, which_set=\"Test\")]"
      ],
      "execution_count": null,
      "outputs": []
    },
    {
      "cell_type": "code",
      "metadata": {
        "id": "x1tPcs4r3tiM"
      },
      "source": [
        "# Train from Term Frequency times Inverse Document Frequency\n",
        "SVM_from_tfIDF = Pipeline([('vec_count', CountVectorizer()),\n",
        "                           ('tfIDF', TfidfTransformer()),\n",
        "                           ('clf', SGDClassifier(loss='hinge',penalty='l2',alpha=1e-3, random_state=89,max_iter=5, tol=None)),\n",
        "                          ])\n",
        "SVM_from_tfIDF.fit(twenty_train.data, twenty_train.target)\n",
        "# predict for training set\n",
        "pred_train = SVM_from_tfIDF.predict(twenty_train.data)\n",
        "# predict for test set\n",
        "pred_test = SVM_from_tfIDF.predict(twenty_test.data)\n",
        "# evaluate\n",
        "SVM[\"tfIDF\"] = [evaluate(twenty_train.target, pred_train, which_set=\"Train\"), evaluate(twenty_test.target, pred_test, which_set=\"Test\")]"
      ],
      "execution_count": null,
      "outputs": []
    },
    {
      "cell_type": "code",
      "metadata": {
        "id": "KEww0q8-Sy5P",
        "outputId": "7c674b3b-fa7e-4e8b-feed-27f4e119939d",
        "colab": {
          "base_uri": "https://localhost:8080/",
          "height": 141
        }
      },
      "source": [
        "# Organize results in a dataframe\n",
        "SupportVectorMachine = pd.DataFrame(SVM, index=[\"Train\",\"Test\"]).transpose()\n",
        "SupportVectorMachine"
      ],
      "execution_count": null,
      "outputs": [
        {
          "output_type": "execute_result",
          "data": {
            "text/html": [
              "<div>\n",
              "<style scoped>\n",
              "    .dataframe tbody tr th:only-of-type {\n",
              "        vertical-align: middle;\n",
              "    }\n",
              "\n",
              "    .dataframe tbody tr th {\n",
              "        vertical-align: top;\n",
              "    }\n",
              "\n",
              "    .dataframe thead th {\n",
              "        text-align: right;\n",
              "    }\n",
              "</style>\n",
              "<table border=\"1\" class=\"dataframe\">\n",
              "  <thead>\n",
              "    <tr style=\"text-align: right;\">\n",
              "      <th></th>\n",
              "      <th>Train</th>\n",
              "      <th>Test</th>\n",
              "    </tr>\n",
              "  </thead>\n",
              "  <tbody>\n",
              "    <tr>\n",
              "      <th>Counts</th>\n",
              "      <td>(0.9824892496018329, 0.9815918034591045, 0.981...</td>\n",
              "      <td>(0.7632170414670428, 0.7504747715611877, 0.752...</td>\n",
              "    </tr>\n",
              "    <tr>\n",
              "      <th>TF</th>\n",
              "      <td>(0.9176231701818622, 0.9055953533969816, 0.907...</td>\n",
              "      <td>(0.7789606373330445, 0.760413000061468, 0.7561...</td>\n",
              "    </tr>\n",
              "    <tr>\n",
              "      <th>tfIDF</th>\n",
              "      <td>(0.9676615733861244, 0.9619546416193036, 0.963...</td>\n",
              "      <td>(0.8267458608117908, 0.8120874662717542, 0.810...</td>\n",
              "    </tr>\n",
              "  </tbody>\n",
              "</table>\n",
              "</div>"
            ],
            "text/plain": [
              "                                                    Train                                               Test\n",
              "Counts  (0.9824892496018329, 0.9815918034591045, 0.981...  (0.7632170414670428, 0.7504747715611877, 0.752...\n",
              "TF      (0.9176231701818622, 0.9055953533969816, 0.907...  (0.7789606373330445, 0.760413000061468, 0.7561...\n",
              "tfIDF   (0.9676615733861244, 0.9619546416193036, 0.963...  (0.8267458608117908, 0.8120874662717542, 0.810..."
            ]
          },
          "metadata": {
            "tags": []
          },
          "execution_count": 16
        }
      ]
    },
    {
      "cell_type": "code",
      "metadata": {
        "id": "xGhWcTeWPCmi",
        "outputId": "906b8f40-2c32-4b8a-9202-5d7dd636ce75",
        "colab": {
          "base_uri": "https://localhost:8080/",
          "height": 561
        }
      },
      "source": [
        "viz_res(SupportVectorMachine, TITLE=\"Support Vector Machine\")"
      ],
      "execution_count": null,
      "outputs": [
        {
          "output_type": "stream",
          "text": [
            "The PostScript backend does not support transparency; partially transparent artists will be rendered opaque.\n",
            "The PostScript backend does not support transparency; partially transparent artists will be rendered opaque.\n"
          ],
          "name": "stderr"
        },
        {
          "output_type": "display_data",
          "data": {
            "image/png": "[encoded data removed]",
            "text/plain": [
              "<Figure size 864x576 with 1 Axes>"
            ]
          },
          "metadata": {
            "tags": [],
            "needs_background": "light"
          }
        }
      ]
    },
    {
      "cell_type": "markdown",
      "metadata": {
        "id": "C2_IfaP_LhtY"
      },
      "source": [
        "# Decision Tree Classifier"
      ]
    },
    {
      "cell_type": "code",
      "metadata": {
        "id": "ykIBp6GF0GWX"
      },
      "source": [
        "DT = dict()"
      ],
      "execution_count": null,
      "outputs": []
    },
    {
      "cell_type": "code",
      "metadata": {
        "id": "sK-InFpYLjoa"
      },
      "source": [
        "# Train from Counts\n",
        "DT_from_Counts = Pipeline([(\"vec_count\",CountVectorizer()), (\"clf\",DecisionTreeClassifier())])\n",
        "DT_from_Counts.fit(twenty_train.data, twenty_train.target)\n",
        "# predict for training set\n",
        "pred_train = DT_from_Counts.predict(twenty_train.data)\n",
        "# predict for test set\n",
        "pred_test = DT_from_Counts.predict(twenty_test.data)\n",
        "# evaluate\n",
        "DT[\"Counts\"] = [evaluate(twenty_train.target, pred_train, which_set=\"Train\"), evaluate(twenty_test.target, pred_test, which_set=\"Test\")]"
      ],
      "execution_count": null,
      "outputs": []
    },
    {
      "cell_type": "code",
      "metadata": {
        "id": "v7TcVmGp0lGj"
      },
      "source": [
        "# Train from Term Frequency\n",
        "DT_from_TF = Pipeline([(\"vec_count\",CountVectorizer()), ('tf',TfidfTransformer(use_idf=False)), (\"clf\",DecisionTreeClassifier())])\n",
        "DT_from_TF.fit(twenty_train.data, twenty_train.target)\n",
        "# predict for training set\n",
        "pred_train = DT_from_TF.predict(twenty_train.data)\n",
        "# predict for test set\n",
        "pred_test = DT_from_TF.predict(twenty_test.data)\n",
        "# evaluate\n",
        "DT[\"TF\"]= [evaluate(twenty_train.target, pred_train, which_set=\"Train\"), evaluate(twenty_test.target, pred_test, which_set=\"Test\")]"
      ],
      "execution_count": null,
      "outputs": []
    },
    {
      "cell_type": "code",
      "metadata": {
        "id": "O5glVYWz4yO5"
      },
      "source": [
        "# Train from Term Frequency times Inverse Document Frequency\n",
        "DT_from_tfIDF = Pipeline([(\"vec_count\",CountVectorizer()), ('tfIDF',TfidfTransformer()), (\"clf\",DecisionTreeClassifier())])\n",
        "DT_from_tfIDF.fit(twenty_train.data, twenty_train.target)\n",
        "# predict for training set\n",
        "pred_train = DT_from_tfIDF.predict(twenty_train.data)\n",
        "# predict for test set\n",
        "pred_test = DT_from_tfIDF.predict(twenty_test.data)\n",
        "# evaluate\n",
        "DT[\"tfIDF\"]= [evaluate(twenty_train.target, pred_train, which_set=\"Train\"), evaluate(twenty_test.target, pred_test, which_set=\"Test\")]"
      ],
      "execution_count": null,
      "outputs": []
    },
    {
      "cell_type": "code",
      "metadata": {
        "id": "0Ox5tpBD0LSL",
        "outputId": "c183ef71-452e-4e65-8ec8-96b2076fd89b",
        "colab": {
          "base_uri": "https://localhost:8080/",
          "height": 141
        }
      },
      "source": [
        "# Organize results in a dataframe\n",
        "DecisionTree = pd.DataFrame(DT, index=[\"Train\",\"Test\"]).transpose()\n",
        "DecisionTree"
      ],
      "execution_count": null,
      "outputs": [
        {
          "output_type": "execute_result",
          "data": {
            "text/html": [
              "<div>\n",
              "<style scoped>\n",
              "    .dataframe tbody tr th:only-of-type {\n",
              "        vertical-align: middle;\n",
              "    }\n",
              "\n",
              "    .dataframe tbody tr th {\n",
              "        vertical-align: top;\n",
              "    }\n",
              "\n",
              "    .dataframe thead th {\n",
              "        text-align: right;\n",
              "    }\n",
              "</style>\n",
              "<table border=\"1\" class=\"dataframe\">\n",
              "  <thead>\n",
              "    <tr style=\"text-align: right;\">\n",
              "      <th></th>\n",
              "      <th>Train</th>\n",
              "      <th>Test</th>\n",
              "    </tr>\n",
              "  </thead>\n",
              "  <tbody>\n",
              "    <tr>\n",
              "      <th>Counts</th>\n",
              "      <td>(0.9999159663865547, 0.9999163879598661, 0.999...</td>\n",
              "      <td>(0.5637591479257171, 0.56203125484938, 0.56137...</td>\n",
              "    </tr>\n",
              "    <tr>\n",
              "      <th>TF</th>\n",
              "      <td>(0.9999159663865547, 0.9999163879598661, 0.999...</td>\n",
              "      <td>(0.5602432529981834, 0.5543757516256571, 0.555...</td>\n",
              "    </tr>\n",
              "    <tr>\n",
              "      <th>tfIDF</th>\n",
              "      <td>(0.9999159663865547, 0.9999163879598661, 0.999...</td>\n",
              "      <td>(0.5503363979057381, 0.5466831571540165, 0.546...</td>\n",
              "    </tr>\n",
              "  </tbody>\n",
              "</table>\n",
              "</div>"
            ],
            "text/plain": [
              "                                                    Train                                               Test\n",
              "Counts  (0.9999159663865547, 0.9999163879598661, 0.999...  (0.5637591479257171, 0.56203125484938, 0.56137...\n",
              "TF      (0.9999159663865547, 0.9999163879598661, 0.999...  (0.5602432529981834, 0.5543757516256571, 0.555...\n",
              "tfIDF   (0.9999159663865547, 0.9999163879598661, 0.999...  (0.5503363979057381, 0.5466831571540165, 0.546..."
            ]
          },
          "metadata": {
            "tags": []
          },
          "execution_count": 22
        }
      ]
    },
    {
      "cell_type": "code",
      "metadata": {
        "id": "--St8KRebkuz",
        "outputId": "f7005b70-1cc2-429a-a9c5-a82c8591ac04",
        "colab": {
          "base_uri": "https://localhost:8080/",
          "height": 561
        }
      },
      "source": [
        "viz_res(DecisionTree, TITLE=\"Decision Tree\", floor=0.5, ceiling=1.3)"
      ],
      "execution_count": null,
      "outputs": [
        {
          "output_type": "stream",
          "text": [
            "The PostScript backend does not support transparency; partially transparent artists will be rendered opaque.\n",
            "The PostScript backend does not support transparency; partially transparent artists will be rendered opaque.\n"
          ],
          "name": "stderr"
        },
        {
          "output_type": "display_data",
          "data": {
            "image/png": "[encoded data removed]",
            "text/plain": [
              "<Figure size 864x576 with 1 Axes>"
            ]
          },
          "metadata": {
            "tags": [],
            "needs_background": "light"
          }
        }
      ]
    },
    {
      "cell_type": "markdown",
      "metadata": {
        "id": "c9R8cHJ-CZ2K"
      },
      "source": [
        "# Random Forest Classifier"
      ]
    },
    {
      "cell_type": "code",
      "metadata": {
        "id": "GgpRD__SCc-Q"
      },
      "source": [
        "RF = dict()"
      ],
      "execution_count": null,
      "outputs": []
    },
    {
      "cell_type": "code",
      "metadata": {
        "id": "MOHUfKV0ClCP"
      },
      "source": [
        "# Train from Counts\n",
        "RF_from_Counts = Pipeline([(\"vec_count\",CountVectorizer()), (\"clf\",RandomForestClassifier())])\n",
        "RF_from_Counts.fit(twenty_train.data, twenty_train.target)\n",
        "# predict for training set\n",
        "pred_train = RF_from_Counts.predict(twenty_train.data)\n",
        "# predict for test set\n",
        "pred_test = RF_from_Counts.predict(twenty_test.data)\n",
        "# evaluate\n",
        "RF[\"Counts\"] = [evaluate(twenty_train.target, pred_train, which_set=\"Train\"), evaluate(twenty_test.target, pred_test, which_set=\"Test\")]"
      ],
      "execution_count": null,
      "outputs": []
    },
    {
      "cell_type": "code",
      "metadata": {
        "id": "2861Q2suDKqe"
      },
      "source": [
        "# Train from Term Frequency\n",
        "RF_from_TF = Pipeline([(\"vec_count\",CountVectorizer()), ('tf',TfidfTransformer(use_idf=False)), (\"clf\",RandomForestClassifier())])\n",
        "RF_from_TF.fit(twenty_train.data, twenty_train.target)\n",
        "# predict for training set\n",
        "pred_train = RF_from_TF.predict(twenty_train.data)\n",
        "# predict for test set\n",
        "pred_test = RF_from_TF.predict(twenty_test.data)\n",
        "# evaluate\n",
        "RF[\"TF\"]= [evaluate(twenty_train.target, pred_train, which_set=\"Train\"), evaluate(twenty_test.target, pred_test, which_set=\"Test\")]"
      ],
      "execution_count": null,
      "outputs": []
    },
    {
      "cell_type": "code",
      "metadata": {
        "id": "m4okBR6vDtTm"
      },
      "source": [
        "# Train from Term Frequency times Inverse Document Frequency\n",
        "RF_from_tfIDF = Pipeline([(\"vec_count\",CountVectorizer()), ('tfIDF',TfidfTransformer()), (\"clf\",RandomForestClassifier())])\n",
        "RF_from_tfIDF.fit(twenty_train.data, twenty_train.target)\n",
        "# predict for training set\n",
        "pred_train = RF_from_tfIDF.predict(twenty_train.data)\n",
        "# predict for test set\n",
        "pred_test = RF_from_tfIDF.predict(twenty_test.data)\n",
        "# evaluate\n",
        "RF[\"tfIDF\"]= [evaluate(twenty_train.target, pred_train, which_set=\"Train\"), evaluate(twenty_test.target, pred_test, which_set=\"Test\")]"
      ],
      "execution_count": null,
      "outputs": []
    },
    {
      "cell_type": "code",
      "metadata": {
        "id": "M_f6aU2lD52j",
        "outputId": "e53be2e6-cc87-4d27-e2da-16b89c3c2a1f",
        "colab": {
          "base_uri": "https://localhost:8080/",
          "height": 141
        }
      },
      "source": [
        "# Organize results in a datafram\n",
        "RandomForest = pd.DataFrame(RF, index=[\"Train\",\"Test\"]).transpose()\n",
        "RandomForest"
      ],
      "execution_count": null,
      "outputs": [
        {
          "output_type": "execute_result",
          "data": {
            "text/html": [
              "<div>\n",
              "<style scoped>\n",
              "    .dataframe tbody tr th:only-of-type {\n",
              "        vertical-align: middle;\n",
              "    }\n",
              "\n",
              "    .dataframe tbody tr th {\n",
              "        vertical-align: top;\n",
              "    }\n",
              "\n",
              "    .dataframe thead th {\n",
              "        text-align: right;\n",
              "    }\n",
              "</style>\n",
              "<table border=\"1\" class=\"dataframe\">\n",
              "  <thead>\n",
              "    <tr style=\"text-align: right;\">\n",
              "      <th></th>\n",
              "      <th>Train</th>\n",
              "      <th>Test</th>\n",
              "    </tr>\n",
              "  </thead>\n",
              "  <tbody>\n",
              "    <tr>\n",
              "      <th>Counts</th>\n",
              "      <td>(0.9999159663865547, 0.9999163879598661, 0.999...</td>\n",
              "      <td>(0.7743525816048078, 0.7518144600692968, 0.750...</td>\n",
              "    </tr>\n",
              "    <tr>\n",
              "      <th>TF</th>\n",
              "      <td>(0.9999165275459099, 0.9999158249158249, 0.999...</td>\n",
              "      <td>(0.7640406918350907, 0.7431608171065914, 0.740...</td>\n",
              "    </tr>\n",
              "    <tr>\n",
              "      <th>tfIDF</th>\n",
              "      <td>(0.9999159663865547, 0.9999163879598661, 0.999...</td>\n",
              "      <td>(0.7677631921700145, 0.7452064696869833, 0.743...</td>\n",
              "    </tr>\n",
              "  </tbody>\n",
              "</table>\n",
              "</div>"
            ],
            "text/plain": [
              "                                                    Train                                               Test\n",
              "Counts  (0.9999159663865547, 0.9999163879598661, 0.999...  (0.7743525816048078, 0.7518144600692968, 0.750...\n",
              "TF      (0.9999165275459099, 0.9999158249158249, 0.999...  (0.7640406918350907, 0.7431608171065914, 0.740...\n",
              "tfIDF   (0.9999159663865547, 0.9999163879598661, 0.999...  (0.7677631921700145, 0.7452064696869833, 0.743..."
            ]
          },
          "metadata": {
            "tags": []
          },
          "execution_count": 27
        }
      ]
    },
    {
      "cell_type": "code",
      "metadata": {
        "id": "mN3Ra9IVEFkn",
        "outputId": "e141815c-cee4-4d6c-8a88-1b1a6c3af491",
        "colab": {
          "base_uri": "https://localhost:8080/",
          "height": 561
        }
      },
      "source": [
        "viz_res(RandomForest, TITLE=\"Random Forest\", ceiling=1.3)"
      ],
      "execution_count": null,
      "outputs": [
        {
          "output_type": "stream",
          "text": [
            "The PostScript backend does not support transparency; partially transparent artists will be rendered opaque.\n",
            "The PostScript backend does not support transparency; partially transparent artists will be rendered opaque.\n"
          ],
          "name": "stderr"
        },
        {
          "output_type": "display_data",
          "data": {
            "image/png": "[encoded data removed]",
            "text/plain": [
              "<Figure size 864x576 with 1 Axes>"
            ]
          },
          "metadata": {
            "tags": [],
            "needs_background": "light"
          }
        }
      ]
    },
    {
      "cell_type": "code",
      "metadata": {
        "id": "gFco0jmjLt_M"
      },
      "source": [
        "RAW = dict()\n",
        "RAW[\"Naive Bayes\"] = NaiveBayes\n",
        "RAW[\"SVM\"] = SupportVectorMachine\n",
        "RAW[\"Decision Tree\"] = DecisionTree\n",
        "RAW[\"Random Forest\"] = RandomForest\n",
        "dump(RAW, open(\"RawMetrics.p\",\"wb\"))"
      ],
      "execution_count": null,
      "outputs": []
    },
    {
      "cell_type": "markdown",
      "metadata": {
        "id": "3juA5X1kLo_B"
      },
      "source": [
        "# Hyperparameters Tuning\n",
        "\n",
        "All classifiers work sufficiently well on the training set. We will only report the performance metrics on the test set, after tuning four hyperparameters."
      ]
    },
    {
      "cell_type": "code",
      "metadata": {
        "id": "fNgBEhsgfMV0"
      },
      "source": [
        "from sklearn.model_selection import GridSearchCV"
      ],
      "execution_count": null,
      "outputs": []
    },
    {
      "cell_type": "markdown",
      "metadata": {
        "id": "zk-8KnmrfwfA"
      },
      "source": [
        "# Tuned Performance of Classifiers"
      ]
    },
    {
      "cell_type": "code",
      "metadata": {
        "id": "qQw2INV_WkDS"
      },
      "source": [
        "DF   # row = feature, column = classifier, cell = (P,R,F)"
      ],
      "execution_count": null,
      "outputs": []
    },
    {
      "cell_type": "code",
      "metadata": {
        "id": "sEiL-3MLgPXg"
      },
      "source": [
        "def compare_viz(DF, TITLE=None, FigSize=(12,8), MarkerSize=10, fnts=18):\n",
        "    CLR = [\"darkorange\", \"darkviolet\", \"darkred\", \"dimgray\"]\n",
        "    pic,axs = plt.subplots(figsize=FigSize)\n",
        "    for i,row in enumerate(DF.index):\n",
        "        axs.plot(DF.columns, [ele.Precision for ele in DF.loc[row,]],\n",
        "                 color=CLR[i], marker='o', markersize=MarkerSize, linewidth=0,\n",
        "                 label=\"Precision by \"+str(row))\n",
        "        axs.plot(DF.columns, [ele.Recall for ele in DF.loc[row,]],\n",
        "                 color=CLR[i], marker='x', markersize=MarkerSize, linewidth=0,\n",
        "                 label=\"Recall by \"+str(row))\n",
        "        axs.plot(DF.columns, [ele.F1 for ele in DF.loc[row,]],\n",
        "                 color=CLR[i], marker='^', markersize=MarkerSize, linewidth=0,\n",
        "                 label=\"F1 by \"+str(row))\n",
        "    for elements in axs.lines:\n",
        "        xs = elements.get_xydata()[:,0]\n",
        "        jittered_xs = xs + np.random.uniform(-0.25, 0.25, xs.shape)\n",
        "        elements.set_xdata(jittered_xs)\n",
        "    axs.relim()\n",
        "    axs.autoscale(enable=True)\n",
        "    plt.xlabel(\"Classifier\", fontsize=fnts)\n",
        "    plt.ylabel(\"Accuracy Score\", fontsize=fnts)\n",
        "    plt.ylim(0,1)\n",
        "    plt.legend(loc=\"upper center\", fontsize=int(0.8*fnts), \n",
        "               bbox_to_anchor=(0.5, 1.2), ncol=3, fancybox=True)\n",
        "    if TITLE is not None:\n",
        "        plt.savefig(TITLE)\n",
        "    plt.show()"
      ],
      "execution_count": 14,
      "outputs": []
    },
    {
      "cell_type": "code",
      "metadata": {
        "id": "CfbdI-oFxlkW"
      },
      "source": [
        "compare_viz(DF)"
      ],
      "execution_count": null,
      "outputs": []
    }
  ]
}