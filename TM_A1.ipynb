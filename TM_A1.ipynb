{
  "nbformat": 4,
  "nbformat_minor": 0,
  "metadata": {
    "colab": {
      "name": "TM A1.ipynb",
      "provenance": [],
      "authorship_tag": "ABX9TyNMo+CIYyPfTr8ZrPhnYVGA",
      "include_colab_link": true
    },
    "kernelspec": {
      "name": "python3",
      "display_name": "Python 3"
    }
  },
  "cells": [
    {
      "cell_type": "markdown",
      "metadata": {
        "id": "view-in-github",
        "colab_type": "text"
      },
      "source": [
        "<a href=\"https://colab.research.google.com/github/PawinData/TM/blob/main/TM_A1.ipynb\" target=\"_parent\"><img src=\"https://colab.research.google.com/assets/colab-badge.svg\" alt=\"Open In Colab\"/></a>"
      ]
    },
    {
      "cell_type": "code",
      "metadata": {
        "id": "oeKCdb2tn9gQ"
      },
      "source": [
        "import numpy as np\n",
        "import pandas as pd\n",
        "import matplotlib.pyplot as plt\n",
        "from sklearn.datasets import fetch_20newsgroups\n",
        "from sklearn.feature_extraction.text import CountVectorizer, TfidfTransformer\n",
        "from sklearn.naive_bayes import MultinomialNB\n",
        "from sklearn.linear_model import SGDClassifier\n",
        "from sklearn.pipeline import Pipeline\n",
        "from sklearn.metrics import precision_score, recall_score, f1_score\n",
        "from collections import namedtuple"
      ],
      "execution_count": 37,
      "outputs": []
    },
    {
      "cell_type": "code",
      "metadata": {
        "id": "CoOxtALDpV88",
        "outputId": "7f9955ff-ba0e-4fe3-a0b4-a6c94391a77c",
        "colab": {
          "base_uri": "https://localhost:8080/"
        }
      },
      "source": [
        "twenty_train = fetch_20newsgroups(subset='train', shuffle=True, random_state=19)  # read in training set\n",
        "twenty_test  = fetch_20newsgroups(subset='test',  shuffle=True, random_state=29)  # read in test set\n",
        "\n",
        "print(\"There are\", len(twenty_train.filenames), \"files in the training set under\", len(twenty_train.target_names), \"categories: \\n\")\n",
        "for title in twenty_train.target_names:\n",
        "    print(title)\n",
        "print(\"\")\n",
        "print(\"There are\", len(twenty_test.filenames), \"files in the test set under\", len(twenty_test.target_names), \"categories.\")"
      ],
      "execution_count": 46,
      "outputs": [
        {
          "output_type": "stream",
          "text": [
            "There are 11314 files in the training set under 20 categories: \n",
            "\n",
            "alt.atheism\n",
            "comp.graphics\n",
            "comp.os.ms-windows.misc\n",
            "comp.sys.ibm.pc.hardware\n",
            "comp.sys.mac.hardware\n",
            "comp.windows.x\n",
            "misc.forsale\n",
            "rec.autos\n",
            "rec.motorcycles\n",
            "rec.sport.baseball\n",
            "rec.sport.hockey\n",
            "sci.crypt\n",
            "sci.electronics\n",
            "sci.med\n",
            "sci.space\n",
            "soc.religion.christian\n",
            "talk.politics.guns\n",
            "talk.politics.mideast\n",
            "talk.politics.misc\n",
            "talk.religion.misc\n",
            "\n",
            "There are 7532 files in the test set under 20 categories.\n"
          ],
          "name": "stdout"
        }
      ]
    },
    {
      "cell_type": "code",
      "metadata": {
        "id": "2hrNYHJa8mTo"
      },
      "source": [
        "# organize evaluation metrics with namedtuples\n",
        "Train = namedtuple(\"Train\", [\"Precision\",\"Recall\",\"F1\"])\n",
        "Test  = namedtuple(\"Test\", [\"Precision\",\"Recall\",\"F1\"])\n",
        "\n",
        "def evaluate(truth, predicted, which_set):\n",
        "    P = precision_score(truth, predicted, average=\"macro\")\n",
        "    R = recall_score(truth, predicted, average=\"macro\")\n",
        "    F = f1_score(truth, predicted, average=\"macro\")\n",
        "    if which_set==\"Train\":\n",
        "        return Train(P,R,F)  \n",
        "    else:\n",
        "         return Test(P,R,F)"
      ],
      "execution_count": 60,
      "outputs": []
    },
    {
      "cell_type": "code",
      "metadata": {
        "id": "Rg7_8-UiTIvx"
      },
      "source": [
        "\n",
        "\n",
        "def viz_res(DF, title=None, FigSize=(12,8), MarkerSize=12):\n",
        "    fig,ax = plt.subplots(figsize=FigSize)\n",
        "    for which_set in DF.columns:\n",
        "        CLR = \"darkblue\" if which_set==\"Train\" else \"darkolivegreen\"\n",
        "        ax.plot(DF.index, [cell.Precision for cell in DF[which_set]],\n",
        "                color=CLR, marker=\"o\", markersize=MarkerSize, linewidth=0,\n",
        "                label=\"Precision for \"+str(which_set)+\" Set\")\n",
        "        ax.plot(DF.index, [cell.Recall for cell in DF[which_set]],\n",
        "                color=CLR, marker=\"x\", markersize=MarkerSize, linewidth=0,\n",
        "                label=\"Recall for \"+str(which_set)+\" Set\")\n",
        "        ax.plot(DF.index, [cell.F1 for cell in DF[which_set]],\n",
        "                color=CLR, marker=\"^\", markersize=MarkerSize, linewidth=0,\n",
        "                label=\"F1 for \"+str(which_set)+\" Set\")\n",
        "    for elements in ax.lines:\n",
        "        xs = elements.get_xydata()[:,0]\n",
        "        jittered_xs = xs + np.random.uniform(-0.25, 0.25, xs.shape)\n",
        "        elements.set_xdata(jittered_xs)\n",
        "        ax.relim()\n",
        "        ax.autoscale(enable=True)\n",
        "    plt.xlabel(\"Feature\", fontsize=18)\n",
        "    plt.ylabel(\"Score\", fontsize=18)\n",
        "    plt.ylim((0.6,1.1))\n",
        "    plt.title(title, fontsize=20)\n",
        "    plt.legend(loc=\"upper center\", fontsize=16)\n",
        "    if title is not None:\n",
        "        plt.savefig(title+\".eps\")\n",
        "    plt.show()"
      ],
      "execution_count": 97,
      "outputs": []
    },
    {
      "cell_type": "markdown",
      "metadata": {
        "id": "Pec9cqfPAbWo"
      },
      "source": [
        "# Naive Bayes Classifier"
      ]
    },
    {
      "cell_type": "code",
      "metadata": {
        "id": "T2zcjgrr_aH-"
      },
      "source": [
        "NB = dict()"
      ],
      "execution_count": 65,
      "outputs": []
    },
    {
      "cell_type": "code",
      "metadata": {
        "id": "Rrk5GubJ38Wc"
      },
      "source": [
        "# Train from Counts\n",
        "NB_from_Counts = Pipeline([(\"vec_count\", CountVectorizer()), (\"clf\", MultinomialNB())])\n",
        "NB_from_Counts.fit(twenty_train.data, twenty_train.target)\n",
        "# predict for training set\n",
        "pred_train = NB_from_Counts.predict(twenty_train.data)\n",
        "# predict for test set\n",
        "pred_test = NB_from_Counts.predict(twenty_test.data)\n",
        "# evaluate\n",
        "NB[\"Counts\"] = [evaluate(twenty_train.target, pred_train, which_set=\"Train\"), evaluate(twenty_test.target, pred_test, which_set=\"Test\")]"
      ],
      "execution_count": 66,
      "outputs": []
    },
    {
      "cell_type": "code",
      "metadata": {
        "id": "KkUxvb2q7O6m"
      },
      "source": [
        "# Train from Term Frequency\n",
        "NB_from_TF = Pipeline([(\"vec_count\",CountVectorizer()), ('tf',TfidfTransformer(use_idf=False)), ('clf',MultinomialNB())])\n",
        "NB_from_TF.fit(twenty_train.data, twenty_train.target)\n",
        "# predict for training set\n",
        "pred_train = NB_from_TF.predict(twenty_train.data)\n",
        "# predict for test set\n",
        "pred_test = NB_from_TF.predict(twenty_test.data)\n",
        "# evaluate\n",
        "NB[\"TF\"] = [evaluate(twenty_train.target, pred_train, which_set=\"Train\"), evaluate(twenty_test.target, pred_test, which_set=\"Test\")]"
      ],
      "execution_count": 69,
      "outputs": []
    },
    {
      "cell_type": "code",
      "metadata": {
        "id": "b8RDarUYoJ7O"
      },
      "source": [
        "# Train from Term Frequency times Inverse Document Frequency\n",
        "NB_from_tfIDF = Pipeline([('vec_count',CountVectorizer()), ('tfidf',TfidfTransformer()), ('clf', MultinomialNB()),])\n",
        "NB_from_tfIDF.fit(twenty_train.data, twenty_train.target)\n",
        "# predict for training set\n",
        "pred_train = NB_from_tfIDF.predict(twenty_train.data)\n",
        "# predict for test set\n",
        "pred_test = NB_from_tfIDF.predict(twenty_test.data)\n",
        "# evaluate\n",
        "NB[\"tfIDF\"] = [evaluate(twenty_train.target, pred_train, which_set=\"Train\"), evaluate(twenty_test.target, pred_test, which_set=\"Test\")]"
      ],
      "execution_count": 71,
      "outputs": []
    },
    {
      "cell_type": "code",
      "metadata": {
        "id": "S1eVs7ftG47F",
        "outputId": "af5d1e17-2402-45ba-bee8-f629dc63baf5",
        "colab": {
          "base_uri": "https://localhost:8080/",
          "height": 141
        }
      },
      "source": [
        "# Organize results in a dataframe\n",
        "NaiveBayes = pd.DataFrame(NB, index=[\"Train\",\"Test\"]).transpose()\n",
        "NaiveBayes"
      ],
      "execution_count": 75,
      "outputs": [
        {
          "output_type": "execute_result",
          "data": {
            "text/html": [
              "<div>\n",
              "<style scoped>\n",
              "    .dataframe tbody tr th:only-of-type {\n",
              "        vertical-align: middle;\n",
              "    }\n",
              "\n",
              "    .dataframe tbody tr th {\n",
              "        vertical-align: top;\n",
              "    }\n",
              "\n",
              "    .dataframe thead th {\n",
              "        text-align: right;\n",
              "    }\n",
              "</style>\n",
              "<table border=\"1\" class=\"dataframe\">\n",
              "  <thead>\n",
              "    <tr style=\"text-align: right;\">\n",
              "      <th></th>\n",
              "      <th>Train</th>\n",
              "      <th>Test</th>\n",
              "    </tr>\n",
              "  </thead>\n",
              "  <tbody>\n",
              "    <tr>\n",
              "      <th>Counts</th>\n",
              "      <td>(0.9348166390487324, 0.9228833755043991, 0.910...</td>\n",
              "      <td>(0.7621626411174734, 0.7636463041415988, 0.745...</td>\n",
              "    </tr>\n",
              "    <tr>\n",
              "      <th>TF</th>\n",
              "      <td>(0.8929939646270284, 0.819943011113042, 0.8114...</td>\n",
              "      <td>(0.7924314057319584, 0.6821951093902918, 0.672...</td>\n",
              "    </tr>\n",
              "    <tr>\n",
              "      <th>tfIDF</th>\n",
              "      <td>(0.9459403301595009, 0.9191027839411532, 0.919...</td>\n",
              "      <td>(0.8255310124210137, 0.756525006352595, 0.7557...</td>\n",
              "    </tr>\n",
              "  </tbody>\n",
              "</table>\n",
              "</div>"
            ],
            "text/plain": [
              "                                                    Train                                               Test\n",
              "Counts  (0.9348166390487324, 0.9228833755043991, 0.910...  (0.7621626411174734, 0.7636463041415988, 0.745...\n",
              "TF      (0.8929939646270284, 0.819943011113042, 0.8114...  (0.7924314057319584, 0.6821951093902918, 0.672...\n",
              "tfIDF   (0.9459403301595009, 0.9191027839411532, 0.919...  (0.8255310124210137, 0.756525006352595, 0.7557..."
            ]
          },
          "metadata": {
            "tags": []
          },
          "execution_count": 75
        }
      ]
    },
    {
      "cell_type": "code",
      "metadata": {
        "id": "P77-2uEvYEQ6",
        "outputId": "aafab7f9-25b4-4305-c14c-55303297e9c3",
        "colab": {
          "base_uri": "https://localhost:8080/",
          "height": 561
        }
      },
      "source": [
        "viz_res(NaiveBayes, title=\"Naive Bayes\")"
      ],
      "execution_count": 98,
      "outputs": [
        {
          "output_type": "stream",
          "text": [
            "The PostScript backend does not support transparency; partially transparent artists will be rendered opaque.\n",
            "The PostScript backend does not support transparency; partially transparent artists will be rendered opaque.\n"
          ],
          "name": "stderr"
        },
        {
          "output_type": "display_data",
          "data": {
            "image/png": "[encoded data removed]",
            "text/plain": [
              "<Figure size 864x576 with 1 Axes>"
            ]
          },
          "metadata": {
            "tags": [],
            "needs_background": "light"
          }
        }
      ]
    },
    {
      "cell_type": "markdown",
      "metadata": {
        "id": "CvL6Rt4L3qyq"
      },
      "source": [
        "# Support Vector Machine"
      ]
    },
    {
      "cell_type": "code",
      "metadata": {
        "id": "aZQg9HgsO1En"
      },
      "source": [
        "SVM = dict()"
      ],
      "execution_count": 76,
      "outputs": []
    },
    {
      "cell_type": "code",
      "metadata": {
        "id": "HCF9mVYnFM7c"
      },
      "source": [
        "# Train from Counts\n",
        "SVM_from_Counts = Pipeline([('vec_count', CountVectorizer()), \n",
        "                            ('clf', SGDClassifier(loss='hinge',penalty='l2',alpha=1e-3, random_state=59,max_iter=5, tol=None)),\n",
        "                          ])\n",
        "SVM_from_Counts.fit(twenty_train.data, twenty_train.target)\n",
        "# predict for training set\n",
        "pred_train = SVM_from_Counts.predict(twenty_train.data)\n",
        "# predict for test set\n",
        "pred_test = SVM_from_Counts.predict(twenty_test.data)\n",
        "# evaluate\n",
        "SVM[\"Counts\"] = [evaluate(twenty_train.target, pred_train, which_set=\"Train\"), evaluate(twenty_test.target, pred_test, which_set=\"Test\")]"
      ],
      "execution_count": 77,
      "outputs": []
    },
    {
      "cell_type": "code",
      "metadata": {
        "id": "E9MJZHM1_4Ra"
      },
      "source": [
        "# Train from Term Frequency\n",
        "SVM_from_TF = Pipeline([('vec_count', CountVectorizer()),\n",
        "                        ('tf', TfidfTransformer(use_idf=False)),\n",
        "                        ('clf', SGDClassifier(loss='hinge',penalty='l2',alpha=1e-3, random_state=79,max_iter=5, tol=None)),\n",
        "                       ])\n",
        "SVM_from_TF.fit(twenty_train.data, twenty_train.target)\n",
        "# predict for training set\n",
        "pred_train = SVM_from_TF.predict(twenty_train.data)\n",
        "# predict for test set\n",
        "pred_test = SVM_from_TF.predict(twenty_test.data)\n",
        "# evaluate\n",
        "SVM[\"TF\"] = [evaluate(twenty_train.target, pred_train, which_set=\"Train\"), evaluate(twenty_test.target, pred_test, which_set=\"Test\")]"
      ],
      "execution_count": 79,
      "outputs": []
    },
    {
      "cell_type": "code",
      "metadata": {
        "id": "x1tPcs4r3tiM"
      },
      "source": [
        "# Train from Term Frequency times Inverse Document Frequency\n",
        "SVM_from_tfIDF = Pipeline([('vec_count', CountVectorizer()),\n",
        "                           ('tfIDF', TfidfTransformer()),\n",
        "                           ('clf', SGDClassifier(loss='hinge',penalty='l2',alpha=1e-3, random_state=89,max_iter=5, tol=None)),\n",
        "                          ])\n",
        "SVM_from_tfIDF.fit(twenty_train.data, twenty_train.target)\n",
        "# predict for training set\n",
        "pred_train = SVM_from_tfIDF.predict(twenty_train.data)\n",
        "# predict for test set\n",
        "pred_test = SVM_from_tfIDF.predict(twenty_test.data)\n",
        "# evaluate\n",
        "SVM[\"tfIDF\"] = [evaluate(twenty_train.target, pred_train, which_set=\"Train\"), evaluate(twenty_test.target, pred_test, which_set=\"Test\")]"
      ],
      "execution_count": 81,
      "outputs": []
    },
    {
      "cell_type": "code",
      "metadata": {
        "id": "KEww0q8-Sy5P",
        "outputId": "b5720847-7291-46b4-80d8-45694d6a0319",
        "colab": {
          "base_uri": "https://localhost:8080/",
          "height": 141
        }
      },
      "source": [
        "# Organize results in a dataframe\n",
        "SupportVectorMachine = pd.DataFrame(SVM, index=[\"Train\",\"Test\"]).transpose()\n",
        "SupportVectorMachine"
      ],
      "execution_count": 83,
      "outputs": [
        {
          "output_type": "execute_result",
          "data": {
            "text/html": [
              "<div>\n",
              "<style scoped>\n",
              "    .dataframe tbody tr th:only-of-type {\n",
              "        vertical-align: middle;\n",
              "    }\n",
              "\n",
              "    .dataframe tbody tr th {\n",
              "        vertical-align: top;\n",
              "    }\n",
              "\n",
              "    .dataframe thead th {\n",
              "        text-align: right;\n",
              "    }\n",
              "</style>\n",
              "<table border=\"1\" class=\"dataframe\">\n",
              "  <thead>\n",
              "    <tr style=\"text-align: right;\">\n",
              "      <th></th>\n",
              "      <th>Train</th>\n",
              "      <th>Test</th>\n",
              "    </tr>\n",
              "  </thead>\n",
              "  <tbody>\n",
              "    <tr>\n",
              "      <th>Counts</th>\n",
              "      <td>(0.9824892496018329, 0.9815918034591045, 0.981...</td>\n",
              "      <td>(0.7632170414670428, 0.7504747715611877, 0.752...</td>\n",
              "    </tr>\n",
              "    <tr>\n",
              "      <th>TF</th>\n",
              "      <td>(0.9176231701818622, 0.9055953533969816, 0.907...</td>\n",
              "      <td>(0.7789606373330445, 0.760413000061468, 0.7561...</td>\n",
              "    </tr>\n",
              "    <tr>\n",
              "      <th>tfIDF</th>\n",
              "      <td>(0.9676615733861244, 0.9619546416193036, 0.963...</td>\n",
              "      <td>(0.8267458608117908, 0.8120874662717542, 0.810...</td>\n",
              "    </tr>\n",
              "  </tbody>\n",
              "</table>\n",
              "</div>"
            ],
            "text/plain": [
              "                                                    Train                                               Test\n",
              "Counts  (0.9824892496018329, 0.9815918034591045, 0.981...  (0.7632170414670428, 0.7504747715611877, 0.752...\n",
              "TF      (0.9176231701818622, 0.9055953533969816, 0.907...  (0.7789606373330445, 0.760413000061468, 0.7561...\n",
              "tfIDF   (0.9676615733861244, 0.9619546416193036, 0.963...  (0.8267458608117908, 0.8120874662717542, 0.810..."
            ]
          },
          "metadata": {
            "tags": []
          },
          "execution_count": 83
        }
      ]
    },
    {
      "cell_type": "code",
      "metadata": {
        "id": "xGhWcTeWPCmi",
        "outputId": "a5f6921a-c2d0-4be9-a8b7-abd175989685",
        "colab": {
          "base_uri": "https://localhost:8080/",
          "height": 561
        }
      },
      "source": [
        "viz_res(SupportVectorMachine, title=\"Support Vector Machine\")"
      ],
      "execution_count": 109,
      "outputs": [
        {
          "output_type": "stream",
          "text": [
            "The PostScript backend does not support transparency; partially transparent artists will be rendered opaque.\n",
            "The PostScript backend does not support transparency; partially transparent artists will be rendered opaque.\n"
          ],
          "name": "stderr"
        },
        {
          "output_type": "display_data",
          "data": {
            "image/png": "[encoded data removed]",
            "text/plain": [
              "<Figure size 864x576 with 1 Axes>"
            ]
          },
          "metadata": {
            "tags": [],
            "needs_background": "light"
          }
        }
      ]
    },
    {
      "cell_type": "markdown",
      "metadata": {
        "id": "C2_IfaP_LhtY"
      },
      "source": [
        "# Decision Trees"
      ]
    },
    {
      "cell_type": "code",
      "metadata": {
        "id": "sK-InFpYLjoa"
      },
      "source": [
        ""
      ],
      "execution_count": null,
      "outputs": []
    },
    {
      "cell_type": "markdown",
      "metadata": {
        "id": "3juA5X1kLo_B"
      },
      "source": [
        "# Compare"
      ]
    },
    {
      "cell_type": "code",
      "metadata": {
        "id": "gFco0jmjLt_M"
      },
      "source": [
        "Evaluations = dict()\n",
        "Evaluations[\"Naive Bayes\"] = NaiveBayes"
      ],
      "execution_count": null,
      "outputs": []
    }
  ]
}